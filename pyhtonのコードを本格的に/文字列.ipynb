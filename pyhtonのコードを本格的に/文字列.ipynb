{
 "cells": [
  {
   "cell_type": "code",
   "execution_count": null,
   "id": "9896a53d-9a4e-4837-988c-c7b1d99b3291",
   "metadata": {},
   "outputs": [],
   "source": [
    "print('Hello')"
   ]
  },
  {
   "cell_type": "code",
   "execution_count": null,
   "id": "c697f887-942e-48ed-a920-2d74f9fa77cb",
   "metadata": {},
   "outputs": [],
   "source": [
    "print(\"Hello\")"
   ]
  },
  {
   "cell_type": "code",
   "execution_count": null,
   "id": "8e6410b1-7c6b-44d9-9312-014ab470c790",
   "metadata": {},
   "outputs": [],
   "source": [
    "print(\"I don't know\")"
   ]
  },
  {
   "cell_type": "code",
   "execution_count": null,
   "id": "a168bd20-fabe-4a01-9791-1fa475326d76",
   "metadata": {},
   "outputs": [],
   "source": [
    "# 文章中にカンマがある場合''でなく\"\"にしないとエラーになる"
   ]
  },
  {
   "cell_type": "code",
   "execution_count": null,
   "id": "6673d225-4138-47fa-9fb9-dada0098081e",
   "metadata": {},
   "outputs": [],
   "source": [
    "print('I don\\'t know')"
   ]
  },
  {
   "cell_type": "code",
   "execution_count": null,
   "id": "1c06fa74-e502-4e76-a3bc-243f2a78673c",
   "metadata": {},
   "outputs": [],
   "source": [
    "# どうしてもやるならこのように書く"
   ]
  },
  {
   "cell_type": "code",
   "execution_count": null,
   "id": "0c7ba111-88bb-4b9e-93c3-b233f0c15778",
   "metadata": {},
   "outputs": [],
   "source": [
    "print('say \"I don\\'t know\"')"
   ]
  },
  {
   "cell_type": "code",
   "execution_count": null,
   "id": "98f9b874-0184-480f-be85-948c8ff82f15",
   "metadata": {},
   "outputs": [],
   "source": [
    "print(\"say \\\"I don\\'t know\"\\\")"
   ]
  },
  {
   "cell_type": "code",
   "execution_count": null,
   "id": "47694010-c446-4726-bcfe-2d8e1d2fcb97",
   "metadata": {},
   "outputs": [],
   "source": [
    "# シングルダブルが被さらないように調整が必要"
   ]
  },
  {
   "cell_type": "code",
   "execution_count": null,
   "id": "52a67349-fd35-452e-9fde-94e85b537c99",
   "metadata": {},
   "outputs": [],
   "source": [
    "print(\"say \\\"I don\\'t know\"\\\")"
   ]
  },
  {
   "cell_type": "code",
   "execution_count": null,
   "id": "4d353c29-327c-40a2-91ab-090d34d0a8d1",
   "metadata": {},
   "outputs": [],
   "source": [
    "print(\"Hello.\\n\"How are you?\")"
   ]
  },
  {
   "cell_type": "code",
   "execution_count": null,
   "id": "fb5734c1-d233-453f-9343-0a59b3912fdf",
   "metadata": {},
   "outputs": [],
   "source": [
    "# 改行"
   ]
  },
  {
   "cell_type": "code",
   "execution_count": null,
   "id": "07203d1d-dbd2-4e25-bdcf-4f5d2f815a83",
   "metadata": {},
   "outputs": [],
   "source": []
  }
 ],
 "metadata": {
  "kernelspec": {
   "display_name": "Python 3 (ipykernel)",
   "language": "python",
   "name": "python3"
  },
  "language_info": {
   "codemirror_mode": {
    "name": "ipython",
    "version": 3
   },
   "file_extension": ".py",
   "mimetype": "text/x-python",
   "name": "python",
   "nbconvert_exporter": "python",
   "pygments_lexer": "ipython3",
   "version": "3.11.4"
  }
 },
 "nbformat": 4,
 "nbformat_minor": 5
}
