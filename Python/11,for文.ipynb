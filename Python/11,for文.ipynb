{
 "cells": [
  {
   "cell_type": "code",
   "execution_count": 1,
   "id": "3a135fd3-368c-417d-9022-3421fff97379",
   "metadata": {},
   "outputs": [
    {
     "name": "stdout",
     "output_type": "stream",
     "text": [
      "1 月のデータです。　\n",
      "2 月のデータです。　\n",
      "3 月のデータです。　\n",
      "4 月のデータです。　\n",
      "5 月のデータです。　\n",
      "6 月のデータです。　\n",
      "7 月のデータです。　\n",
      "8 月のデータです。　\n",
      "9 月のデータです。　\n",
      "10 月のデータです。　\n",
      "11 月のデータです。　\n",
      "12 月のデータです。　\n"
     ]
    }
   ],
   "source": [
    "for i in range(12):\n",
    "    print(i + 1, \"月のデータです。　\")"
   ]
  },
  {
   "cell_type": "code",
   "execution_count": 2,
   "id": "1522aaf7-8e79-49d9-a0ee-ae570ca72654",
   "metadata": {},
   "outputs": [],
   "source": [
    "# for i in 繰り返し処理できる仕組み:"
   ]
  },
  {
   "cell_type": "code",
   "execution_count": 3,
   "id": "bdb85249-30e2-45fc-98e3-387d80bb417e",
   "metadata": {},
   "outputs": [],
   "source": [
    "# 繰り返し処理できる仕組みはいろんな種類がある"
   ]
  },
  {
   "cell_type": "code",
   "execution_count": 4,
   "id": "12969d71-e1dd-43e6-b74b-868d4b8b6d2a",
   "metadata": {},
   "outputs": [],
   "source": [
    "# range(個数) => iは０から繰り返す"
   ]
  },
  {
   "cell_type": "code",
   "execution_count": 5,
   "id": "738f2a9e-0f58-4ea9-a10e-02b453520db3",
   "metadata": {},
   "outputs": [],
   "source": [
    "# ↓にある2つをカットしている"
   ]
  },
  {
   "cell_type": "code",
   "execution_count": null,
   "id": "4a50d824-b466-41ea-95c4-93d84bb2e04f",
   "metadata": {},
   "outputs": [],
   "source": []
  },
  {
   "cell_type": "code",
   "execution_count": 6,
   "id": "b9d74907-ae2b-40f8-b219-fe29f66ad6ee",
   "metadata": {},
   "outputs": [
    {
     "name": "stdout",
     "output_type": "stream",
     "text": [
      "1 月のデータです。　\n",
      "2 月のデータです。　\n",
      "3 月のデータです。　\n",
      "4 月のデータです。　\n",
      "5 月のデータです。　\n",
      "6 月のデータです。　\n",
      "7 月のデータです。　\n",
      "8 月のデータです。　\n",
      "9 月のデータです。　\n",
      "10 月のデータです。　\n",
      "11 月のデータです。　\n",
      "12 月のデータです。　\n"
     ]
    }
   ],
   "source": [
    "for i in range(1, 13):\n",
    "    print(i, \"月のデータです。　\")"
   ]
  },
  {
   "cell_type": "code",
   "execution_count": 7,
   "id": "0c13b788-2e97-411d-b991-7957b53c38e2",
   "metadata": {},
   "outputs": [],
   "source": [
    "# range(開始値, 停止値, 間隔) => iは０から繰り返す"
   ]
  },
  {
   "cell_type": "code",
   "execution_count": 8,
   "id": "674745c1-d612-41c0-8a54-26b46a6c460b",
   "metadata": {},
   "outputs": [],
   "source": [
    "# 上の場合　　０のところを1から開始, 0から13になるとこつまり12まで, 間隔は何もない場合は1"
   ]
  },
  {
   "cell_type": "code",
   "execution_count": null,
   "id": "32db11d2-a092-434e-a6e0-2bb32c99dda5",
   "metadata": {},
   "outputs": [],
   "source": []
  },
  {
   "cell_type": "code",
   "execution_count": 9,
   "id": "091076c6-9ed2-46f4-96a8-2cd6f3831e88",
   "metadata": {},
   "outputs": [
    {
     "name": "stdout",
     "output_type": "stream",
     "text": [
      "1 月のデータです。　\n",
      "2 月のデータです。　\n",
      "3 月のデータです。　\n",
      "4 月のデータです。　\n",
      "5 月のデータです。　\n",
      "6 月のデータです。　\n",
      "7 月のデータです。　\n",
      "8 月のデータです。　\n",
      "9 月のデータです。　\n",
      "10 月のデータです。　\n",
      "11 月のデータです。　\n",
      "12 月のデータです。　\n"
     ]
    }
   ],
   "source": [
    "for i in range(1, 13, 1):\n",
    "    print(i, \"月のデータです。　\")"
   ]
  },
  {
   "cell_type": "code",
   "execution_count": 10,
   "id": "6116cff1-aec9-4a06-aa60-836498666807",
   "metadata": {},
   "outputs": [],
   "source": [
    "# 5列目と同じ内容"
   ]
  },
  {
   "cell_type": "code",
   "execution_count": null,
   "id": "4c31cdc9-3a0f-4b1d-b1ed-61645815a862",
   "metadata": {},
   "outputs": [],
   "source": []
  },
  {
   "cell_type": "code",
   "execution_count": 11,
   "id": "d0da4918-2bf0-45b9-8a2a-f3c09a77975c",
   "metadata": {},
   "outputs": [
    {
     "name": "stdout",
     "output_type": "stream",
     "text": [
      "0 月のデータです。　\n",
      "2 月のデータです。　\n",
      "4 月のデータです。　\n",
      "6 月のデータです。　\n",
      "8 月のデータです。　\n"
     ]
    }
   ],
   "source": [
    "for i in range(0, 10, 2):\n",
    "    print(i, \"月のデータです。　\")"
   ]
  },
  {
   "cell_type": "code",
   "execution_count": 12,
   "id": "1958f8d0-7774-43bb-af9e-21a39f559270",
   "metadata": {},
   "outputs": [],
   "source": [
    "# 後ほど追加"
   ]
  },
  {
   "cell_type": "code",
   "execution_count": null,
   "id": "4d977832-64fd-4fd8-8d07-01241cd0ce93",
   "metadata": {},
   "outputs": [],
   "source": []
  },
  {
   "cell_type": "code",
   "execution_count": 13,
   "id": "2af06a71-9697-4872-b619-00137c6a1723",
   "metadata": {},
   "outputs": [
    {
     "name": "stdout",
     "output_type": "stream",
     "text": [
      "10 月のデータです。　\n",
      "8 月のデータです。　\n",
      "6 月のデータです。　\n",
      "4 月のデータです。　\n",
      "2 月のデータです。　\n"
     ]
    }
   ],
   "source": [
    "for i in range(10, 0, -2):\n",
    "    print(i, \"月のデータです。　\")"
   ]
  },
  {
   "cell_type": "code",
   "execution_count": 14,
   "id": "fe08dea2-2265-43d5-bec8-0e08bd5a3a43",
   "metadata": {},
   "outputs": [],
   "source": [
    "# 後ほど追加"
   ]
  }
 ],
 "metadata": {
  "kernelspec": {
   "display_name": "Python 3 (ipykernel)",
   "language": "python",
   "name": "python3"
  },
  "language_info": {
   "codemirror_mode": {
    "name": "ipython",
    "version": 3
   },
   "file_extension": ".py",
   "mimetype": "text/x-python",
   "name": "python",
   "nbconvert_exporter": "python",
   "pygments_lexer": "ipython3",
   "version": "3.11.4"
  }
 },
 "nbformat": 4,
 "nbformat_minor": 5
}
