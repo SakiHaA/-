{
 "cells": [
  {
   "cell_type": "code",
   "execution_count": 1,
   "id": "e040cf0b-1266-47fd-b69a-8a28a9482f51",
   "metadata": {},
   "outputs": [],
   "source": [
    "sale = [80, 60, 22, 50, 75]"
   ]
  },
  {
   "cell_type": "code",
   "execution_count": 2,
   "id": "81333529-2c78-4712-8543-e9ed479d3b9f",
   "metadata": {},
   "outputs": [],
   "source": [
    "# リスト名 = [値1, 値2,...]  もしくは sale[]"
   ]
  },
  {
   "cell_type": "code",
   "execution_count": 3,
   "id": "e577aac1-98f5-4524-9ef9-eb689a51e1c0",
   "metadata": {},
   "outputs": [
    {
     "name": "stdout",
     "output_type": "stream",
     "text": [
      "[80, 60, 22, 50, 75]\n"
     ]
    }
   ],
   "source": [
    "print(sale)"
   ]
  },
  {
   "cell_type": "code",
   "execution_count": 4,
   "id": "b4392c74-0e9b-4ce2-85d1-45d39602de95",
   "metadata": {},
   "outputs": [],
   "source": [
    "# ↑リストを作成しているので..."
   ]
  },
  {
   "cell_type": "code",
   "execution_count": 5,
   "id": "b7daa86c-87ea-447b-938c-90aee721c406",
   "metadata": {},
   "outputs": [],
   "source": [
    "# sale[0]\n",
    "# sale[1] などのように表せる"
   ]
  },
  {
   "cell_type": "code",
   "execution_count": null,
   "id": "fe3743de-b7fa-41ca-9932-4061e285194a",
   "metadata": {},
   "outputs": [],
   "source": []
  },
  {
   "cell_type": "code",
   "execution_count": 6,
   "id": "3fb04e3e-f398-480e-afd6-b9c1e594341f",
   "metadata": {},
   "outputs": [],
   "source": [
    "sale = [80, 60, 22, 50, 75]"
   ]
  },
  {
   "cell_type": "code",
   "execution_count": 7,
   "id": "774ea015-25ea-4780-8eb1-c72acf210ca2",
   "metadata": {},
   "outputs": [
    {
     "name": "stdout",
     "output_type": "stream",
     "text": [
      "80\n"
     ]
    }
   ],
   "source": [
    "print(sale[0])"
   ]
  },
  {
   "cell_type": "code",
   "execution_count": 8,
   "id": "52981b9c-6887-42a2-b64b-0f4e67e92454",
   "metadata": {},
   "outputs": [
    {
     "name": "stdout",
     "output_type": "stream",
     "text": [
      "60\n"
     ]
    }
   ],
   "source": [
    "print(sale[1])"
   ]
  },
  {
   "cell_type": "code",
   "execution_count": 9,
   "id": "3ebaa6dc-c71a-41ec-a72a-f0e5c4400653",
   "metadata": {},
   "outputs": [
    {
     "name": "stdout",
     "output_type": "stream",
     "text": [
      "22\n"
     ]
    }
   ],
   "source": [
    "print(sale[2])"
   ]
  },
  {
   "cell_type": "code",
   "execution_count": 10,
   "id": "eea65542-152a-4983-b892-bd3713e8391c",
   "metadata": {},
   "outputs": [
    {
     "name": "stdout",
     "output_type": "stream",
     "text": [
      "50\n"
     ]
    }
   ],
   "source": [
    "print(sale[3])"
   ]
  },
  {
   "cell_type": "code",
   "execution_count": 11,
   "id": "17e6c1c1-46bd-4fff-a85b-ed6fb24d50d4",
   "metadata": {},
   "outputs": [
    {
     "name": "stdout",
     "output_type": "stream",
     "text": [
      "75\n"
     ]
    }
   ],
   "source": [
    "print(sale[4])"
   ]
  },
  {
   "cell_type": "code",
   "execution_count": 12,
   "id": "e86e6f00-2f6a-41a1-8819-7e0b59085fe1",
   "metadata": {},
   "outputs": [
    {
     "name": "stdout",
     "output_type": "stream",
     "text": [
      "リストの長さは 5 です\n"
     ]
    }
   ],
   "source": [
    "print(\"リストの長さは\", len(sale), \"です\")"
   ]
  },
  {
   "cell_type": "code",
   "execution_count": 13,
   "id": "db1c70b0-17e4-4658-b87c-9b64c29e7423",
   "metadata": {},
   "outputs": [],
   "source": [
    "# len()  長さ(個数)を表す"
   ]
  }
 ],
 "metadata": {
  "kernelspec": {
   "display_name": "Python 3 (ipykernel)",
   "language": "python",
   "name": "python3"
  },
  "language_info": {
   "codemirror_mode": {
    "name": "ipython",
    "version": 3
   },
   "file_extension": ".py",
   "mimetype": "text/x-python",
   "name": "python",
   "nbconvert_exporter": "python",
   "pygments_lexer": "ipython3",
   "version": "3.11.4"
  }
 },
 "nbformat": 4,
 "nbformat_minor": 5
}
