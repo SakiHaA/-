{
 "cells": [
  {
   "cell_type": "code",
   "execution_count": 1,
   "id": "ad55d599-1cac-4c10-a19e-e93ad7f63814",
   "metadata": {},
   "outputs": [],
   "source": [
    "sale1 = [1, 2, 3, 4, 5, 6]"
   ]
  },
  {
   "cell_type": "code",
   "execution_count": 2,
   "id": "651fce4c-7134-4cb4-89e0-f447d51f270e",
   "metadata": {},
   "outputs": [
    {
     "name": "stdout",
     "output_type": "stream",
     "text": [
      "上半期のデータは [1, 2, 3, 4, 5, 6] です。\n"
     ]
    }
   ],
   "source": [
    "print(\"上半期のデータは\", sale1, \"です。\")"
   ]
  },
  {
   "cell_type": "code",
   "execution_count": null,
   "id": "24fe3915-3335-4ac9-83d7-e182be588f4d",
   "metadata": {},
   "outputs": [],
   "source": []
  },
  {
   "cell_type": "code",
   "execution_count": 3,
   "id": "19dabbb9-337b-45d9-857d-294b01a18162",
   "metadata": {},
   "outputs": [],
   "source": [
    "sale2 = [7, 8, 9, 10, 11, 12]"
   ]
  },
  {
   "cell_type": "code",
   "execution_count": 4,
   "id": "a27b2d67-2eaa-46a4-bb97-b49d11fd8ba5",
   "metadata": {},
   "outputs": [
    {
     "name": "stdout",
     "output_type": "stream",
     "text": [
      "上半期のデータは [7, 8, 9, 10, 11, 12] です。\n"
     ]
    }
   ],
   "source": [
    "print(\"上半期のデータは\", sale2, \"です。\")"
   ]
  },
  {
   "cell_type": "code",
   "execution_count": 5,
   "id": "b6e852e0-62f2-4665-904c-0d0d2148f197",
   "metadata": {},
   "outputs": [],
   "source": [
    "plussale = sale1 + sale2"
   ]
  },
  {
   "cell_type": "code",
   "execution_count": null,
   "id": "e0f625f2-c063-4d19-a3b5-3b3fb08c5bb3",
   "metadata": {},
   "outputs": [],
   "source": []
  },
  {
   "cell_type": "code",
   "execution_count": 6,
   "id": "59626ce6-b38f-4d6e-acae-e9bb215eb0f8",
   "metadata": {},
   "outputs": [
    {
     "name": "stdout",
     "output_type": "stream",
     "text": [
      "年間のデータは [1, 2, 3, 4, 5, 6, 7, 8, 9, 10, 11, 12] です。\n"
     ]
    }
   ],
   "source": [
    "print(\"年間のデータは\", plussale, \"です。\")"
   ]
  }
 ],
 "metadata": {
  "kernelspec": {
   "display_name": "Python 3 (ipykernel)",
   "language": "python",
   "name": "python3"
  },
  "language_info": {
   "codemirror_mode": {
    "name": "ipython",
    "version": 3
   },
   "file_extension": ".py",
   "mimetype": "text/x-python",
   "name": "python",
   "nbconvert_exporter": "python",
   "pygments_lexer": "ipython3",
   "version": "3.11.4"
  }
 },
 "nbformat": 4,
 "nbformat_minor": 5
}
