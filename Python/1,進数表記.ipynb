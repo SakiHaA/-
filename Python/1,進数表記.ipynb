{
 "cells": [
  {
   "cell_type": "code",
   "execution_count": 1,
   "id": "e1fb2891-dbf0-45fb-ae6b-f805ed011952",
   "metadata": {},
   "outputs": [
    {
     "name": "stdout",
     "output_type": "stream",
     "text": [
      "2進数の10は 2 です\n"
     ]
    }
   ],
   "source": [
    "print(\"2進数の10は\", 0b10, \"です\")"
   ]
  },
  {
   "cell_type": "code",
   "execution_count": 2,
   "id": "e2a532b3-a2a0-4f5c-b3f6-a2b74d1e522b",
   "metadata": {},
   "outputs": [],
   "source": [
    "# 2進数を表す際は先頭に0b"
   ]
  },
  {
   "cell_type": "code",
   "execution_count": 3,
   "id": "88c20acc-0b67-4051-93f3-45da736533ed",
   "metadata": {},
   "outputs": [
    {
     "name": "stdout",
     "output_type": "stream",
     "text": [
      "8進数の10は 8 です\n"
     ]
    }
   ],
   "source": [
    "print(\"8進数の10は\", 0o10, \"です\")"
   ]
  },
  {
   "cell_type": "code",
   "execution_count": 4,
   "id": "d0e49ea8-34c7-4b88-88ad-5902ea6aa0e0",
   "metadata": {},
   "outputs": [],
   "source": [
    "# 8進数を表す際は先頭に0o"
   ]
  },
  {
   "cell_type": "code",
   "execution_count": 5,
   "id": "8499974a-f1a7-4138-9ea2-d178284e0b9c",
   "metadata": {},
   "outputs": [
    {
     "name": "stdout",
     "output_type": "stream",
     "text": [
      "10進数の10は 10 です\n"
     ]
    }
   ],
   "source": [
    "print(\"10進数の10は\", 10, \"です\")"
   ]
  },
  {
   "cell_type": "code",
   "execution_count": 6,
   "id": "bcd90cbf-0513-4118-b47c-a786d8eb038a",
   "metadata": {},
   "outputs": [
    {
     "name": "stdout",
     "output_type": "stream",
     "text": [
      "16進数の10は 16 です\n"
     ]
    }
   ],
   "source": [
    "print(\"16進数の10は\", 0x10, \"です\")"
   ]
  },
  {
   "cell_type": "code",
   "execution_count": 7,
   "id": "4254308f-4f92-4ace-bbd5-7c1109025e75",
   "metadata": {},
   "outputs": [],
   "source": [
    "# 16進数を表す際は先頭に0x"
   ]
  }
 ],
 "metadata": {
  "kernelspec": {
   "display_name": "Python 3 (ipykernel)",
   "language": "python",
   "name": "python3"
  },
  "language_info": {
   "codemirror_mode": {
    "name": "ipython",
    "version": 3
   },
   "file_extension": ".py",
   "mimetype": "text/x-python",
   "name": "python",
   "nbconvert_exporter": "python",
   "pygments_lexer": "ipython3",
   "version": "3.11.4"
  }
 },
 "nbformat": 4,
 "nbformat_minor": 5
}
