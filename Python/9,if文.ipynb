{
 "cells": [
  {
   "cell_type": "code",
   "execution_count": 1,
   "id": "47ada01f-547e-4489-bba5-11ab2c6b50e6",
   "metadata": {},
   "outputs": [
    {
     "name": "stdin",
     "output_type": "stream",
     "text": [
      "売上を入力します。 1234\n"
     ]
    }
   ],
   "source": [
    "sale = int(input(\"売上を入力します。\"))"
   ]
  },
  {
   "cell_type": "code",
   "execution_count": 2,
   "id": "b85e0e22-a25e-40fc-917b-85a71efcde57",
   "metadata": {},
   "outputs": [
    {
     "name": "stdout",
     "output_type": "stream",
     "text": [
      "売上は順調です。\n"
     ]
    }
   ],
   "source": [
    "if sale >= 100:\n",
    "    print(\"売上は順調です。\")"
   ]
  },
  {
   "cell_type": "code",
   "execution_count": 3,
   "id": "f075f7b8-90c7-4d58-8012-133601b653fd",
   "metadata": {},
   "outputs": [],
   "source": [
    "# 条件の後ろに:を忘れずに"
   ]
  },
  {
   "cell_type": "code",
   "execution_count": 4,
   "id": "a1cf51ac-edf9-48e2-aa33-2985843dc3db",
   "metadata": {},
   "outputs": [
    {
     "name": "stdout",
     "output_type": "stream",
     "text": [
      "処理を終了します。\n"
     ]
    }
   ],
   "source": [
    "print(\"処理を終了します。\")"
   ]
  },
  {
   "cell_type": "code",
   "execution_count": null,
   "id": "e1cffc47-3870-4e58-954a-8e831bd44640",
   "metadata": {},
   "outputs": [],
   "source": []
  },
  {
   "cell_type": "code",
   "execution_count": null,
   "id": "1cbf87ef-411f-431c-89e3-366e5115b10b",
   "metadata": {},
   "outputs": [],
   "source": []
  },
  {
   "cell_type": "code",
   "execution_count": null,
   "id": "d37aaebc-01cb-4d6f-997a-e5df77085ef9",
   "metadata": {},
   "outputs": [],
   "source": []
  },
  {
   "cell_type": "code",
   "execution_count": null,
   "id": "f64e373e-dc0b-4d44-82a9-e6022e331ccc",
   "metadata": {},
   "outputs": [],
   "source": []
  },
  {
   "cell_type": "markdown",
   "id": "1b240f5e-4a4c-4bb3-8f1a-25facf0f91cd",
   "metadata": {},
   "source": [
    "# "
   ]
  }
 ],
 "metadata": {
  "kernelspec": {
   "display_name": "Python 3 (ipykernel)",
   "language": "python",
   "name": "python3"
  },
  "language_info": {
   "codemirror_mode": {
    "name": "ipython",
    "version": 3
   },
   "file_extension": ".py",
   "mimetype": "text/x-python",
   "name": "python",
   "nbconvert_exporter": "python",
   "pygments_lexer": "ipython3",
   "version": "3.11.4"
  }
 },
 "nbformat": 4,
 "nbformat_minor": 5
}
