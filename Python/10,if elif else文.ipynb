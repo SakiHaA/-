{
 "cells": [
  {
   "cell_type": "code",
   "execution_count": 1,
   "id": "ef4e616c-e500-4d4c-8ae0-f6efac2db56b",
   "metadata": {},
   "outputs": [
    {
     "name": "stdin",
     "output_type": "stream",
     "text": [
      "売上を入力してください。 123\n"
     ]
    }
   ],
   "source": [
    "sale = int(input(\"売上を入力してください。\"))"
   ]
  },
  {
   "cell_type": "code",
   "execution_count": 2,
   "id": "9dad876c-ed22-4367-83ca-aa649a539dfa",
   "metadata": {},
   "outputs": [
    {
     "name": "stdout",
     "output_type": "stream",
     "text": [
      "売上は順調です。\n"
     ]
    }
   ],
   "source": [
    "if sale >= 100:\n",
    "    print(\"売上は順調です。\")\n",
    "elif sale >= 50:\n",
    "    print(\"売上は普通です。\")\n",
    "else:\n",
    "    print(\"売上は低調です。\")"
   ]
  },
  {
   "cell_type": "code",
   "execution_count": 3,
   "id": "132ea4bf-989b-4f47-8ac7-17ee83493b6e",
   "metadata": {},
   "outputs": [
    {
     "name": "stdout",
     "output_type": "stream",
     "text": [
      "処理を終了します。\n"
     ]
    }
   ],
   "source": [
    "print(\"処理を終了します。\")"
   ]
  },
  {
   "cell_type": "code",
   "execution_count": 4,
   "id": "60ae0677-d43b-4a2a-ada6-e25f591fe616",
   "metadata": {},
   "outputs": [],
   "source": [
    "# elifを複数おける"
   ]
  },
  {
   "cell_type": "code",
   "execution_count": null,
   "id": "365d1721-b038-41a8-94e0-2ac3b547ff20",
   "metadata": {},
   "outputs": [],
   "source": []
  },
  {
   "cell_type": "code",
   "execution_count": 5,
   "id": "a7016dd7-fcab-40b6-b6f1-d3e2212e06fb",
   "metadata": {},
   "outputs": [
    {
     "name": "stdin",
     "output_type": "stream",
     "text": [
      "売上を入力してください。 12\n"
     ]
    }
   ],
   "source": [
    "sale = int(input(\"売上を入力してください。\"))"
   ]
  },
  {
   "cell_type": "code",
   "execution_count": 6,
   "id": "68f8706b-23a9-4d15-90b5-486da4d8a560",
   "metadata": {},
   "outputs": [
    {
     "name": "stdin",
     "output_type": "stream",
     "text": [
      "人数を入力してください。 1\n"
     ]
    }
   ],
   "source": [
    "num = int(input(\"人数を入力してください。\"))"
   ]
  },
  {
   "cell_type": "code",
   "execution_count": 7,
   "id": "bd6410d4-3b90-4e01-ab04-3daf03b669e0",
   "metadata": {},
   "outputs": [
    {
     "name": "stdout",
     "output_type": "stream",
     "text": [
      "売上は低調です。\n"
     ]
    }
   ],
   "source": [
    "if sale >= 100 and num >= 30:\n",
    "    print(\"売上は大盛況です。\")\n",
    "elif sale >= 100:\n",
    "    print(\"売上は好調です。\")\n",
    "elif sale >= 50:\n",
    "    print(\"売上は普通です。\")\n",
    "else:\n",
    "    print(\"売上は低調です。\")"
   ]
  },
  {
   "cell_type": "code",
   "execution_count": null,
   "id": "989d2559-0ef6-4c9c-884d-589f8ee84313",
   "metadata": {},
   "outputs": [],
   "source": [
    "# andつくとこんな感じ"
   ]
  }
 ],
 "metadata": {
  "kernelspec": {
   "display_name": "Python 3 (ipykernel)",
   "language": "python",
   "name": "python3"
  },
  "language_info": {
   "codemirror_mode": {
    "name": "ipython",
    "version": 3
   },
   "file_extension": ".py",
   "mimetype": "text/x-python",
   "name": "python",
   "nbconvert_exporter": "python",
   "pygments_lexer": "ipython3",
   "version": "3.11.4"
  }
 },
 "nbformat": 4,
 "nbformat_minor": 5
}
