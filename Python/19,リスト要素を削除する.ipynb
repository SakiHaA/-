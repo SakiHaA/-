{
 "cells": [
  {
   "cell_type": "code",
   "execution_count": null,
   "id": "9a413e19-84ca-415a-baef-4cb2370ad001",
   "metadata": {},
   "outputs": [],
   "source": [
    "sale = [80, 60, 22, 55, 75]"
   ]
  },
  {
   "cell_type": "code",
   "execution_count": null,
   "id": "0975ecb7-9925-491a-83a1-6a66e0335f3e",
   "metadata": {},
   "outputs": [],
   "source": [
    "print(\"現在のデータは\", sale, \"です。\")"
   ]
  },
  {
   "cell_type": "code",
   "execution_count": null,
   "id": "32d7af38-fc59-47bb-b47e-ea22892ce9c3",
   "metadata": {},
   "outputs": [],
   "source": []
  },
  {
   "cell_type": "code",
   "execution_count": null,
   "id": "4edf4134-08c0-4871-b14f-319ad251e9d1",
   "metadata": {},
   "outputs": [],
   "source": [
    "print(\"先頭のデータを削除します。\")"
   ]
  },
  {
   "cell_type": "code",
   "execution_count": null,
   "id": "88c8757f-249d-41f7-854d-e79b313f46ab",
   "metadata": {},
   "outputs": [],
   "source": [
    "del sale[0]"
   ]
  },
  {
   "cell_type": "code",
   "execution_count": null,
   "id": "c2cf0ba8-84f9-4b57-bb22-1aeddaa4d453",
   "metadata": {},
   "outputs": [],
   "source": [
    "# del リスト名[インデックス]\n",
    "# 指定した要素を削除"
   ]
  },
  {
   "cell_type": "code",
   "execution_count": null,
   "id": "15141680-6bcb-4036-95cf-dee7a782a81a",
   "metadata": {},
   "outputs": [],
   "source": [
    "# del sale のようにリスト自体や変数も削除できる"
   ]
  },
  {
   "cell_type": "code",
   "execution_count": null,
   "id": "64a4b49d-de91-4548-ac77-2fbced9c6d60",
   "metadata": {},
   "outputs": [],
   "source": [
    "print(\"現在のデータは\", sale, \"です。\")"
   ]
  },
  {
   "cell_type": "code",
   "execution_count": null,
   "id": "b7850744-f47b-415f-a9cd-8cb3dc3b4156",
   "metadata": {},
   "outputs": [],
   "source": []
  },
  {
   "cell_type": "code",
   "execution_count": null,
   "id": "15a616c1-89dd-4680-956a-7934ea8c2c37",
   "metadata": {},
   "outputs": [],
   "source": [
    "print(\"22を削除します。\")"
   ]
  },
  {
   "cell_type": "code",
   "execution_count": null,
   "id": "63f13b7c-2077-435d-aa18-40b6dc0dc717",
   "metadata": {},
   "outputs": [],
   "source": [
    "sale.remove(22)"
   ]
  },
  {
   "cell_type": "code",
   "execution_count": null,
   "id": "904578c8-6be6-4a11-86f4-8dd99233bcc6",
   "metadata": {},
   "outputs": [],
   "source": [
    "# リスト.remove(値)\n",
    "# 値と一致している最初の要素を削除する"
   ]
  },
  {
   "cell_type": "code",
   "execution_count": null,
   "id": "0250d24a-f231-4315-91e9-21c863dcdd99",
   "metadata": {},
   "outputs": [],
   "source": [
    "print(\"現在のデータは\", sale, \"です。\")"
   ]
  },
  {
   "cell_type": "code",
   "execution_count": null,
   "id": "eeea1bd6-0bbb-41df-8734-a94929704b9d",
   "metadata": {},
   "outputs": [],
   "source": []
  },
  {
   "cell_type": "code",
   "execution_count": null,
   "id": "24afc114-06e1-4f08-a928-e4b193736dbf",
   "metadata": {},
   "outputs": [],
   "source": []
  }
 ],
 "metadata": {
  "kernelspec": {
   "display_name": "Python 3 (ipykernel)",
   "language": "python",
   "name": "python3"
  },
  "language_info": {
   "codemirror_mode": {
    "name": "ipython",
    "version": 3
   },
   "file_extension": ".py",
   "mimetype": "text/x-python",
   "name": "python",
   "nbconvert_exporter": "python",
   "pygments_lexer": "ipython3",
   "version": "3.11.4"
  }
 },
 "nbformat": 4,
 "nbformat_minor": 5
}
