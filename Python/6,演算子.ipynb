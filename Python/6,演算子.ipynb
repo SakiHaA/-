{
 "cells": [
  {
   "cell_type": "code",
   "execution_count": 1,
   "id": "35704d45-604b-4c4f-ad05-45c89b27300c",
   "metadata": {},
   "outputs": [],
   "source": [
    "num1 = 10"
   ]
  },
  {
   "cell_type": "code",
   "execution_count": 2,
   "id": "1f2ce247-77e3-4c94-8ef1-095c18d75ec6",
   "metadata": {},
   "outputs": [],
   "source": [
    "num2 = 5"
   ]
  },
  {
   "cell_type": "code",
   "execution_count": 3,
   "id": "f068c081-c3de-44e8-a745-cca9563a1a9b",
   "metadata": {},
   "outputs": [
    {
     "name": "stdout",
     "output_type": "stream",
     "text": [
      "num1+num2は 15 です。\n"
     ]
    }
   ],
   "source": [
    "print(\"num1+num2は\", num1+num2, \"です。\")"
   ]
  },
  {
   "cell_type": "code",
   "execution_count": 4,
   "id": "beaf7089-49e9-4cf3-9f19-d76ab73a2666",
   "metadata": {},
   "outputs": [
    {
     "name": "stdout",
     "output_type": "stream",
     "text": [
      "num1+num2は 15 です。\n"
     ]
    }
   ],
   "source": [
    "print(\"num1-num2は\", num1-num2, \"です。\")"
   ]
  },
  {
   "cell_type": "code",
   "execution_count": null,
   "id": "31063899-c90b-4772-818d-ae3b6e8534b6",
   "metadata": {},
   "outputs": [],
   "source": [
    "print(\"num1*num2は\", num1*num2, \"です。\")"
   ]
  },
  {
   "cell_type": "code",
   "execution_count": null,
   "id": "09b84bf9-4583-455e-b2cd-58db8986f2ae",
   "metadata": {},
   "outputs": [],
   "source": [
    "print(\"num1/num2は\", num1/num2, \"です。\")"
   ]
  },
  {
   "cell_type": "code",
   "execution_count": null,
   "id": "5f5da5de-9a48-410a-82cb-f4e6037c8240",
   "metadata": {},
   "outputs": [],
   "source": [
    "print(\"num1%num2は\", num1%num2, \"です。\")"
   ]
  },
  {
   "cell_type": "code",
   "execution_count": null,
   "id": "002bb6e4-c4d7-4050-821b-7e7e6785c2b0",
   "metadata": {},
   "outputs": [],
   "source": [
    "# % => 割った余り"
   ]
  }
 ],
 "metadata": {
  "kernelspec": {
   "display_name": "Python 3 (ipykernel)",
   "language": "python",
   "name": "python3"
  },
  "language_info": {
   "codemirror_mode": {
    "name": "ipython",
    "version": 3
   },
   "file_extension": ".py",
   "mimetype": "text/x-python",
   "name": "python",
   "nbconvert_exporter": "python",
   "pygments_lexer": "ipython3",
   "version": "3.11.4"
  }
 },
 "nbformat": 4,
 "nbformat_minor": 5
}
