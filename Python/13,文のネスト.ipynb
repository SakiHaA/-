{
 "cells": [
  {
   "cell_type": "code",
   "execution_count": 1,
   "id": "bbcef725-3066-412a-9ead-6026acc2fe10",
   "metadata": {},
   "outputs": [
    {
     "name": "stdout",
     "output_type": "stream",
     "text": [
      "iは 0 jは 0\n",
      "iは 0 jは 1\n",
      "iは 0 jは 2\n",
      "iは 1 jは 0\n",
      "iは 1 jは 1\n",
      "iは 1 jは 2\n",
      "iは 2 jは 0\n",
      "iは 2 jは 1\n",
      "iは 2 jは 2\n",
      "iは 3 jは 0\n",
      "iは 3 jは 1\n",
      "iは 3 jは 2\n",
      "iは 4 jは 0\n",
      "iは 4 jは 1\n",
      "iは 4 jは 2\n"
     ]
    }
   ],
   "source": [
    "for i in range(5):\n",
    "    for j in range(3):\n",
    "        print(\"iは\", i, \"jは\", j)"
   ]
  },
  {
   "cell_type": "code",
   "execution_count": 2,
   "id": "d136ef8b-4a09-4247-83b3-040ae47ee355",
   "metadata": {},
   "outputs": [],
   "source": [
    "# forのネスト"
   ]
  },
  {
   "cell_type": "code",
   "execution_count": null,
   "id": "1720ba70-fabc-4053-929b-0afc4498dcfa",
   "metadata": {},
   "outputs": [],
   "source": []
  },
  {
   "cell_type": "code",
   "execution_count": 3,
   "id": "a957ad48-8552-43e1-a1b2-9fdc1997f561",
   "metadata": {},
   "outputs": [],
   "source": [
    "v = False"
   ]
  },
  {
   "cell_type": "code",
   "execution_count": 4,
   "id": "996f9d00-39b7-4845-92d4-4218dd573dde",
   "metadata": {},
   "outputs": [
    {
     "name": "stdout",
     "output_type": "stream",
     "text": [
      "★-★-★\n",
      "-★-★-\n",
      "★-★-★\n",
      "-★-★-\n",
      "★-★-★\n"
     ]
    }
   ],
   "source": [
    "for i in range(5):\n",
    "    for j in range(5):\n",
    "        if v is False:\n",
    "            print(\"★\", end = \"\")\n",
    "            v = True\n",
    "        else:\n",
    "            print(\"-\", end = \"\")\n",
    "            v = False\n",
    "    print()"
   ]
  },
  {
   "cell_type": "code",
   "execution_count": 5,
   "id": "e0f873fc-6062-4449-b529-ef25a7fb736a",
   "metadata": {},
   "outputs": [],
   "source": [
    "# if文以外との組み合わせ"
   ]
  }
 ],
 "metadata": {
  "kernelspec": {
   "display_name": "Python 3 (ipykernel)",
   "language": "python",
   "name": "python3"
  },
  "language_info": {
   "codemirror_mode": {
    "name": "ipython",
    "version": 3
   },
   "file_extension": ".py",
   "mimetype": "text/x-python",
   "name": "python",
   "nbconvert_exporter": "python",
   "pygments_lexer": "ipython3",
   "version": "3.11.4"
  }
 },
 "nbformat": 4,
 "nbformat_minor": 5
}
