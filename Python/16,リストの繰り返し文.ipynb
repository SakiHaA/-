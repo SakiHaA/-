{
 "cells": [
  {
   "cell_type": "code",
   "execution_count": null,
   "id": "1461484d-3318-4c6f-8a61-6ffb37a0b8f5",
   "metadata": {},
   "outputs": [],
   "source": [
    "sale = [80, 60, 22, 50, 75]"
   ]
  },
  {
   "cell_type": "code",
   "execution_count": null,
   "id": "4c8e8411-5524-41b6-aabe-938e9350ad9b",
   "metadata": {},
   "outputs": [],
   "source": [
    "for s in sale:\n",
    "    print(s)\n",
    "\n",
    "print(\"リストの長さは\", len(sale), \"です。\")"
   ]
  },
  {
   "cell_type": "code",
   "execution_count": null,
   "id": "21a60070-a7f1-4421-9c2c-6c559311f20c",
   "metadata": {},
   "outputs": [],
   "source": []
  },
  {
   "cell_type": "code",
   "execution_count": null,
   "id": "a8845c5b-e6ab-458e-9439-1e153e5169f7",
   "metadata": {},
   "outputs": [],
   "source": [
    "# for 変数 in リスト:\n",
    "    # 変数を使った処理"
   ]
  },
  {
   "cell_type": "code",
   "execution_count": null,
   "id": "6ecf0402-c8ae-40b3-bb6e-83b273fd7b7a",
   "metadata": {},
   "outputs": [],
   "source": [
    "# for s in sale:\n",
    "    # print(s)  "
   ]
  },
  {
   "cell_type": "code",
   "execution_count": null,
   "id": "b4d88256-9211-4e64-b8c9-08f078cf21b9",
   "metadata": {},
   "outputs": [],
   "source": [
    "# リストsaleの各要素を1つずつ変数Sに取り出して、"
   ]
  },
  {
   "cell_type": "code",
   "execution_count": null,
   "id": "db560cc7-fe6e-4f09-9f0a-fa8ee9d7692f",
   "metadata": {},
   "outputs": [],
   "source": [
    "# 変数s(各要素の値)を表示する"
   ]
  }
 ],
 "metadata": {
  "kernelspec": {
   "display_name": "Python 3 (ipykernel)",
   "language": "python",
   "name": "python3"
  },
  "language_info": {
   "codemirror_mode": {
    "name": "ipython",
    "version": 3
   },
   "file_extension": ".py",
   "mimetype": "text/x-python",
   "name": "python",
   "nbconvert_exporter": "python",
   "pygments_lexer": "ipython3",
   "version": "3.11.4"
  }
 },
 "nbformat": 4,
 "nbformat_minor": 5
}
