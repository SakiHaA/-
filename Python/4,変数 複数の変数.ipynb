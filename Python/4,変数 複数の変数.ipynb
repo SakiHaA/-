{
 "cells": [
  {
   "cell_type": "code",
   "execution_count": 1,
   "id": "34b4b6a4-1925-4798-965b-4c04983efeac",
   "metadata": {},
   "outputs": [],
   "source": [
    "name = \"東京\""
   ]
  },
  {
   "cell_type": "code",
   "execution_count": 2,
   "id": "dee85920-fb87-4af2-b26b-fe24c3875ffe",
   "metadata": {},
   "outputs": [],
   "source": [
    "sale = 10"
   ]
  },
  {
   "cell_type": "code",
   "execution_count": 3,
   "id": "4121cea6-994e-4f52-b4f8-74dcb1d8fda2",
   "metadata": {},
   "outputs": [
    {
     "name": "stdout",
     "output_type": "stream",
     "text": [
      "東京 支店の売上は 10 万円です。\n"
     ]
    }
   ],
   "source": [
    "print(name, \"支店の売上は\", sale, \"万円です。\")"
   ]
  },
  {
   "cell_type": "code",
   "execution_count": 4,
   "id": "23b70e0f-9caa-40b6-918e-2db15e6f6cfb",
   "metadata": {},
   "outputs": [],
   "source": [
    "# 複数の変数も可"
   ]
  }
 ],
 "metadata": {
  "kernelspec": {
   "display_name": "Python 3 (ipykernel)",
   "language": "python",
   "name": "python3"
  },
  "language_info": {
   "codemirror_mode": {
    "name": "ipython",
    "version": 3
   },
   "file_extension": ".py",
   "mimetype": "text/x-python",
   "name": "python",
   "nbconvert_exporter": "python",
   "pygments_lexer": "ipython3",
   "version": "3.11.4"
  }
 },
 "nbformat": 4,
 "nbformat_minor": 5
}
