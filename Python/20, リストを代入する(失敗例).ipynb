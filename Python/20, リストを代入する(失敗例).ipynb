{
 "cells": [
  {
   "cell_type": "code",
   "execution_count": 1,
   "id": "0c6f3fcc-6306-46df-993a-be9f62b7712f",
   "metadata": {},
   "outputs": [],
   "source": [
    "data1 = [1, 2, 3, 4, 5]"
   ]
  },
  {
   "cell_type": "code",
   "execution_count": 2,
   "id": "156d7091-791e-49a7-9baa-5148f37ff7ce",
   "metadata": {},
   "outputs": [],
   "source": [
    "data2 = data1"
   ]
  },
  {
   "cell_type": "code",
   "execution_count": 3,
   "id": "b6f511da-055e-4106-ba89-6a4ba2b3a24a",
   "metadata": {},
   "outputs": [],
   "source": [
    "# リストそのものを代入している"
   ]
  },
  {
   "cell_type": "code",
   "execution_count": null,
   "id": "3a0d6323-c79f-4aae-a8f9-45da79b75dd4",
   "metadata": {},
   "outputs": [],
   "source": [
    "# こうすると1と2が一緒の扱いになるので失敗する"
   ]
  },
  {
   "cell_type": "code",
   "execution_count": null,
   "id": "669eb4f0-da14-4c07-a039-66782cef1902",
   "metadata": {},
   "outputs": [],
   "source": []
  },
  {
   "cell_type": "code",
   "execution_count": 4,
   "id": "3ed95596-4011-4405-84a0-73aaef56ab10",
   "metadata": {},
   "outputs": [
    {
     "name": "stdout",
     "output_type": "stream",
     "text": [
      "data1は [1, 2, 3, 4, 5] です。\n"
     ]
    }
   ],
   "source": [
    "print(\"data1は\", data1, \"です。\")"
   ]
  },
  {
   "cell_type": "code",
   "execution_count": 5,
   "id": "737988f3-3730-4d10-95f6-22c3ee8910af",
   "metadata": {},
   "outputs": [
    {
     "name": "stdout",
     "output_type": "stream",
     "text": [
      "data2は [1, 2, 3, 4, 5] です。\n"
     ]
    }
   ],
   "source": [
    "print(\"data2は\", data2, \"です。\")"
   ]
  },
  {
   "cell_type": "code",
   "execution_count": null,
   "id": "6bcd87a3-7368-4d49-abba-ad4b8b6e94e3",
   "metadata": {},
   "outputs": [],
   "source": []
  },
  {
   "cell_type": "code",
   "execution_count": 6,
   "id": "530c1cb2-4c6b-44dc-ac33-1a8a67d2ab3e",
   "metadata": {},
   "outputs": [],
   "source": [
    "data1[0] = 10"
   ]
  },
  {
   "cell_type": "code",
   "execution_count": 7,
   "id": "7c7aee90-1837-4fad-b970-8fd01c0cad30",
   "metadata": {},
   "outputs": [
    {
     "name": "stdout",
     "output_type": "stream",
     "text": [
      "data1を変更します。\n"
     ]
    }
   ],
   "source": [
    "print(\"data1を変更します。\")"
   ]
  },
  {
   "cell_type": "code",
   "execution_count": null,
   "id": "cd9a5d3b-925d-425c-8780-d394f56edba4",
   "metadata": {},
   "outputs": [],
   "source": []
  },
  {
   "cell_type": "code",
   "execution_count": 8,
   "id": "a85cb0da-b4d2-4c6e-8147-f20dabc8a46d",
   "metadata": {},
   "outputs": [
    {
     "name": "stdout",
     "output_type": "stream",
     "text": [
      "data1は [10, 2, 3, 4, 5] です。\n"
     ]
    }
   ],
   "source": [
    "print(\"data1は\", data1, \"です。\")"
   ]
  },
  {
   "cell_type": "code",
   "execution_count": 9,
   "id": "9c868224-72c2-4f60-b2e3-dd521807817c",
   "metadata": {},
   "outputs": [
    {
     "name": "stdout",
     "output_type": "stream",
     "text": [
      "data2は [10, 2, 3, 4, 5] です。\n"
     ]
    }
   ],
   "source": [
    "print(\"data2は\", data2, \"です。\")"
   ]
  }
 ],
 "metadata": {
  "kernelspec": {
   "display_name": "Python 3 (ipykernel)",
   "language": "python",
   "name": "python3"
  },
  "language_info": {
   "codemirror_mode": {
    "name": "ipython",
    "version": 3
   },
   "file_extension": ".py",
   "mimetype": "text/x-python",
   "name": "python",
   "nbconvert_exporter": "python",
   "pygments_lexer": "ipython3",
   "version": "3.11.4"
  }
 },
 "nbformat": 4,
 "nbformat_minor": 5
}
