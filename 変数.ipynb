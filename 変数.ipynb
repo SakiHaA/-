{
 "cells": [
  {
   "cell_type": "code",
   "execution_count": 1,
   "id": "18725e59-52aa-4acb-ab38-fef64846029d",
   "metadata": {},
   "outputs": [],
   "source": [
    "num = 1"
   ]
  },
  {
   "cell_type": "code",
   "execution_count": 2,
   "id": "50b66ae9-92e4-41d1-a012-e6f50e52aabf",
   "metadata": {},
   "outputs": [],
   "source": [
    "name = \"1\""
   ]
  },
  {
   "cell_type": "code",
   "execution_count": 3,
   "id": "7ee2446b-7b13-4a48-9ba6-414b14fbcadc",
   "metadata": {},
   "outputs": [],
   "source": [
    "yes_or_no = True"
   ]
  },
  {
   "cell_type": "code",
   "execution_count": 4,
   "id": "8190912d-0028-4bba-a653-38dcc6327ac7",
   "metadata": {},
   "outputs": [
    {
     "name": "stdout",
     "output_type": "stream",
     "text": [
      "1\n"
     ]
    }
   ],
   "source": [
    "print(num)"
   ]
  },
  {
   "cell_type": "code",
   "execution_count": 5,
   "id": "f0ed8524-6ec6-40ba-b2f2-ac66584b441a",
   "metadata": {},
   "outputs": [
    {
     "name": "stdout",
     "output_type": "stream",
     "text": [
      "1\n"
     ]
    }
   ],
   "source": [
    "print(name)"
   ]
  },
  {
   "cell_type": "code",
   "execution_count": 6,
   "id": "84d66933-1342-4ca0-a05e-dd8c205f3ec5",
   "metadata": {},
   "outputs": [],
   "source": [
    "# pythonは関数の型を書く必要なし"
   ]
  },
  {
   "cell_type": "code",
   "execution_count": 7,
   "id": "aaf1d6bd-a98f-4f96-bb40-fef6ff3c0e0e",
   "metadata": {},
   "outputs": [
    {
     "name": "stdout",
     "output_type": "stream",
     "text": [
      "1 <class 'int'>\n"
     ]
    }
   ],
   "source": [
    "print(num, type(num))"
   ]
  },
  {
   "cell_type": "code",
   "execution_count": 9,
   "id": "f090bda1-1838-43f4-a109-2e3b4a4aabad",
   "metadata": {},
   "outputs": [
    {
     "name": "stdout",
     "output_type": "stream",
     "text": [
      "True <class 'bool'>\n"
     ]
    }
   ],
   "source": [
    "print(yes_or_no, type(yes_or_no))"
   ]
  },
  {
   "cell_type": "code",
   "execution_count": 10,
   "id": "3e562af5-d15e-4518-8bf9-750a3bbf5f99",
   "metadata": {},
   "outputs": [],
   "source": [
    "# type関数を使えば、型がわかる"
   ]
  },
  {
   "cell_type": "code",
   "execution_count": 11,
   "id": "b0f8d447-616b-4d39-9c93-08aa51406756",
   "metadata": {},
   "outputs": [],
   "source": [
    "new_num = int(name)"
   ]
  },
  {
   "cell_type": "code",
   "execution_count": null,
   "id": "6b6ffc29-4cbc-4424-bb9d-e3ee49689579",
   "metadata": {},
   "outputs": [],
   "source": [
    "# 型を変換もできる"
   ]
  },
  {
   "cell_type": "code",
   "execution_count": 12,
   "id": "dbdbe9de-395a-457c-9804-6e9b455d6ac9",
   "metadata": {},
   "outputs": [
    {
     "name": "stdout",
     "output_type": "stream",
     "text": [
      "1 <class 'int'>\n"
     ]
    }
   ],
   "source": [
    "print(new_num, type(new_num))"
   ]
  }
 ],
 "metadata": {
  "kernelspec": {
   "display_name": "Python 3 (ipykernel)",
   "language": "python",
   "name": "python3"
  },
  "language_info": {
   "codemirror_mode": {
    "name": "ipython",
    "version": 3
   },
   "file_extension": ".py",
   "mimetype": "text/x-python",
   "name": "python",
   "nbconvert_exporter": "python",
   "pygments_lexer": "ipython3",
   "version": "3.11.4"
  }
 },
 "nbformat": 4,
 "nbformat_minor": 5
}
