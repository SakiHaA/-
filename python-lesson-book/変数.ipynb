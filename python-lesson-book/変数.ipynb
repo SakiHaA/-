{
 "cells": [
  {
   "cell_type": "code",
   "execution_count": 1,
   "id": "731cf264-184b-4518-ad04-3796766f22ab",
   "metadata": {},
   "outputs": [],
   "source": [
    "sale = 10"
   ]
  },
  {
   "cell_type": "code",
   "execution_count": 2,
   "id": "1b859d92-df9d-4b53-beed-24f843231722",
   "metadata": {},
   "outputs": [
    {
     "name": "stdout",
     "output_type": "stream",
     "text": [
      "売上は 10 万円です。\n"
     ]
    }
   ],
   "source": [
    "print(\"売上は\", sale, \"万円です。\")"
   ]
  },
  {
   "cell_type": "code",
   "execution_count": 3,
   "id": "62e68c9c-dd6e-4f56-95a2-6a0072a186ab",
   "metadata": {},
   "outputs": [
    {
     "name": "stdout",
     "output_type": "stream",
     "text": [
      "売上げの変更\n"
     ]
    }
   ],
   "source": [
    "print(\"売上げの変更\")"
   ]
  },
  {
   "cell_type": "code",
   "execution_count": 4,
   "id": "13d61fa8-1c32-4a24-9662-66db1364e41a",
   "metadata": {},
   "outputs": [],
   "source": [
    "sale = 20"
   ]
  },
  {
   "cell_type": "code",
   "execution_count": 5,
   "id": "48a0ee40-a663-4d11-9a39-b205c72cb6e9",
   "metadata": {},
   "outputs": [
    {
     "name": "stdout",
     "output_type": "stream",
     "text": [
      "売上は 20 万円です。\n"
     ]
    }
   ],
   "source": [
    "print(\"売上は\", sale, \"万円です。\")"
   ]
  },
  {
   "cell_type": "code",
   "execution_count": 6,
   "id": "2e518a2a-5a22-4a62-ae2c-cdc63f8e8b53",
   "metadata": {},
   "outputs": [],
   "source": [
    "place = \"Hokkaido\""
   ]
  },
  {
   "cell_type": "code",
   "execution_count": 7,
   "id": "339450fe-794c-43e1-8ea2-87256af87aa1",
   "metadata": {},
   "outputs": [],
   "source": [
    "sale = 10"
   ]
  },
  {
   "cell_type": "code",
   "execution_count": 8,
   "id": "f029648a-1604-4991-9147-115195cfc82f",
   "metadata": {},
   "outputs": [
    {
     "name": "stdout",
     "output_type": "stream",
     "text": [
      "Hokkaido の売上は 10 万円です。\n"
     ]
    }
   ],
   "source": [
    "print(place, \"の売上は\", sale, \"万円です。\")"
   ]
  }
 ],
 "metadata": {
  "kernelspec": {
   "display_name": "Python 3 (ipykernel)",
   "language": "python",
   "name": "python3"
  },
  "language_info": {
   "codemirror_mode": {
    "name": "ipython",
    "version": 3
   },
   "file_extension": ".py",
   "mimetype": "text/x-python",
   "name": "python",
   "nbconvert_exporter": "python",
   "pygments_lexer": "ipython3",
   "version": "3.11.4"
  }
 },
 "nbformat": 4,
 "nbformat_minor": 5
}
