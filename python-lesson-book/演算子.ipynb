{
 "cells": [
  {
   "cell_type": "code",
   "execution_count": 1,
   "id": "b545dd27-de6a-487f-90e7-85acb99803cf",
   "metadata": {},
   "outputs": [],
   "source": [
    "price = 10"
   ]
  },
  {
   "cell_type": "code",
   "execution_count": 2,
   "id": "688a8e7f-f66a-4e2a-b5f6-7588ba47ea4c",
   "metadata": {},
   "outputs": [],
   "source": [
    "num = 10"
   ]
  },
  {
   "cell_type": "code",
   "execution_count": 3,
   "id": "85f41539-ea51-449c-8282-e2deac14f974",
   "metadata": {},
   "outputs": [],
   "source": [
    "total = price * 10"
   ]
  },
  {
   "cell_type": "code",
   "execution_count": 4,
   "id": "50b69aff-5f28-4a2f-8223-ac67bec1f918",
   "metadata": {},
   "outputs": [
    {
     "name": "stdout",
     "output_type": "stream",
     "text": [
      "単価は 10 円です。\n"
     ]
    }
   ],
   "source": [
    "print(\"単価は\", price, \"円です。\")"
   ]
  },
  {
   "cell_type": "code",
   "execution_count": 5,
   "id": "d43d7a01-ac4c-4d8a-b28b-da5f68ac39fc",
   "metadata": {},
   "outputs": [
    {
     "name": "stdout",
     "output_type": "stream",
     "text": [
      "売上た個数は 10 個です。\n"
     ]
    }
   ],
   "source": [
    "print(\"売上た個数は\", num, \"個です。\")"
   ]
  },
  {
   "cell_type": "code",
   "execution_count": 6,
   "id": "e7c8e628-9a06-44c1-8f57-652793476a30",
   "metadata": {},
   "outputs": [
    {
     "name": "stdout",
     "output_type": "stream",
     "text": [
      "合計金額は 100 円です。\n"
     ]
    }
   ],
   "source": [
    "print(\"合計金額は\", total, \"円です。\")"
   ]
  },
  {
   "cell_type": "code",
   "execution_count": null,
   "id": "7092e7c7-5719-4047-a73c-7ac99a37e52e",
   "metadata": {},
   "outputs": [],
   "source": []
  },
  {
   "cell_type": "code",
   "execution_count": 7,
   "id": "0ff23c88-f94f-4573-bd9b-0e49011a5e7b",
   "metadata": {},
   "outputs": [],
   "source": [
    "num1 = 10"
   ]
  },
  {
   "cell_type": "code",
   "execution_count": 8,
   "id": "e14db95a-7acc-4fb4-856e-3f756b3f1d87",
   "metadata": {},
   "outputs": [],
   "source": [
    "num2 = 5"
   ]
  },
  {
   "cell_type": "code",
   "execution_count": 9,
   "id": "abf46d58-9074-422c-ac17-3b1f958a3651",
   "metadata": {},
   "outputs": [
    {
     "name": "stdout",
     "output_type": "stream",
     "text": [
      "num1+num2は 15 です。\n"
     ]
    }
   ],
   "source": [
    "print(\"num1+num2は\", num1+num2, \"です。\")"
   ]
  },
  {
   "cell_type": "code",
   "execution_count": 10,
   "id": "d4ec1787-d2a2-487a-975a-e609787b48ba",
   "metadata": {},
   "outputs": [
    {
     "name": "stdout",
     "output_type": "stream",
     "text": [
      "num1-num2は 5 です。\n"
     ]
    }
   ],
   "source": [
    "print(\"num1-num2は\", num1-num2, \"です。\")"
   ]
  },
  {
   "cell_type": "code",
   "execution_count": 11,
   "id": "92abd0b0-c920-4d40-b0a8-7ce83f8f204c",
   "metadata": {},
   "outputs": [
    {
     "name": "stdout",
     "output_type": "stream",
     "text": [
      "num1*num2は 50 です。\n"
     ]
    }
   ],
   "source": [
    "print(\"num1*num2は\", num1*num2, \"です。\")"
   ]
  },
  {
   "cell_type": "code",
   "execution_count": 12,
   "id": "c7c77a18-7521-4fa1-83dc-8cc39b2eec68",
   "metadata": {},
   "outputs": [
    {
     "name": "stdout",
     "output_type": "stream",
     "text": [
      "num1/num2は 2.0 です。\n"
     ]
    }
   ],
   "source": [
    "print(\"num1/num2は\", num1/num2, \"です。\")"
   ]
  },
  {
   "cell_type": "code",
   "execution_count": 13,
   "id": "96990798-1c8f-471e-a0d4-335a153df9a2",
   "metadata": {},
   "outputs": [],
   "source": [
    "# 割り算"
   ]
  },
  {
   "cell_type": "code",
   "execution_count": 14,
   "id": "91ddaf94-66d5-4be4-b14a-1d4c1cb6aa9e",
   "metadata": {},
   "outputs": [
    {
     "name": "stdout",
     "output_type": "stream",
     "text": [
      "num1%num2は 0 です。\n"
     ]
    }
   ],
   "source": [
    "print(\"num1%num2は\", num1%num2, \"です。\")"
   ]
  },
  {
   "cell_type": "code",
   "execution_count": 15,
   "id": "6c0eda9b-aa48-4c1c-bbcb-f29c0e2667c8",
   "metadata": {},
   "outputs": [],
   "source": [
    "# 割った余り"
   ]
  }
 ],
 "metadata": {
  "kernelspec": {
   "display_name": "Python 3 (ipykernel)",
   "language": "python",
   "name": "python3"
  },
  "language_info": {
   "codemirror_mode": {
    "name": "ipython",
    "version": 3
   },
   "file_extension": ".py",
   "mimetype": "text/x-python",
   "name": "python",
   "nbconvert_exporter": "python",
   "pygments_lexer": "ipython3",
   "version": "3.11.4"
  }
 },
 "nbformat": 4,
 "nbformat_minor": 5
}
