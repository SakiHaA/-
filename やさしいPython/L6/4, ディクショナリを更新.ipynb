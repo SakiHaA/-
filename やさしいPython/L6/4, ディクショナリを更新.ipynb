{
 "cells": [
  {
   "cell_type": "code",
   "execution_count": 1,
   "id": "7dc6bc13-566b-484d-a46b-ece9ad959d49",
   "metadata": {},
   "outputs": [],
   "source": [
    "sale1 = {\"東京\": 80, \"名古屋\":60, \"京都\":22}"
   ]
  },
  {
   "cell_type": "code",
   "execution_count": 2,
   "id": "d27965fd-7217-4208-8fea-3b06f480d441",
   "metadata": {},
   "outputs": [],
   "source": [
    "sale2 = {\"京都\": 100, \"大阪\":50, \"福岡\":75}"
   ]
  },
  {
   "cell_type": "code",
   "execution_count": null,
   "id": "8c58e2cf-16a8-48c2-8940-7a8a58e4b608",
   "metadata": {},
   "outputs": [],
   "source": []
  },
  {
   "cell_type": "code",
   "execution_count": 3,
   "id": "6149092f-41c4-4c05-ac20-9aedae8a5779",
   "metadata": {},
   "outputs": [
    {
     "name": "stdout",
     "output_type": "stream",
     "text": [
      "1のデータは {'東京': 80, '名古屋': 60, '京都': 22} です。\n"
     ]
    }
   ],
   "source": [
    "print(\"1のデータは\", sale1, \"です。\")"
   ]
  },
  {
   "cell_type": "code",
   "execution_count": 4,
   "id": "a1b14566-f4b1-4d11-9102-488a96518b47",
   "metadata": {},
   "outputs": [
    {
     "name": "stdout",
     "output_type": "stream",
     "text": [
      "2のデータは {'京都': 100, '大阪': 50, '福岡': 75} です。\n"
     ]
    }
   ],
   "source": [
    "print(\"2のデータは\", sale2, \"です。\")"
   ]
  },
  {
   "cell_type": "code",
   "execution_count": null,
   "id": "deec4820-7718-49ae-919b-8b70bcbbe5dc",
   "metadata": {},
   "outputs": [],
   "source": []
  },
  {
   "cell_type": "code",
   "execution_count": 5,
   "id": "b1237d71-3440-4bfa-95f9-c19f09825600",
   "metadata": {},
   "outputs": [
    {
     "name": "stdout",
     "output_type": "stream",
     "text": [
      "1を2で更新します。\n"
     ]
    }
   ],
   "source": [
    "print(\"1を2で更新します。\")"
   ]
  },
  {
   "cell_type": "code",
   "execution_count": null,
   "id": "2243f58a-b7e3-46d6-a0b3-9fdebb38cc90",
   "metadata": {},
   "outputs": [],
   "source": []
  },
  {
   "cell_type": "code",
   "execution_count": 6,
   "id": "4e42d115-e3b1-4232-8ea1-fb6bf970c634",
   "metadata": {},
   "outputs": [],
   "source": [
    "sale1.update(sale2)"
   ]
  },
  {
   "cell_type": "code",
   "execution_count": 7,
   "id": "d92f8d67-1163-47a1-b736-743ee75fc800",
   "metadata": {},
   "outputs": [],
   "source": [
    "# ディクショナリ.update(追加するディクショナリ名)"
   ]
  },
  {
   "cell_type": "code",
   "execution_count": null,
   "id": "4e345c4e-5647-437b-a06d-3c3f1edc1835",
   "metadata": {},
   "outputs": [],
   "source": []
  },
  {
   "cell_type": "code",
   "execution_count": 8,
   "id": "c75f01c1-73d2-478d-88cb-9d0c7bd83083",
   "metadata": {},
   "outputs": [
    {
     "name": "stdout",
     "output_type": "stream",
     "text": [
      "1のデータは {'東京': 80, '名古屋': 60, '京都': 100, '大阪': 50, '福岡': 75} です。\n"
     ]
    }
   ],
   "source": [
    "print(\"1のデータは\", sale1, \"です。\")"
   ]
  }
 ],
 "metadata": {
  "kernelspec": {
   "display_name": "Python 3 (ipykernel)",
   "language": "python",
   "name": "python3"
  },
  "language_info": {
   "codemirror_mode": {
    "name": "ipython",
    "version": 3
   },
   "file_extension": ".py",
   "mimetype": "text/x-python",
   "name": "python",
   "nbconvert_exporter": "python",
   "pygments_lexer": "ipython3",
   "version": "3.11.4"
  }
 },
 "nbformat": 4,
 "nbformat_minor": 5
}
