{
 "cells": [
  {
   "cell_type": "code",
   "execution_count": 1,
   "id": "1d15db6a-dc39-41b2-a66f-8fd6b38a98be",
   "metadata": {},
   "outputs": [],
   "source": [
    "sale = {\"東京\":80, \"名古屋\":60, \"京都\":22, \"大阪\":50, \"福岡\":75}"
   ]
  },
  {
   "cell_type": "code",
   "execution_count": 2,
   "id": "49196292-0e01-48b0-b7b1-3cde6d2513c8",
   "metadata": {},
   "outputs": [
    {
     "name": "stdout",
     "output_type": "stream",
     "text": [
      "現在のデータは {'東京': 80, '名古屋': 60, '京都': 22, '大阪': 50, '福岡': 75} です。\n"
     ]
    }
   ],
   "source": [
    "print(\"現在のデータは\", sale, \"です。\")"
   ]
  },
  {
   "cell_type": "code",
   "execution_count": null,
   "id": "3bc4e1a6-33b5-494b-a676-ac559ddeb5c5",
   "metadata": {},
   "outputs": [],
   "source": []
  },
  {
   "cell_type": "code",
   "execution_count": 3,
   "id": "bd0067e1-17bc-4f41-bd00-10b12fcbf733",
   "metadata": {},
   "outputs": [
    {
     "name": "stdin",
     "output_type": "stream",
     "text": [
      "どの視点のデータを使用しますか? 栃木\n"
     ]
    }
   ],
   "source": [
    "k = input(\"どの視点のデータを使用しますか?\")"
   ]
  },
  {
   "cell_type": "code",
   "execution_count": 4,
   "id": "6e685def-9c4a-404f-b358-641f0a93ba93",
   "metadata": {},
   "outputs": [],
   "source": [
    "# print(k, \"のデータは\", sale[k], \"です。\")"
   ]
  },
  {
   "cell_type": "code",
   "execution_count": 5,
   "id": "3039efcf-2eca-43c1-8097-be9e1dfa1fa6",
   "metadata": {},
   "outputs": [],
   "source": [
    "# なかった場合エラーになるため、ifを使ってなかった場合の対応を考える"
   ]
  },
  {
   "cell_type": "code",
   "execution_count": null,
   "id": "cadcb3ef-49ba-4d78-a844-1763585a91fe",
   "metadata": {},
   "outputs": [],
   "source": []
  },
  {
   "cell_type": "code",
   "execution_count": 6,
   "id": "6686eaed-71e9-442b-8748-55475a9b50c5",
   "metadata": {},
   "outputs": [
    {
     "name": "stdout",
     "output_type": "stream",
     "text": [
      "栃木 のデータは見つかりませんでした。\n"
     ]
    }
   ],
   "source": [
    "if k in sale:\n",
    "    print(k, \"のデータは\", sale[k], \"です。\")\n",
    "else:\n",
    "    print(k, \"のデータは見つかりませんでした。\")"
   ]
  }
 ],
 "metadata": {
  "kernelspec": {
   "display_name": "Python 3 (ipykernel)",
   "language": "python",
   "name": "python3"
  },
  "language_info": {
   "codemirror_mode": {
    "name": "ipython",
    "version": 3
   },
   "file_extension": ".py",
   "mimetype": "text/x-python",
   "name": "python",
   "nbconvert_exporter": "python",
   "pygments_lexer": "ipython3",
   "version": "3.11.4"
  }
 },
 "nbformat": 4,
 "nbformat_minor": 5
}
