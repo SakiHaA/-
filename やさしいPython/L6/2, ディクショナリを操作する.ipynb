{
 "cells": [
  {
   "cell_type": "code",
   "execution_count": 1,
   "id": "482fc358-f669-406b-ad71-b16fc171c637",
   "metadata": {},
   "outputs": [],
   "source": [
    "sale = {\"東京\":80, \"名古屋\":60, \"京都\":22, \"大阪\":50, \"福岡\":75}"
   ]
  },
  {
   "cell_type": "code",
   "execution_count": 2,
   "id": "aecd9db0-182c-486d-a141-99f53f145870",
   "metadata": {},
   "outputs": [
    {
     "name": "stdout",
     "output_type": "stream",
     "text": [
      "現在のデータは {'東京': 80, '名古屋': 60, '京都': 22, '大阪': 50, '福岡': 75} です。\n"
     ]
    }
   ],
   "source": [
    "print(\"現在のデータは\", sale, \"です。\")"
   ]
  },
  {
   "cell_type": "code",
   "execution_count": null,
   "id": "8ef3b9e8-455e-4ae1-aa53-b1e7d05e133e",
   "metadata": {},
   "outputs": [],
   "source": []
  },
  {
   "cell_type": "code",
   "execution_count": 3,
   "id": "02444a09-a7be-408c-9611-2ccb022a3809",
   "metadata": {},
   "outputs": [
    {
     "name": "stdin",
     "output_type": "stream",
     "text": [
      "追加するキーを入力してください。 h\n",
      "追加するデータを入力してください。 67\n"
     ]
    },
    {
     "name": "stdout",
     "output_type": "stream",
     "text": [
      "h のデータとして 67 を追加しました。\n",
      "現在のデータは {'東京': 80, '名古屋': 60, '京都': 22, '大阪': 50, '福岡': 75, 'h': 67} です。\n"
     ]
    }
   ],
   "source": [
    "k = input(\"追加するキーを入力してください。\")\n",
    "if k in sale:\n",
    "    print(k, \"のデータはすでに存在しています。\")\n",
    "else:\n",
    "    d = int(input(\"追加するデータを入力してください。\"))\n",
    "    sale[k] = d\n",
    "    print(k, \"のデータとして\", sale[k], \"を追加しました。\")\n",
    "print(\"現在のデータは\", sale, \"です。\")"
   ]
  },
  {
   "cell_type": "code",
   "execution_count": null,
   "id": "03ba23fb-4226-400b-8e9f-2761fb163ddb",
   "metadata": {},
   "outputs": [],
   "source": []
  },
  {
   "cell_type": "code",
   "execution_count": 4,
   "id": "0656676e-acb4-47bf-ae61-184c1a439910",
   "metadata": {},
   "outputs": [
    {
     "name": "stdin",
     "output_type": "stream",
     "text": [
      "どのキーのデータを変更しますか? ui\n"
     ]
    },
    {
     "name": "stdout",
     "output_type": "stream",
     "text": [
      "ui のデータは見つかりませんでした。\n",
      "現在のデータは {'東京': 80, '名古屋': 60, '京都': 22, '大阪': 50, '福岡': 75, 'h': 67} です。\n"
     ]
    }
   ],
   "source": [
    "k = input(\"どのキーのデータを変更しますか?\")\n",
    "if k in sale:\n",
    "    print(k, \"のデータは\", sale[k], \"です。\")\n",
    "    d = int(input(\"データを入力してください。\"))\n",
    "    sale[k] = d\n",
    "    print(k, \"のデータは\", sale[k], \"に変更されました。\")\n",
    "else:\n",
    "    print(k, \"のデータは見つかりませんでした。\")\n",
    "print(\"現在のデータは\", sale, \"です。\")"
   ]
  },
  {
   "cell_type": "code",
   "execution_count": null,
   "id": "b14d043d-8215-40df-b124-6d35591e5e61",
   "metadata": {},
   "outputs": [],
   "source": []
  },
  {
   "cell_type": "code",
   "execution_count": 5,
   "id": "c8d5068a-1e6a-499b-af6a-bb3adb276db3",
   "metadata": {},
   "outputs": [
    {
     "name": "stdin",
     "output_type": "stream",
     "text": [
      "どのキーのデータを削除しますか? gyi\n"
     ]
    },
    {
     "name": "stdout",
     "output_type": "stream",
     "text": [
      "gyi のデータは見つかりませんでした。\n",
      "現在のデータは {'東京': 80, '名古屋': 60, '京都': 22, '大阪': 50, '福岡': 75, 'h': 67} です。\n"
     ]
    }
   ],
   "source": [
    "k = input(\"どのキーのデータを削除しますか?\")\n",
    "if k in sale:\n",
    "    print(k, \"のデータは\", sale[k], \"です。\")\n",
    "    del sale[k]\n",
    "    print(\"データを削除しました。\")\n",
    "else:\n",
    "    print(k, \"のデータは見つかりませんでした。\")\n",
    "print(\"現在のデータは\", sale, \"です。\")"
   ]
  }
 ],
 "metadata": {
  "kernelspec": {
   "display_name": "Python 3 (ipykernel)",
   "language": "python",
   "name": "python3"
  },
  "language_info": {
   "codemirror_mode": {
    "name": "ipython",
    "version": 3
   },
   "file_extension": ".py",
   "mimetype": "text/x-python",
   "name": "python",
   "nbconvert_exporter": "python",
   "pygments_lexer": "ipython3",
   "version": "3.11.4"
  }
 },
 "nbformat": 4,
 "nbformat_minor": 5
}
