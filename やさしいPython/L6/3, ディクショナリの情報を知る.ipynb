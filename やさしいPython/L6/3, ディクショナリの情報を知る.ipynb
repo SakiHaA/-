{
 "cells": [
  {
   "cell_type": "code",
   "execution_count": 1,
   "id": "9949ddc0-bb55-4003-b33c-0fd642441276",
   "metadata": {},
   "outputs": [],
   "source": [
    "sale = {\"東京\":80, \"名古屋\":80, \"京都\":22, \"大阪\":50, \"福岡\":75}"
   ]
  },
  {
   "cell_type": "code",
   "execution_count": 2,
   "id": "505b85d2-344f-4fc2-8fee-fd23c8016554",
   "metadata": {},
   "outputs": [
    {
     "name": "stdout",
     "output_type": "stream",
     "text": [
      "キーを表示します。\n"
     ]
    }
   ],
   "source": [
    "print(\"キーを表示します。\")"
   ]
  },
  {
   "cell_type": "code",
   "execution_count": 3,
   "id": "fe83a49e-073a-4393-999a-b1f088884afe",
   "metadata": {},
   "outputs": [
    {
     "name": "stdout",
     "output_type": "stream",
     "text": [
      "東京\t名古屋\t京都\t大阪\t福岡\t\n"
     ]
    }
   ],
   "source": [
    "for k in sale.keys():\n",
    "    print(k, end = \"\\t\")\n",
    "print()"
   ]
  },
  {
   "cell_type": "code",
   "execution_count": 4,
   "id": "09958580-b924-471d-9d68-e69f63413f7f",
   "metadata": {},
   "outputs": [],
   "source": [
    "# ディクショナリ.keys() キーを1つずつ返す"
   ]
  },
  {
   "cell_type": "code",
   "execution_count": null,
   "id": "6ccee12e-0cbb-4364-b5db-ab3883ba77a0",
   "metadata": {},
   "outputs": [],
   "source": []
  },
  {
   "cell_type": "code",
   "execution_count": 5,
   "id": "0f587c30-5999-4483-bc2d-94a125ed2ae5",
   "metadata": {},
   "outputs": [
    {
     "name": "stdout",
     "output_type": "stream",
     "text": [
      "値を表示します。\n"
     ]
    }
   ],
   "source": [
    "print(\"値を表示します。\")"
   ]
  },
  {
   "cell_type": "code",
   "execution_count": 6,
   "id": "4fff62d4-ca13-42f0-b54a-116e8290fa21",
   "metadata": {},
   "outputs": [
    {
     "name": "stdout",
     "output_type": "stream",
     "text": [
      "80\t80\t22\t50\t75\t\n"
     ]
    }
   ],
   "source": [
    "for v in sale.values():\n",
    "    print(v, end = \"\\t\")\n",
    "print()"
   ]
  },
  {
   "cell_type": "code",
   "execution_count": 7,
   "id": "52aa0cf2-2838-43d2-ae36-cb0d954e3e5c",
   "metadata": {},
   "outputs": [],
   "source": [
    "# ディクショナリ.values() 値を1つずつ返す"
   ]
  },
  {
   "cell_type": "code",
   "execution_count": null,
   "id": "e4bfdece-c28d-45e5-bcd0-6cd6e74a50b9",
   "metadata": {},
   "outputs": [],
   "source": []
  },
  {
   "cell_type": "code",
   "execution_count": 8,
   "id": "fab96f69-60ef-492f-a20d-0a22fc05182b",
   "metadata": {},
   "outputs": [
    {
     "name": "stdout",
     "output_type": "stream",
     "text": [
      "キーと値を処理します。\n"
     ]
    }
   ],
   "source": [
    "print(\"キーと値を処理します。\")"
   ]
  },
  {
   "cell_type": "code",
   "execution_count": 9,
   "id": "e4aa5eaa-da1b-41b2-998b-fa18882e1b4c",
   "metadata": {},
   "outputs": [
    {
     "name": "stdout",
     "output_type": "stream",
     "text": [
      "('東京', 80)('名古屋', 80)('京都', 22)('大阪', 50)('福岡', 75)\n"
     ]
    }
   ],
   "source": [
    "for i in sale.items():\n",
    "    print(i, end = \"\")\n",
    "print()"
   ]
  },
  {
   "cell_type": "code",
   "execution_count": 10,
   "id": "146de748-f154-42bf-a5a3-4c8ec1cb51c3",
   "metadata": {},
   "outputs": [],
   "source": [
    "# # ディクショナリ.items() (キー, 値)を1つずつ返す"
   ]
  }
 ],
 "metadata": {
  "kernelspec": {
   "display_name": "Python 3 (ipykernel)",
   "language": "python",
   "name": "python3"
  },
  "language_info": {
   "codemirror_mode": {
    "name": "ipython",
    "version": 3
   },
   "file_extension": ".py",
   "mimetype": "text/x-python",
   "name": "python",
   "nbconvert_exporter": "python",
   "pygments_lexer": "ipython3",
   "version": "3.11.4"
  }
 },
 "nbformat": 4,
 "nbformat_minor": 5
}
