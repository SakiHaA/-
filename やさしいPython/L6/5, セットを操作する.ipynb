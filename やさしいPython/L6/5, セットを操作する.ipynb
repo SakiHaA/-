{
 "cells": [
  {
   "cell_type": "code",
   "execution_count": 1,
   "id": "ef16406b-9708-4220-bc51-33ed64db3e4b",
   "metadata": {},
   "outputs": [],
   "source": [
    "city = {\"東京\", \"名古屋\", \"京都\", \"大阪\", \"福岡\"}"
   ]
  },
  {
   "cell_type": "code",
   "execution_count": 2,
   "id": "fcf2c8c4-a067-4c29-bb32-ddb455348e2e",
   "metadata": {},
   "outputs": [
    {
     "name": "stdout",
     "output_type": "stream",
     "text": [
      "現在のデータは {'名古屋', '福岡', '大阪', '東京', '京都'} です。\n"
     ]
    }
   ],
   "source": [
    "print(\"現在のデータは\", city, \"です。\")"
   ]
  },
  {
   "cell_type": "code",
   "execution_count": null,
   "id": "7aa70143-5d9d-4cd3-8ae6-6bda4ed6b86a",
   "metadata": {},
   "outputs": [],
   "source": []
  },
  {
   "cell_type": "code",
   "execution_count": 3,
   "id": "4246d863-e61a-4401-89da-3ff7b0f52eb7",
   "metadata": {},
   "outputs": [
    {
     "name": "stdin",
     "output_type": "stream",
     "text": [
      "追加するデータを追加してください。 あ\n"
     ]
    }
   ],
   "source": [
    "d = input(\"追加するデータを追加してください。\")"
   ]
  },
  {
   "cell_type": "code",
   "execution_count": 4,
   "id": "327f2e18-bc19-4eda-acf0-c3901eb9b5b7",
   "metadata": {},
   "outputs": [
    {
     "name": "stdout",
     "output_type": "stream",
     "text": [
      "現在のデータは {'名古屋', '福岡', '大阪', 'あ', '東京', '京都'} です。\n"
     ]
    }
   ],
   "source": [
    "if d in city:\n",
    "    print(d, \"はすでに存在しています。\")\n",
    "else:\n",
    "    city.add(d)\n",
    "    print(\"現在のデータは\", city, \"です。\")"
   ]
  },
  {
   "cell_type": "code",
   "execution_count": 5,
   "id": "eb87c447-99c0-4a0c-8feb-71ad18ed6b1a",
   "metadata": {},
   "outputs": [],
   "source": [
    "# セット名,add(値)"
   ]
  },
  {
   "cell_type": "code",
   "execution_count": null,
   "id": "df628c60-abd9-4ec4-9e2d-53b2d491af21",
   "metadata": {},
   "outputs": [],
   "source": []
  },
  {
   "cell_type": "code",
   "execution_count": 6,
   "id": "6fc9605c-d047-4802-bed5-1272202ca9e3",
   "metadata": {},
   "outputs": [
    {
     "name": "stdin",
     "output_type": "stream",
     "text": [
      "削除するデータを入力してください。 d\n"
     ]
    }
   ],
   "source": [
    "d = input(\"削除するデータを入力してください。\")"
   ]
  },
  {
   "cell_type": "code",
   "execution_count": 7,
   "id": "ecaec558-e848-4f49-9c0c-f26dc54ac082",
   "metadata": {},
   "outputs": [
    {
     "name": "stdout",
     "output_type": "stream",
     "text": [
      "d は見つかりませんでした。\n"
     ]
    }
   ],
   "source": [
    "if d in city:\n",
    "    city.remove(d)\n",
    "    print(d, \"を削除しました。\")\n",
    "else:\n",
    "    print(d, \"は見つかりませんでした。\")"
   ]
  },
  {
   "cell_type": "code",
   "execution_count": 8,
   "id": "e1e3a404-63f6-42e2-ac4c-607e57a24894",
   "metadata": {},
   "outputs": [
    {
     "name": "stdout",
     "output_type": "stream",
     "text": [
      "現在のデータは {'名古屋', '福岡', '大阪', 'あ', '東京', '京都'} です。\n"
     ]
    }
   ],
   "source": [
    "print(\"現在のデータは\", city, \"です。\")"
   ]
  },
  {
   "cell_type": "code",
   "execution_count": 9,
   "id": "ad7ff193-64e6-44b8-ad08-b12f4cd0ddde",
   "metadata": {},
   "outputs": [],
   "source": [
    "# セット名.remove(値)"
   ]
  }
 ],
 "metadata": {
  "kernelspec": {
   "display_name": "Python 3 (ipykernel)",
   "language": "python",
   "name": "python3"
  },
  "language_info": {
   "codemirror_mode": {
    "name": "ipython",
    "version": 3
   },
   "file_extension": ".py",
   "mimetype": "text/x-python",
   "name": "python",
   "nbconvert_exporter": "python",
   "pygments_lexer": "ipython3",
   "version": "3.11.4"
  }
 },
 "nbformat": 4,
 "nbformat_minor": 5
}
