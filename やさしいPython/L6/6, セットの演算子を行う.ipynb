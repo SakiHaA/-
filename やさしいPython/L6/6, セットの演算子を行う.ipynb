{
 "cells": [
  {
   "cell_type": "code",
   "execution_count": 1,
   "id": "45076a0c-dcd3-4669-be55-d4eed837e421",
   "metadata": {},
   "outputs": [],
   "source": [
    "cityA = {\"東京\", \"名古屋\", \"京都\", \"大阪\"}"
   ]
  },
  {
   "cell_type": "code",
   "execution_count": 2,
   "id": "b194eaa6-1463-4410-852f-0d35240634de",
   "metadata": {},
   "outputs": [],
   "source": [
    "cityB = {\"京都\", \"大阪\", \"福岡\"}"
   ]
  },
  {
   "cell_type": "code",
   "execution_count": null,
   "id": "9a80705a-1e6b-498f-8f42-007db2925471",
   "metadata": {},
   "outputs": [],
   "source": []
  },
  {
   "cell_type": "code",
   "execution_count": 3,
   "id": "0188729d-fb91-44b9-84ce-2cdfb343d514",
   "metadata": {},
   "outputs": [
    {
     "name": "stdout",
     "output_type": "stream",
     "text": [
      "Aの都市名は {'名古屋', '京都', '大阪', '東京'} です。\n"
     ]
    }
   ],
   "source": [
    "print(\"Aの都市名は\", cityA, \"です。\")"
   ]
  },
  {
   "cell_type": "code",
   "execution_count": 4,
   "id": "0899ad9d-3031-4601-95a9-a2c98ce2876f",
   "metadata": {},
   "outputs": [
    {
     "name": "stdout",
     "output_type": "stream",
     "text": [
      "Bの都市名は {'京都', '福岡', '大阪'} です。\n"
     ]
    }
   ],
   "source": [
    "print(\"Bの都市名は\", cityB, \"です。\")"
   ]
  },
  {
   "cell_type": "code",
   "execution_count": null,
   "id": "2a187a49-499a-4328-93f6-3be8af242031",
   "metadata": {},
   "outputs": [],
   "source": []
  },
  {
   "cell_type": "code",
   "execution_count": 5,
   "id": "66a8393e-3ba4-458d-ad1c-479851b0b448",
   "metadata": {},
   "outputs": [
    {
     "name": "stdout",
     "output_type": "stream",
     "text": [
      "共通するデータは {'京都', '大阪'} です。\n"
     ]
    }
   ],
   "source": [
    "print(\"共通するデータは\", cityA & cityB, \"です。\")"
   ]
  },
  {
   "cell_type": "code",
   "execution_count": 6,
   "id": "b377e976-f279-41dd-936a-ebd99d1f2bf1",
   "metadata": {},
   "outputs": [
    {
     "name": "stdout",
     "output_type": "stream",
     "text": [
      "Aのみのデータは {'名古屋', '東京'} です。\n"
     ]
    }
   ],
   "source": [
    "print(\"Aのみのデータは\", cityA - cityB, \"です。\")"
   ]
  },
  {
   "cell_type": "code",
   "execution_count": 7,
   "id": "d5925651-df56-4dd2-ab5a-9c947e964e0d",
   "metadata": {},
   "outputs": [
    {
     "name": "stdout",
     "output_type": "stream",
     "text": [
      "Bのみのデータは {'福岡'} です。\n"
     ]
    }
   ],
   "source": [
    "print(\"Bのみのデータは\", cityB - cityA, \"です。\")"
   ]
  },
  {
   "cell_type": "code",
   "execution_count": 8,
   "id": "8b1d757c-be36-4a46-8184-054ec80b24da",
   "metadata": {},
   "outputs": [
    {
     "name": "stdout",
     "output_type": "stream",
     "text": [
      "全てのデータは {'大阪', '東京', '福岡', '名古屋', '京都'} です。\n"
     ]
    }
   ],
   "source": [
    "print(\"全てのデータは\", cityA | cityB, \"です。\")"
   ]
  }
 ],
 "metadata": {
  "kernelspec": {
   "display_name": "Python 3 (ipykernel)",
   "language": "python",
   "name": "python3"
  },
  "language_info": {
   "codemirror_mode": {
    "name": "ipython",
    "version": 3
   },
   "file_extension": ".py",
   "mimetype": "text/x-python",
   "name": "python",
   "nbconvert_exporter": "python",
   "pygments_lexer": "ipython3",
   "version": "3.11.4"
  }
 },
 "nbformat": 4,
 "nbformat_minor": 5
}
