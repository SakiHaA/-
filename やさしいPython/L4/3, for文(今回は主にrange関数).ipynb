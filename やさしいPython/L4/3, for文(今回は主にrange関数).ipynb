{
 "cells": [
  {
   "cell_type": "code",
   "execution_count": 2,
   "id": "1522aaf7-8e79-49d9-a0ee-ae570ca72654",
   "metadata": {},
   "outputs": [],
   "source": [
    "# for i in 繰り返し処理できる仕組み:"
   ]
  },
  {
   "cell_type": "code",
   "execution_count": 3,
   "id": "bdb85249-30e2-45fc-98e3-387d80bb417e",
   "metadata": {},
   "outputs": [],
   "source": [
    "# 繰り返し処理できる仕組みはいろんな種類がある"
   ]
  },
  {
   "cell_type": "code",
   "execution_count": null,
   "id": "98751e07-9eb9-4451-afd6-8cd3031cd01b",
   "metadata": {},
   "outputs": [],
   "source": []
  },
  {
   "cell_type": "code",
   "execution_count": null,
   "id": "b76655ce-7e11-4e54-b564-005b69fb0022",
   "metadata": {},
   "outputs": [],
   "source": [
    "# 今回はrange関数"
   ]
  },
  {
   "cell_type": "code",
   "execution_count": 4,
   "id": "12969d71-e1dd-43e6-b74b-868d4b8b6d2a",
   "metadata": {},
   "outputs": [],
   "source": [
    "# for i in range(開始値, 停止値, 間隔)"
   ]
  },
  {
   "cell_type": "code",
   "execution_count": 8,
   "id": "8478c1ba-6ec0-4f1d-8e4c-de3844d5f200",
   "metadata": {},
   "outputs": [],
   "source": [
    "# 開始値 => 未記載なら0から"
   ]
  },
  {
   "cell_type": "code",
   "execution_count": 9,
   "id": "61f328b7-0bda-45e0-a408-62eeaa959317",
   "metadata": {},
   "outputs": [],
   "source": [
    "# 停止値　=> 記載した値の1つ手前まで刻む(ここは必ず記載される)"
   ]
  },
  {
   "cell_type": "code",
   "execution_count": 10,
   "id": "775509b5-b6a0-4608-88a2-50d36bd084c7",
   "metadata": {},
   "outputs": [],
   "source": [
    "# 間隔 => その名の通り(未記載なら1つずつ)"
   ]
  },
  {
   "cell_type": "code",
   "execution_count": null,
   "id": "f0832585-20cd-4faf-af74-26fd0811eb3a",
   "metadata": {},
   "outputs": [],
   "source": []
  },
  {
   "cell_type": "code",
   "execution_count": 1,
   "id": "3a135fd3-368c-417d-9022-3421fff97379",
   "metadata": {},
   "outputs": [
    {
     "name": "stdout",
     "output_type": "stream",
     "text": [
      "1 月のデータです。　\n",
      "2 月のデータです。　\n",
      "3 月のデータです。　\n",
      "4 月のデータです。　\n",
      "5 月のデータです。　\n",
      "6 月のデータです。　\n",
      "7 月のデータです。　\n",
      "8 月のデータです。　\n",
      "9 月のデータです。　\n",
      "10 月のデータです。　\n",
      "11 月のデータです。　\n",
      "12 月のデータです。　\n"
     ]
    }
   ],
   "source": [
    "for i in range(12):\n",
    "    print(i + 1, \"月のデータです。　\")"
   ]
  },
  {
   "cell_type": "code",
   "execution_count": 5,
   "id": "738f2a9e-0f58-4ea9-a10e-02b453520db3",
   "metadata": {},
   "outputs": [],
   "source": [
    "# 停止値のみ記載されているパターン"
   ]
  },
  {
   "cell_type": "code",
   "execution_count": null,
   "id": "297729f7-8a7b-4c41-b0a8-02ef46e036c4",
   "metadata": {},
   "outputs": [],
   "source": []
  },
  {
   "cell_type": "code",
   "execution_count": 6,
   "id": "b9d74907-ae2b-40f8-b219-fe29f66ad6ee",
   "metadata": {},
   "outputs": [
    {
     "name": "stdout",
     "output_type": "stream",
     "text": [
      "1 月のデータです。　\n",
      "2 月のデータです。　\n",
      "3 月のデータです。　\n",
      "4 月のデータです。　\n",
      "5 月のデータです。　\n",
      "6 月のデータです。　\n",
      "7 月のデータです。　\n",
      "8 月のデータです。　\n",
      "9 月のデータです。　\n",
      "10 月のデータです。　\n",
      "11 月のデータです。　\n",
      "12 月のデータです。　\n"
     ]
    }
   ],
   "source": [
    "for i in range(1, 13):\n",
    "    print(i, \"月のデータです。　\")"
   ]
  },
  {
   "cell_type": "code",
   "execution_count": 11,
   "id": "674745c1-d612-41c0-8a54-26b46a6c460b",
   "metadata": {},
   "outputs": [],
   "source": [
    "# 上の場合　　０のところを1から開始, 0から13になるとこつまり12まで, 間隔は何もないので1つずつ"
   ]
  },
  {
   "cell_type": "code",
   "execution_count": null,
   "id": "32db11d2-a092-434e-a6e0-2bb32c99dda5",
   "metadata": {},
   "outputs": [],
   "source": []
  },
  {
   "cell_type": "code",
   "execution_count": 12,
   "id": "091076c6-9ed2-46f4-96a8-2cd6f3831e88",
   "metadata": {},
   "outputs": [
    {
     "name": "stdout",
     "output_type": "stream",
     "text": [
      "1 月のデータです。　\n",
      "2 月のデータです。　\n",
      "3 月のデータです。　\n",
      "4 月のデータです。　\n",
      "5 月のデータです。　\n",
      "6 月のデータです。　\n",
      "7 月のデータです。　\n",
      "8 月のデータです。　\n",
      "9 月のデータです。　\n",
      "10 月のデータです。　\n",
      "11 月のデータです。　\n",
      "12 月のデータです。　\n"
     ]
    }
   ],
   "source": [
    "for i in range(1, 13, 1):\n",
    "    print(i, \"月のデータです。　\")"
   ]
  },
  {
   "cell_type": "code",
   "execution_count": null,
   "id": "b3428bdb-2151-4418-9fd7-19df7d3a4121",
   "metadata": {},
   "outputs": [],
   "source": [
    "# ０のところを1から開始, 0から13になるとこつまり12まで, 間隔は1つずつ"
   ]
  },
  {
   "cell_type": "code",
   "execution_count": 13,
   "id": "6116cff1-aec9-4a06-aa60-836498666807",
   "metadata": {},
   "outputs": [],
   "source": [
    "# 1つ前と同じ結果になる"
   ]
  },
  {
   "cell_type": "code",
   "execution_count": null,
   "id": "4c31cdc9-3a0f-4b1d-b1ed-61645815a862",
   "metadata": {},
   "outputs": [],
   "source": []
  },
  {
   "cell_type": "code",
   "execution_count": 14,
   "id": "d0da4918-2bf0-45b9-8a2a-f3c09a77975c",
   "metadata": {},
   "outputs": [
    {
     "name": "stdout",
     "output_type": "stream",
     "text": [
      "0 月のデータです。　\n",
      "2 月のデータです。　\n",
      "4 月のデータです。　\n",
      "6 月のデータです。　\n",
      "8 月のデータです。　\n"
     ]
    }
   ],
   "source": [
    "for i in range(0, 10, 2):\n",
    "    print(i, \"月のデータです。　\")"
   ]
  },
  {
   "cell_type": "code",
   "execution_count": 15,
   "id": "1958f8d0-7774-43bb-af9e-21a39f559270",
   "metadata": {},
   "outputs": [],
   "source": [
    "# 0から開始して10の1つ手前(つまり8)までを2つずつ"
   ]
  },
  {
   "cell_type": "code",
   "execution_count": null,
   "id": "4d977832-64fd-4fd8-8d07-01241cd0ce93",
   "metadata": {},
   "outputs": [],
   "source": []
  },
  {
   "cell_type": "code",
   "execution_count": 16,
   "id": "2af06a71-9697-4872-b619-00137c6a1723",
   "metadata": {},
   "outputs": [
    {
     "name": "stdout",
     "output_type": "stream",
     "text": [
      "10 月のデータです。　\n",
      "8 月のデータです。　\n",
      "6 月のデータです。　\n",
      "4 月のデータです。　\n"
     ]
    }
   ],
   "source": [
    "for i in range(10, 2, -2):\n",
    "    print(i, \"月のデータです。　\")"
   ]
  },
  {
   "cell_type": "code",
   "execution_count": 17,
   "id": "fe08dea2-2265-43d5-bec8-0e08bd5a3a43",
   "metadata": {},
   "outputs": [],
   "source": [
    "# 0から開始して2の1つ手前(つまり4まで)を-2つずつ"
   ]
  }
 ],
 "metadata": {
  "kernelspec": {
   "display_name": "Python 3 (ipykernel)",
   "language": "python",
   "name": "python3"
  },
  "language_info": {
   "codemirror_mode": {
    "name": "ipython",
    "version": 3
   },
   "file_extension": ".py",
   "mimetype": "text/x-python",
   "name": "python",
   "nbconvert_exporter": "python",
   "pygments_lexer": "ipython3",
   "version": "3.11.4"
  }
 },
 "nbformat": 4,
 "nbformat_minor": 5
}
