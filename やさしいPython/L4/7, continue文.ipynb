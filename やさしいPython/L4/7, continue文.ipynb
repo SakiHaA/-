{
 "cells": [
  {
   "cell_type": "code",
   "execution_count": 1,
   "id": "ba6bce9b-d888-40ec-b0f4-2f089e50af95",
   "metadata": {},
   "outputs": [
    {
     "name": "stdin",
     "output_type": "stream",
     "text": [
      "何月の処理を飛ばしますか？(1~12) 11\n"
     ]
    }
   ],
   "source": [
    "num = int(input(\"何月の処理を飛ばしますか？(1~12)\"))"
   ]
  },
  {
   "cell_type": "code",
   "execution_count": null,
   "id": "19eea1d6-f953-456e-a930-8ee80fa3728b",
   "metadata": {},
   "outputs": [],
   "source": []
  },
  {
   "cell_type": "code",
   "execution_count": 2,
   "id": "284abdf9-2313-4fde-addc-d726b7b4ab8a",
   "metadata": {},
   "outputs": [
    {
     "name": "stdout",
     "output_type": "stream",
     "text": [
      "1 月のデータです。\n",
      "2 月のデータです。\n",
      "3 月のデータです。\n",
      "4 月のデータです。\n",
      "5 月のデータです。\n",
      "6 月のデータです。\n",
      "7 月のデータです。\n",
      "8 月のデータです。\n",
      "9 月のデータです。\n",
      "10 月のデータです。\n",
      "12 月のデータです。\n"
     ]
    }
   ],
   "source": [
    "for i in range(12):\n",
    "    if (i + 1) == num:\n",
    "        continue\n",
    "    print(i + 1, \"月のデータです。\")"
   ]
  },
  {
   "cell_type": "code",
   "execution_count": 3,
   "id": "5d718b70-8208-49ff-b6d1-0f7e12f1831d",
   "metadata": {},
   "outputs": [],
   "source": [
    "# 指定した数字だけ抜ける処理がcontinue文"
   ]
  },
  {
   "cell_type": "code",
   "execution_count": 4,
   "id": "624b0a81-c7a4-40b6-aef0-a7cca58633cc",
   "metadata": {},
   "outputs": [],
   "source": [
    "# ０から開始、入力した数字の1つ手前で、間隔が1つずつ"
   ]
  },
  {
   "cell_type": "code",
   "execution_count": 5,
   "id": "514b05af-09a9-4c4e-bf6b-a47d0170dd13",
   "metadata": {},
   "outputs": [],
   "source": [
    "# 入力したとこだけ省略"
   ]
  }
 ],
 "metadata": {
  "kernelspec": {
   "display_name": "Python 3 (ipykernel)",
   "language": "python",
   "name": "python3"
  },
  "language_info": {
   "codemirror_mode": {
    "name": "ipython",
    "version": 3
   },
   "file_extension": ".py",
   "mimetype": "text/x-python",
   "name": "python",
   "nbconvert_exporter": "python",
   "pygments_lexer": "ipython3",
   "version": "3.11.4"
  }
 },
 "nbformat": 4,
 "nbformat_minor": 5
}
