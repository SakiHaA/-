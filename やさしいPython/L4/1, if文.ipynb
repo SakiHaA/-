{
 "cells": [
  {
   "cell_type": "code",
   "execution_count": 1,
   "id": "47ada01f-547e-4489-bba5-11ab2c6b50e6",
   "metadata": {},
   "outputs": [
    {
     "name": "stdin",
     "output_type": "stream",
     "text": [
      "売上を入力します。 1\n"
     ]
    }
   ],
   "source": [
    "sale = int(input(\"売上を入力します。\"))"
   ]
  },
  {
   "cell_type": "code",
   "execution_count": null,
   "id": "7dee8cf1-d914-458e-9b61-1e838d55f07b",
   "metadata": {},
   "outputs": [],
   "source": []
  },
  {
   "cell_type": "code",
   "execution_count": 2,
   "id": "b85e0e22-a25e-40fc-917b-85a71efcde57",
   "metadata": {},
   "outputs": [],
   "source": [
    "if sale >= 100:\n",
    "    print(\"売上は順調です。\")"
   ]
  },
  {
   "cell_type": "code",
   "execution_count": 3,
   "id": "f075f7b8-90c7-4d58-8012-133601b653fd",
   "metadata": {},
   "outputs": [],
   "source": [
    "# 条件の後ろに:を忘れずに"
   ]
  },
  {
   "cell_type": "code",
   "execution_count": null,
   "id": "0018dcf8-d4b2-417e-b0f1-14a2d4ab9d45",
   "metadata": {},
   "outputs": [],
   "source": []
  },
  {
   "cell_type": "code",
   "execution_count": 4,
   "id": "a1cf51ac-edf9-48e2-aa33-2985843dc3db",
   "metadata": {},
   "outputs": [
    {
     "name": "stdout",
     "output_type": "stream",
     "text": [
      "処理を終了します。\n"
     ]
    }
   ],
   "source": [
    "print(\"処理を終了します。\")"
   ]
  }
 ],
 "metadata": {
  "kernelspec": {
   "display_name": "Python 3 (ipykernel)",
   "language": "python",
   "name": "python3"
  },
  "language_info": {
   "codemirror_mode": {
    "name": "ipython",
    "version": 3
   },
   "file_extension": ".py",
   "mimetype": "text/x-python",
   "name": "python",
   "nbconvert_exporter": "python",
   "pygments_lexer": "ipython3",
   "version": "3.11.4"
  }
 },
 "nbformat": 4,
 "nbformat_minor": 5
}
