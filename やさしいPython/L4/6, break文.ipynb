{
 "cells": [
  {
   "cell_type": "code",
   "execution_count": 1,
   "id": "86295a1d-5e78-4ec1-8b43-e6edd3fe1ae6",
   "metadata": {},
   "outputs": [
    {
     "name": "stdin",
     "output_type": "stream",
     "text": [
      "何月の処理で終了しますか？(1~12) 11\n"
     ]
    }
   ],
   "source": [
    "num = int(input(\"何月の処理で終了しますか？(1~12)\"))"
   ]
  },
  {
   "cell_type": "code",
   "execution_count": null,
   "id": "04bd83c1-eb8b-4196-a7ae-8d907b5f8590",
   "metadata": {},
   "outputs": [],
   "source": []
  },
  {
   "cell_type": "code",
   "execution_count": 2,
   "id": "1d504cbe-0bb5-4a0f-843b-907b3ef17d01",
   "metadata": {},
   "outputs": [
    {
     "name": "stdout",
     "output_type": "stream",
     "text": [
      "1 月のデータです。\n",
      "2 月のデータです。\n",
      "3 月のデータです。\n",
      "4 月のデータです。\n",
      "5 月のデータです。\n",
      "6 月のデータです。\n",
      "7 月のデータです。\n",
      "8 月のデータです。\n",
      "9 月のデータです。\n",
      "10 月のデータです。\n",
      "11 月のデータです。\n"
     ]
    }
   ],
   "source": [
    "for i in range(12):\n",
    "    print(i + 1, \"月のデータです。\")\n",
    "    if (i + 1) == num:\n",
    "        break"
   ]
  },
  {
   "cell_type": "code",
   "execution_count": null,
   "id": "cd23d514-49ad-4b29-93d0-e0000b000006",
   "metadata": {},
   "outputs": [],
   "source": [
    "# 指定した数字で抜ける処理がbreak文"
   ]
  },
  {
   "cell_type": "code",
   "execution_count": null,
   "id": "cea28cfa-f0a1-477a-9f64-7f149af3b916",
   "metadata": {},
   "outputs": [],
   "source": [
    "# ０から開始、入力した数字の1つ手前で、間隔が1つずつ"
   ]
  },
  {
   "cell_type": "code",
   "execution_count": null,
   "id": "c888dae6-a823-4532-ac47-5c879fb18998",
   "metadata": {},
   "outputs": [],
   "source": [
    "# 途中で=になったら中断"
   ]
  }
 ],
 "metadata": {
  "kernelspec": {
   "display_name": "Python 3 (ipykernel)",
   "language": "python",
   "name": "python3"
  },
  "language_info": {
   "codemirror_mode": {
    "name": "ipython",
    "version": 3
   },
   "file_extension": ".py",
   "mimetype": "text/x-python",
   "name": "python",
   "nbconvert_exporter": "python",
   "pygments_lexer": "ipython3",
   "version": "3.11.4"
  }
 },
 "nbformat": 4,
 "nbformat_minor": 5
}
