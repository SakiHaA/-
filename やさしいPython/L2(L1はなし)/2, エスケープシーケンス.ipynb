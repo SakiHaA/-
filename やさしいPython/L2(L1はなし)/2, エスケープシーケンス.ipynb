{
 "cells": [
  {
   "cell_type": "code",
   "execution_count": 1,
   "id": "81f36278-cf23-4317-81d4-1083f8340658",
   "metadata": {},
   "outputs": [],
   "source": [
    "# ￥と組み合わせて作る => エスケープシーケンス(場合によっては\\もありうる)"
   ]
  },
  {
   "cell_type": "code",
   "execution_count": 2,
   "id": "f58c7d1f-67bf-4936-8f45-a6cfeb2ecbc0",
   "metadata": {},
   "outputs": [
    {
     "name": "stdout",
     "output_type": "stream",
     "text": [
      "円記号を表示します。: \\￥\n"
     ]
    }
   ],
   "source": [
    "print(\"円記号を表示します。: \\￥\")"
   ]
  },
  {
   "cell_type": "code",
   "execution_count": 3,
   "id": "529b1abe-dfa2-48eb-a15d-06522bca6c0f",
   "metadata": {},
   "outputs": [
    {
     "name": "stdout",
     "output_type": "stream",
     "text": [
      "アポストロフィを表示します。: '\n"
     ]
    }
   ],
   "source": [
    "print(\"アポストロフィを表示します。: \\'\")"
   ]
  },
  {
   "cell_type": "code",
   "execution_count": 4,
   "id": "05bf9afd-8f72-4991-94e1-d2136a3926f4",
   "metadata": {},
   "outputs": [],
   "source": [
    "# 文字列の前にr,Rのいずれかをつけると￥をエスケープシーケンスとして扱わない文字列にできる)"
   ]
  },
  {
   "cell_type": "code",
   "execution_count": 5,
   "id": "93e48997-44fa-44fb-8fd7-f5aff735ff66",
   "metadata": {},
   "outputs": [],
   "source": [
    "# これをraw文字列という"
   ]
  },
  {
   "cell_type": "code",
   "execution_count": 6,
   "id": "6dd32ecc-90ea-4b36-b2b7-d9b65c4d7279",
   "metadata": {},
   "outputs": [
    {
     "name": "stdout",
     "output_type": "stream",
     "text": [
      "円記号を表示します。: ￥￥\n"
     ]
    }
   ],
   "source": [
    "print(r\"円記号を表示します。: ￥￥\")"
   ]
  },
  {
   "cell_type": "code",
   "execution_count": null,
   "id": "cbb4527d-1cc0-4012-9392-cda5b10ff233",
   "metadata": {},
   "outputs": [],
   "source": [
    "# 後ほど加筆"
   ]
  }
 ],
 "metadata": {
  "kernelspec": {
   "display_name": "Python 3 (ipykernel)",
   "language": "python",
   "name": "python3"
  },
  "language_info": {
   "codemirror_mode": {
    "name": "ipython",
    "version": 3
   },
   "file_extension": ".py",
   "mimetype": "text/x-python",
   "name": "python",
   "nbconvert_exporter": "python",
   "pygments_lexer": "ipython3",
   "version": "3.11.4"
  }
 },
 "nbformat": 4,
 "nbformat_minor": 5
}
