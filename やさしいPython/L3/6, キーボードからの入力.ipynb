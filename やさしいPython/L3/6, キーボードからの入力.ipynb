{
 "cells": [
  {
   "cell_type": "code",
   "execution_count": 1,
   "id": "321f2fb2-ace4-4922-9752-86c3aab20a04",
   "metadata": {},
   "outputs": [
    {
     "name": "stdin",
     "output_type": "stream",
     "text": [
      "入力待ち 1\n"
     ]
    }
   ],
   "source": [
    "n = input(\"入力待ち\")"
   ]
  },
  {
   "cell_type": "code",
   "execution_count": 2,
   "id": "a7796051-5f5c-44c9-ae47-10d3c4b64e86",
   "metadata": {},
   "outputs": [
    {
     "name": "stdout",
     "output_type": "stream",
     "text": [
      "1 が入力されました。\n"
     ]
    }
   ],
   "source": [
    "print(n, \"が入力されました。\")"
   ]
  },
  {
   "cell_type": "code",
   "execution_count": 3,
   "id": "86daae3c-5d50-41d9-9f60-e95665a3102d",
   "metadata": {},
   "outputs": [],
   "source": [
    "# 変数 = input(\"画面に入力するメッセージ\")"
   ]
  },
  {
   "cell_type": "code",
   "execution_count": null,
   "id": "20bea0f6-d768-4f62-b559-8f041a37e242",
   "metadata": {},
   "outputs": [],
   "source": []
  },
  {
   "cell_type": "code",
   "execution_count": 4,
   "id": "c554988b-e6c6-4686-88df-ecd2b5b5f218",
   "metadata": {},
   "outputs": [
    {
     "name": "stdin",
     "output_type": "stream",
     "text": [
      "数値1を入力してください。 1\n"
     ]
    }
   ],
   "source": [
    "num1 = input(\"数値1を入力してください。\")"
   ]
  },
  {
   "cell_type": "code",
   "execution_count": 5,
   "id": "705a6e73-0eca-4921-ae91-69d12648feee",
   "metadata": {},
   "outputs": [
    {
     "name": "stdin",
     "output_type": "stream",
     "text": [
      "数値2を入力してください。 12\n"
     ]
    }
   ],
   "source": [
    "num2 = input(\"数値2を入力してください。\")"
   ]
  },
  {
   "cell_type": "code",
   "execution_count": 6,
   "id": "1e6eb6f3-5968-4b64-ad0a-3c570e90a544",
   "metadata": {},
   "outputs": [],
   "source": [
    "num3 = num1 + num2"
   ]
  },
  {
   "cell_type": "code",
   "execution_count": 7,
   "id": "02837279-b9a4-4c1d-90a4-0afc44e1519e",
   "metadata": {},
   "outputs": [
    {
     "name": "stdout",
     "output_type": "stream",
     "text": [
      "1 + 12 は 112 です\n"
     ]
    }
   ],
   "source": [
    "print(num1, \"+\", num2, \"は\", num3, \"です\")"
   ]
  },
  {
   "cell_type": "code",
   "execution_count": 8,
   "id": "026e524d-4acf-4cea-b41b-45e5c37d24fe",
   "metadata": {},
   "outputs": [],
   "source": [
    "# inputは文字列の入力扱いになるので↑だと文字がくっつくだけ"
   ]
  },
  {
   "cell_type": "code",
   "execution_count": null,
   "id": "c3aa04a1-e49b-4cb7-aea5-3b11667f62d1",
   "metadata": {},
   "outputs": [],
   "source": []
  },
  {
   "cell_type": "code",
   "execution_count": 9,
   "id": "7050b81a-feeb-4b24-9eb0-f6c8c285181f",
   "metadata": {},
   "outputs": [
    {
     "name": "stdin",
     "output_type": "stream",
     "text": [
      "数値1を入力してください。 1\n"
     ]
    }
   ],
   "source": [
    "num1 = int(input(\"数値1を入力してください。\"))"
   ]
  },
  {
   "cell_type": "code",
   "execution_count": 10,
   "id": "bcb227c1-f5d5-42b8-b6f0-b34ea9fec89a",
   "metadata": {},
   "outputs": [
    {
     "name": "stdin",
     "output_type": "stream",
     "text": [
      "数値2を入力してください。 12\n"
     ]
    }
   ],
   "source": [
    "num2 = int(input(\"数値2を入力してください。\"))"
   ]
  },
  {
   "cell_type": "code",
   "execution_count": 11,
   "id": "2b8de239-20f6-438b-afe2-8e7df17e8b19",
   "metadata": {},
   "outputs": [],
   "source": [
    "num3 = num1 + num2"
   ]
  },
  {
   "cell_type": "code",
   "execution_count": 12,
   "id": "5a97dfd8-6f88-4e88-ae9a-4042a55a1c46",
   "metadata": {},
   "outputs": [
    {
     "name": "stdout",
     "output_type": "stream",
     "text": [
      "1 + 12 は 13 です。\n"
     ]
    }
   ],
   "source": [
    "print(num1, \"+\", num2, \"は\", num3, \"です。\")"
   ]
  },
  {
   "cell_type": "code",
   "execution_count": null,
   "id": "7b9274ba-b22e-4fcd-ad41-026a58f002c3",
   "metadata": {},
   "outputs": [],
   "source": [
    "# これで足し算になる"
   ]
  }
 ],
 "metadata": {
  "kernelspec": {
   "display_name": "Python 3 (ipykernel)",
   "language": "python",
   "name": "python3"
  },
  "language_info": {
   "codemirror_mode": {
    "name": "ipython",
    "version": 3
   },
   "file_extension": ".py",
   "mimetype": "text/x-python",
   "name": "python",
   "nbconvert_exporter": "python",
   "pygments_lexer": "ipython3",
   "version": "3.11.4"
  }
 },
 "nbformat": 4,
 "nbformat_minor": 5
}
