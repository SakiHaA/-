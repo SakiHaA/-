{
 "cells": [
  {
   "cell_type": "code",
   "execution_count": 1,
   "id": "453ea341-7168-4df7-b1be-04633ace91ec",
   "metadata": {},
   "outputs": [
    {
     "name": "stdout",
     "output_type": "stream",
     "text": [
      "1+2は 3 です。\n"
     ]
    }
   ],
   "source": [
    "print(\"1+2は\", 1+2, \"です。\")"
   ]
  },
  {
   "cell_type": "code",
   "execution_count": 2,
   "id": "e3ddb33e-5d23-41c2-befd-b6c5787e887b",
   "metadata": {},
   "outputs": [],
   "source": [
    "# どのように判別されるのか"
   ]
  },
  {
   "cell_type": "code",
   "execution_count": 3,
   "id": "b3685191-5c58-44e7-9c0c-b549e702eebe",
   "metadata": {},
   "outputs": [],
   "source": [
    "price = 50"
   ]
  },
  {
   "cell_type": "code",
   "execution_count": 4,
   "id": "2a3e4963-f4e9-4829-ba1a-2fc2574b158b",
   "metadata": {},
   "outputs": [],
   "source": [
    "num = 10"
   ]
  },
  {
   "cell_type": "code",
   "execution_count": 5,
   "id": "bc303f8b-1922-41cd-b9e7-5bef5662a80c",
   "metadata": {},
   "outputs": [],
   "source": [
    "total = price * num"
   ]
  },
  {
   "cell_type": "code",
   "execution_count": 6,
   "id": "84841d31-7cc0-407c-bb0e-2cc488ca271a",
   "metadata": {},
   "outputs": [
    {
     "name": "stdout",
     "output_type": "stream",
     "text": [
      "単価は 50 円です。\n"
     ]
    }
   ],
   "source": [
    "print(\"単価は\", price, \"円です。\")"
   ]
  },
  {
   "cell_type": "code",
   "execution_count": 7,
   "id": "e3b0b608-bff9-436b-9099-9646a524595d",
   "metadata": {},
   "outputs": [
    {
     "name": "stdout",
     "output_type": "stream",
     "text": [
      "売上個数は 10 個です。\n"
     ]
    }
   ],
   "source": [
    "print(\"売上個数は\", num, \"個です。\")"
   ]
  },
  {
   "cell_type": "code",
   "execution_count": 8,
   "id": "9d358bd3-7fa7-43f0-ab16-4ec97cfeb4d2",
   "metadata": {},
   "outputs": [
    {
     "name": "stdout",
     "output_type": "stream",
     "text": [
      "合計金額は 500 円です。\n"
     ]
    }
   ],
   "source": [
    "print(\"合計金額は\", total, \"円です。\")"
   ]
  },
  {
   "cell_type": "code",
   "execution_count": 9,
   "id": "3b29d595-7054-4c1a-b416-c79496b7a523",
   "metadata": {},
   "outputs": [],
   "source": [
    "total = total - 100"
   ]
  },
  {
   "cell_type": "code",
   "execution_count": 10,
   "id": "3e66b65d-1fc5-4c51-8970-ed037732ab35",
   "metadata": {},
   "outputs": [
    {
     "name": "stdout",
     "output_type": "stream",
     "text": [
      "値引きすると 400 円です。\n"
     ]
    }
   ],
   "source": [
    "print(\"値引きすると\", total, \"円です。\")"
   ]
  }
 ],
 "metadata": {
  "kernelspec": {
   "display_name": "Python 3 (ipykernel)",
   "language": "python",
   "name": "python3"
  },
  "language_info": {
   "codemirror_mode": {
    "name": "ipython",
    "version": 3
   },
   "file_extension": ".py",
   "mimetype": "text/x-python",
   "name": "python",
   "nbconvert_exporter": "python",
   "pygments_lexer": "ipython3",
   "version": "3.11.4"
  }
 },
 "nbformat": 4,
 "nbformat_minor": 5
}
