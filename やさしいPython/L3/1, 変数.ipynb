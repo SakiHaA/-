{
 "cells": [
  {
   "cell_type": "code",
   "execution_count": 1,
   "id": "1d3647cb-002b-40b1-acb3-2de2e8954d01",
   "metadata": {},
   "outputs": [],
   "source": [
    "sale = 10"
   ]
  },
  {
   "cell_type": "code",
   "execution_count": 2,
   "id": "108ec487-f9ec-4945-9670-d62e58333d8b",
   "metadata": {},
   "outputs": [
    {
     "name": "stdout",
     "output_type": "stream",
     "text": [
      "売上は 10 万円です。\n"
     ]
    }
   ],
   "source": [
    "print(\"売上は\", sale, \"万円です。\")"
   ]
  },
  {
   "cell_type": "code",
   "execution_count": 3,
   "id": "e5970a78-5422-4676-a326-35e7e6ccacf2",
   "metadata": {},
   "outputs": [
    {
     "name": "stdout",
     "output_type": "stream",
     "text": [
      "売上の値を変更します。\n"
     ]
    }
   ],
   "source": [
    "print(\"売上の値を変更します。\")"
   ]
  },
  {
   "cell_type": "code",
   "execution_count": 4,
   "id": "d0823448-8140-4017-8ee6-d9e97789804a",
   "metadata": {},
   "outputs": [],
   "source": [
    "sale = 20"
   ]
  },
  {
   "cell_type": "code",
   "execution_count": 5,
   "id": "818b80a8-2caf-422a-96b8-81d5eac296a9",
   "metadata": {},
   "outputs": [],
   "source": [
    "# 後から宣言し直せる"
   ]
  },
  {
   "cell_type": "code",
   "execution_count": 6,
   "id": "2971702b-8257-400f-aa1a-69666151451e",
   "metadata": {},
   "outputs": [
    {
     "name": "stdout",
     "output_type": "stream",
     "text": [
      "売上は 20 万円です。\n"
     ]
    }
   ],
   "source": [
    "print(\"売上は\", sale, \"万円です。\")"
   ]
  }
 ],
 "metadata": {
  "kernelspec": {
   "display_name": "Python 3 (ipykernel)",
   "language": "python",
   "name": "python3"
  },
  "language_info": {
   "codemirror_mode": {
    "name": "ipython",
    "version": 3
   },
   "file_extension": ".py",
   "mimetype": "text/x-python",
   "name": "python",
   "nbconvert_exporter": "python",
   "pygments_lexer": "ipython3",
   "version": "3.11.4"
  }
 },
 "nbformat": 4,
 "nbformat_minor": 5
}
