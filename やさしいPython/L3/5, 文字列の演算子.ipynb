{
 "cells": [
  {
   "cell_type": "code",
   "execution_count": 1,
   "id": "15c29c6c-b629-4f59-b934-c341eac906a9",
   "metadata": {},
   "outputs": [],
   "source": [
    "num = 10"
   ]
  },
  {
   "cell_type": "code",
   "execution_count": 2,
   "id": "bacbe4f2-6c21-4c64-9875-6427bcc88dd4",
   "metadata": {},
   "outputs": [],
   "source": [
    "pic = \"●\""
   ]
  },
  {
   "cell_type": "code",
   "execution_count": 3,
   "id": "b55d4cf6-c6c7-4cc9-a78a-7350acb0c073",
   "metadata": {},
   "outputs": [],
   "source": [
    "graph = pic * num"
   ]
  },
  {
   "cell_type": "code",
   "execution_count": 4,
   "id": "8e5eabd6-ce63-45d1-957e-051545ebff44",
   "metadata": {},
   "outputs": [
    {
     "name": "stdout",
     "output_type": "stream",
     "text": [
      "売上:●●●●●●●●●●\n"
     ]
    }
   ],
   "source": [
    "print(\"売上:\" + graph)"
   ]
  },
  {
   "cell_type": "code",
   "execution_count": 5,
   "id": "081ef118-279f-41a6-bb55-4ab4cfe13863",
   "metadata": {},
   "outputs": [
    {
     "name": "stdout",
     "output_type": "stream",
     "text": [
      "10 万円の売上があります。\n"
     ]
    }
   ],
   "source": [
    "print(num, \"万円の売上があります。\")"
   ]
  },
  {
   "cell_type": "code",
   "execution_count": 6,
   "id": "2a0de210-2e45-4ef6-be22-fcb0ca80eb9a",
   "metadata": {},
   "outputs": [],
   "source": [
    "# 文字列を増やす回"
   ]
  }
 ],
 "metadata": {
  "kernelspec": {
   "display_name": "Python 3 (ipykernel)",
   "language": "python",
   "name": "python3"
  },
  "language_info": {
   "codemirror_mode": {
    "name": "ipython",
    "version": 3
   },
   "file_extension": ".py",
   "mimetype": "text/x-python",
   "name": "python",
   "nbconvert_exporter": "python",
   "pygments_lexer": "ipython3",
   "version": "3.11.4"
  }
 },
 "nbformat": 4,
 "nbformat_minor": 5
}
