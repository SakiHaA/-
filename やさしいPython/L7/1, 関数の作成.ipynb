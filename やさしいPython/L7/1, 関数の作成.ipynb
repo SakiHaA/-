{
 "cells": [
  {
   "cell_type": "code",
   "execution_count": 1,
   "id": "c620c90a-fd1b-4d5f-9dc8-05d150c84f65",
   "metadata": {},
   "outputs": [],
   "source": [
    "def sell():\n",
    "    print(\"販売が行われました。\")"
   ]
  },
  {
   "cell_type": "code",
   "execution_count": 2,
   "id": "f1c85125-5a2c-4cc6-90df-484bd06c68d2",
   "metadata": {},
   "outputs": [
    {
     "name": "stdout",
     "output_type": "stream",
     "text": [
      "販売が行われました。\n"
     ]
    }
   ],
   "source": [
    "sell()"
   ]
  }
 ],
 "metadata": {
  "kernelspec": {
   "display_name": "Python 3 (ipykernel)",
   "language": "python",
   "name": "python3"
  },
  "language_info": {
   "codemirror_mode": {
    "name": "ipython",
    "version": 3
   },
   "file_extension": ".py",
   "mimetype": "text/x-python",
   "name": "python",
   "nbconvert_exporter": "python",
   "pygments_lexer": "ipython3",
   "version": "3.11.4"
  }
 },
 "nbformat": 4,
 "nbformat_minor": 5
}
