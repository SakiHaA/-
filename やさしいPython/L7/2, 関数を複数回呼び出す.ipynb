{
 "cells": [
  {
   "cell_type": "code",
   "execution_count": 1,
   "id": "c620c90a-fd1b-4d5f-9dc8-05d150c84f65",
   "metadata": {},
   "outputs": [],
   "source": [
    "def sell():\n",
    "    print(\"販売が行われました。\")"
   ]
  },
  {
   "cell_type": "code",
   "execution_count": null,
   "id": "96a4268c-a450-4e10-99dd-d8a474615df8",
   "metadata": {},
   "outputs": [],
   "source": []
  },
  {
   "cell_type": "code",
   "execution_count": 2,
   "id": "f1c85125-5a2c-4cc6-90df-484bd06c68d2",
   "metadata": {},
   "outputs": [
    {
     "name": "stdout",
     "output_type": "stream",
     "text": [
      "販売が行われました。\n"
     ]
    }
   ],
   "source": [
    "sell()"
   ]
  },
  {
   "cell_type": "code",
   "execution_count": null,
   "id": "152541b9-a9b8-45dd-85bd-0333e9b10250",
   "metadata": {},
   "outputs": [],
   "source": []
  },
  {
   "cell_type": "code",
   "execution_count": 3,
   "id": "58b4fc09-c570-4468-892f-32bf40c6eb76",
   "metadata": {},
   "outputs": [
    {
     "name": "stdout",
     "output_type": "stream",
     "text": [
      "もう一度販売いたします。\n"
     ]
    }
   ],
   "source": [
    "print(\"もう一度販売いたします。\")"
   ]
  },
  {
   "cell_type": "code",
   "execution_count": null,
   "id": "dfd9e378-826c-4735-ae24-65d0f677fe67",
   "metadata": {},
   "outputs": [],
   "source": []
  },
  {
   "cell_type": "code",
   "execution_count": 4,
   "id": "400f3489-4ac2-4d26-945a-aae8876cd44d",
   "metadata": {},
   "outputs": [
    {
     "name": "stdout",
     "output_type": "stream",
     "text": [
      "販売が行われました。\n"
     ]
    }
   ],
   "source": [
    "sell()"
   ]
  }
 ],
 "metadata": {
  "kernelspec": {
   "display_name": "Python 3 (ipykernel)",
   "language": "python",
   "name": "python3"
  },
  "language_info": {
   "codemirror_mode": {
    "name": "ipython",
    "version": 3
   },
   "file_extension": ".py",
   "mimetype": "text/x-python",
   "name": "python",
   "nbconvert_exporter": "python",
   "pygments_lexer": "ipython3",
   "version": "3.11.4"
  }
 },
 "nbformat": 4,
 "nbformat_minor": 5
}
