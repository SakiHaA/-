{
 "cells": [
  {
   "cell_type": "code",
   "execution_count": 1,
   "id": "c620c90a-fd1b-4d5f-9dc8-05d150c84f65",
   "metadata": {},
   "outputs": [],
   "source": [
    "def sell(place):\n",
    "    print(place, \"支店の販売が行われました。\")"
   ]
  },
  {
   "cell_type": "code",
   "execution_count": null,
   "id": "96a4268c-a450-4e10-99dd-d8a474615df8",
   "metadata": {},
   "outputs": [],
   "source": []
  },
  {
   "cell_type": "code",
   "execution_count": 2,
   "id": "f1c85125-5a2c-4cc6-90df-484bd06c68d2",
   "metadata": {},
   "outputs": [],
   "source": [
    "shop = \"東京\""
   ]
  },
  {
   "cell_type": "code",
   "execution_count": null,
   "id": "d9486913-576c-4cc4-a428-f4c48a0be891",
   "metadata": {},
   "outputs": [],
   "source": []
  },
  {
   "cell_type": "code",
   "execution_count": 3,
   "id": "2d2769c7-be2c-43c0-b5de-7e3d9c1fbead",
   "metadata": {},
   "outputs": [
    {
     "name": "stdout",
     "output_type": "stream",
     "text": [
      "東京 支店の販売が行われました。\n"
     ]
    }
   ],
   "source": [
    "sell(shop)"
   ]
  }
 ],
 "metadata": {
  "kernelspec": {
   "display_name": "Python 3 (ipykernel)",
   "language": "python",
   "name": "python3"
  },
  "language_info": {
   "codemirror_mode": {
    "name": "ipython",
    "version": 3
   },
   "file_extension": ".py",
   "mimetype": "text/x-python",
   "name": "python",
   "nbconvert_exporter": "python",
   "pygments_lexer": "ipython3",
   "version": "3.11.4"
  }
 },
 "nbformat": 4,
 "nbformat_minor": 5
}
