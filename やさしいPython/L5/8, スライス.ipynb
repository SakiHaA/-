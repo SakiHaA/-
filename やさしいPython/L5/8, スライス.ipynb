{
 "cells": [
  {
   "cell_type": "code",
   "execution_count": 1,
   "id": "38914586-1252-4655-a48f-5c1c514c9368",
   "metadata": {},
   "outputs": [],
   "source": [
    "ysale = [1, 2, 3, 4, 5, 6, 7, 8, 9, 10, 11, 12]"
   ]
  },
  {
   "cell_type": "code",
   "execution_count": 2,
   "id": "d734e503-b29a-4b83-b22a-3d5217372e18",
   "metadata": {},
   "outputs": [
    {
     "name": "stdout",
     "output_type": "stream",
     "text": [
      "年間のデータは [1, 2, 3, 4, 5, 6, 7, 8, 9, 10, 11, 12] です。\n"
     ]
    }
   ],
   "source": [
    "print(\"年間のデータは\", ysale, \"です。\")"
   ]
  },
  {
   "cell_type": "code",
   "execution_count": 3,
   "id": "b4956a41-5f72-4e76-b794-03c0dd87aab6",
   "metadata": {},
   "outputs": [],
   "source": [
    "# リスト名[開始値:停止値:間隔]"
   ]
  },
  {
   "cell_type": "code",
   "execution_count": 4,
   "id": "2d80688f-ee0a-400d-aec3-27681db120e0",
   "metadata": {},
   "outputs": [],
   "source": [
    "# 開始値は必須"
   ]
  },
  {
   "cell_type": "code",
   "execution_count": 5,
   "id": "edb96e88-e066-4387-b37b-12aa88690e4f",
   "metadata": {},
   "outputs": [],
   "source": [
    "sale１ = ysale[0:6]"
   ]
  },
  {
   "cell_type": "code",
   "execution_count": 6,
   "id": "cc61ed0c-819a-4d16-875c-231d3196759d",
   "metadata": {},
   "outputs": [],
   "source": [
    "# インデックスが0~5の要素を指定できる"
   ]
  },
  {
   "cell_type": "code",
   "execution_count": 7,
   "id": "6bfd14d5-a52a-46f3-b743-ec12c1c6d8ba",
   "metadata": {},
   "outputs": [
    {
     "name": "stdout",
     "output_type": "stream",
     "text": [
      "上半期のデータは [1, 2, 3, 4, 5, 6] です。\n"
     ]
    }
   ],
   "source": [
    "print(\"上半期のデータは\", sale1, \"です。\")"
   ]
  },
  {
   "cell_type": "code",
   "execution_count": null,
   "id": "6e2a8901-c9d1-4c64-8fe9-9c1c206cdddb",
   "metadata": {},
   "outputs": [],
   "source": []
  },
  {
   "cell_type": "code",
   "execution_count": 8,
   "id": "01bb1a67-2a34-4bd9-bc8e-6d87b19edc1d",
   "metadata": {},
   "outputs": [],
   "source": [
    "sale2 = ysale[6:]"
   ]
  },
  {
   "cell_type": "code",
   "execution_count": 9,
   "id": "8ecf6e3d-8802-4771-9680-79c4fbd456c3",
   "metadata": {},
   "outputs": [],
   "source": [
    "# インデックスが6以降の要素を指定できる"
   ]
  },
  {
   "cell_type": "code",
   "execution_count": 10,
   "id": "21e4834b-d2c9-40c6-9b08-7630caafaaeb",
   "metadata": {},
   "outputs": [
    {
     "name": "stdout",
     "output_type": "stream",
     "text": [
      "下半期のデータは [7, 8, 9, 10, 11, 12] です。\n"
     ]
    }
   ],
   "source": [
    "print(\"下半期のデータは\", sale2, \"です。\")"
   ]
  },
  {
   "cell_type": "code",
   "execution_count": null,
   "id": "4f913aae-8cc6-4145-8d6d-2b4834ad72cd",
   "metadata": {},
   "outputs": [],
   "source": []
  },
  {
   "cell_type": "code",
   "execution_count": 11,
   "id": "bb3afc3f-3c01-4a09-a2c6-4aaf6218df5b",
   "metadata": {},
   "outputs": [],
   "source": [
    "sale３ = ysale[::2]"
   ]
  },
  {
   "cell_type": "code",
   "execution_count": 12,
   "id": "04ba634e-b400-4067-9190-571b71a82ff0",
   "metadata": {},
   "outputs": [],
   "source": [
    "# 間隔2つ"
   ]
  },
  {
   "cell_type": "code",
   "execution_count": 13,
   "id": "cbc4524c-43cd-42c7-b939-d226fc8a0645",
   "metadata": {},
   "outputs": [
    {
     "name": "stdout",
     "output_type": "stream",
     "text": [
      "１ヶ月おきのデータは [1, 3, 5, 7, 9, 11] です。\n"
     ]
    }
   ],
   "source": [
    "print(\"１ヶ月おきのデータは\", sale3, \"です。\")"
   ]
  },
  {
   "cell_type": "code",
   "execution_count": null,
   "id": "1000df0c-c1b8-4ec1-8600-49753f8aa123",
   "metadata": {},
   "outputs": [],
   "source": []
  },
  {
   "cell_type": "code",
   "execution_count": 14,
   "id": "d3ec1449-8ee9-4a89-8ceb-31317982f000",
   "metadata": {},
   "outputs": [],
   "source": [
    "sale4 = ysale[::-1]"
   ]
  },
  {
   "cell_type": "code",
   "execution_count": 15,
   "id": "4393e963-80f5-4940-96ff-469d29af1a68",
   "metadata": {},
   "outputs": [],
   "source": [
    "# 間隔をマイナスにすることで逆順になっている"
   ]
  },
  {
   "cell_type": "code",
   "execution_count": 16,
   "id": "eeb8c195-0960-4cbc-8136-bee57834be86",
   "metadata": {},
   "outputs": [
    {
     "name": "stdout",
     "output_type": "stream",
     "text": [
      "逆順のデータは [12, 11, 10, 9, 8, 7, 6, 5, 4, 3, 2, 1] です。\n"
     ]
    }
   ],
   "source": [
    "print(\"逆順のデータは\", sale4, \"です。\")"
   ]
  },
  {
   "cell_type": "code",
   "execution_count": null,
   "id": "6766b993-3636-4f2a-b922-a07e34f505ad",
   "metadata": {},
   "outputs": [],
   "source": []
  },
  {
   "cell_type": "code",
   "execution_count": 17,
   "id": "edfaa747-75e6-45b5-8cbd-29ea82cc2144",
   "metadata": {},
   "outputs": [
    {
     "name": "stdout",
     "output_type": "stream",
     "text": [
      "年間のデータは [1, 2, 3, 4, 5, 6, 7, 8, 9, 10, 11, 12] です。\n"
     ]
    }
   ],
   "source": [
    "print(\"年間のデータは\", ysale, \"です。\")"
   ]
  },
  {
   "cell_type": "code",
   "execution_count": 18,
   "id": "8c24094c-d346-4a85-a09a-b11ea49f166c",
   "metadata": {},
   "outputs": [
    {
     "name": "stdout",
     "output_type": "stream",
     "text": [
      "上半期のデータを差し替えます。\n"
     ]
    }
   ],
   "source": [
    "print(\"上半期のデータを差し替えます。\")"
   ]
  },
  {
   "cell_type": "code",
   "execution_count": 19,
   "id": "b8f3020d-3614-4800-b139-c2bb058d5234",
   "metadata": {},
   "outputs": [],
   "source": [
    "ysale[:6] = [0, 0, 0, 0, 0, 0]"
   ]
  },
  {
   "cell_type": "code",
   "execution_count": 20,
   "id": "9fe84738-7ecd-4d85-9f36-ff56226ba7e8",
   "metadata": {},
   "outputs": [],
   "source": [
    "# 値を書き換えている"
   ]
  },
  {
   "cell_type": "code",
   "execution_count": 21,
   "id": "77c3f59c-2f17-4c27-95ce-557c4a5973c3",
   "metadata": {},
   "outputs": [
    {
     "name": "stdout",
     "output_type": "stream",
     "text": [
      "年間のデータは [0, 0, 0, 0, 0, 0, 7, 8, 9, 10, 11, 12] です。\n"
     ]
    }
   ],
   "source": [
    "print(\"年間のデータは\", ysale, \"です。\")"
   ]
  },
  {
   "cell_type": "code",
   "execution_count": 22,
   "id": "e0a14c12-35e4-4b54-a2ae-a20be52c7210",
   "metadata": {},
   "outputs": [],
   "source": [
    "# その他にも del[:6] 0~5までの値を削除することも可能"
   ]
  }
 ],
 "metadata": {
  "kernelspec": {
   "display_name": "Python 3 (ipykernel)",
   "language": "python",
   "name": "python3"
  },
  "language_info": {
   "codemirror_mode": {
    "name": "ipython",
    "version": 3
   },
   "file_extension": ".py",
   "mimetype": "text/x-python",
   "name": "python",
   "nbconvert_exporter": "python",
   "pygments_lexer": "ipython3",
   "version": "3.11.4"
  }
 },
 "nbformat": 4,
 "nbformat_minor": 5
}
