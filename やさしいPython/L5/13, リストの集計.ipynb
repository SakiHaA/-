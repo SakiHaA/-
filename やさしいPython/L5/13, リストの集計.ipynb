{
 "cells": [
  {
   "cell_type": "code",
   "execution_count": 1,
   "id": "cae9524a-7f3d-418c-a913-136e70e6c17e",
   "metadata": {},
   "outputs": [],
   "source": [
    "sale = [80, 60, 22, 50, 75]"
   ]
  },
  {
   "cell_type": "code",
   "execution_count": 2,
   "id": "5214df85-639c-4bce-bec9-d73fa6b19174",
   "metadata": {},
   "outputs": [
    {
     "name": "stdout",
     "output_type": "stream",
     "text": [
      "現在のデータは [80, 60, 22, 50, 75] です。\n"
     ]
    }
   ],
   "source": [
    "print(\"現在のデータは\", sale, \"です。\")"
   ]
  },
  {
   "cell_type": "code",
   "execution_count": null,
   "id": "6462d21f-c99b-4836-87e8-c24f6112c71c",
   "metadata": {},
   "outputs": [],
   "source": []
  },
  {
   "cell_type": "code",
   "execution_count": 3,
   "id": "17975f7b-1ec1-42e2-a6fc-f9aba7487c90",
   "metadata": {},
   "outputs": [
    {
     "name": "stdout",
     "output_type": "stream",
     "text": [
      "最大のデータは 80 です。\n"
     ]
    }
   ],
   "source": [
    "print(\"最大のデータは\", max(sale), \"です。\")"
   ]
  },
  {
   "cell_type": "code",
   "execution_count": 4,
   "id": "bfbe1958-7dd5-4839-92bd-244437196324",
   "metadata": {},
   "outputs": [
    {
     "name": "stdout",
     "output_type": "stream",
     "text": [
      "最小のデータは 22 です。\n"
     ]
    }
   ],
   "source": [
    "print(\"最小のデータは\", min(sale), \"です。\")"
   ]
  },
  {
   "cell_type": "code",
   "execution_count": null,
   "id": "84383ac3-087e-4480-8f70-3f76bf662b1d",
   "metadata": {},
   "outputs": [],
   "source": []
  },
  {
   "cell_type": "code",
   "execution_count": 5,
   "id": "e70e5392-7e85-453a-ba57-1c52d93ce7a9",
   "metadata": {},
   "outputs": [
    {
     "name": "stdout",
     "output_type": "stream",
     "text": [
      "データの合計は 287 です。\n"
     ]
    }
   ],
   "source": [
    "print(\"データの合計は\", sum(sale), \"です。\")"
   ]
  },
  {
   "cell_type": "code",
   "execution_count": null,
   "id": "05f40d6b-4ff5-4b71-bb9d-2a96bef2b11f",
   "metadata": {},
   "outputs": [],
   "source": []
  },
  {
   "cell_type": "code",
   "execution_count": 6,
   "id": "7ec4f7dd-2fa1-44a5-98c0-ca3f9616d616",
   "metadata": {},
   "outputs": [
    {
     "name": "stdout",
     "output_type": "stream",
     "text": [
      "ソートされたデータは [22, 50, 60, 75, 80] です。\n"
     ]
    }
   ],
   "source": [
    "print(\"ソートされたデータは\", sorted(sale), \"です。\")"
   ]
  },
  {
   "cell_type": "code",
   "execution_count": null,
   "id": "eaa4e7be-20ab-4e3d-964e-37883cd4f831",
   "metadata": {},
   "outputs": [],
   "source": []
  },
  {
   "cell_type": "code",
   "execution_count": null,
   "id": "e98ff3f7-004b-497d-9db5-7e5715ccad23",
   "metadata": {},
   "outputs": [],
   "source": [
    "print(\"ソートされたデータは\", sorted(sale, reverse = True), \"です。\")"
   ]
  },
  {
   "cell_type": "code",
   "execution_count": null,
   "id": "d736ae62-e4ed-43de-ac99-13e49bf1fe06",
   "metadata": {},
   "outputs": [],
   "source": [
    "# Trueなら降順,Falseなら昇順"
   ]
  }
 ],
 "metadata": {
  "kernelspec": {
   "display_name": "Python 3 (ipykernel)",
   "language": "python",
   "name": "python3"
  },
  "language_info": {
   "codemirror_mode": {
    "name": "ipython",
    "version": 3
   },
   "file_extension": ".py",
   "mimetype": "text/x-python",
   "name": "python",
   "nbconvert_exporter": "python",
   "pygments_lexer": "ipython3",
   "version": "3.11.4"
  }
 },
 "nbformat": 4,
 "nbformat_minor": 5
}
