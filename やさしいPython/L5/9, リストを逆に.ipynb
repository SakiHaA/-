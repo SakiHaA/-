{
 "cells": [
  {
   "cell_type": "code",
   "execution_count": 1,
   "id": "38914586-1252-4655-a48f-5c1c514c9368",
   "metadata": {},
   "outputs": [],
   "source": [
    "data = [1, 2, 3, 4, 5]"
   ]
  },
  {
   "cell_type": "code",
   "execution_count": 2,
   "id": "d734e503-b29a-4b83-b22a-3d5217372e18",
   "metadata": {},
   "outputs": [
    {
     "name": "stdout",
     "output_type": "stream",
     "text": [
      "現在のデータは [1, 2, 3, 4, 5] です。\n"
     ]
    }
   ],
   "source": [
    "print(\"現在のデータは\", data, \"です。\")"
   ]
  },
  {
   "cell_type": "code",
   "execution_count": 3,
   "id": "6bfd14d5-a52a-46f3-b743-ec12c1c6d8ba",
   "metadata": {},
   "outputs": [
    {
     "name": "stdout",
     "output_type": "stream",
     "text": [
      "data[::-1]をfor文で処理します。\n"
     ]
    }
   ],
   "source": [
    "print(\"data[::-1]をfor文で処理します。\")"
   ]
  },
  {
   "cell_type": "code",
   "execution_count": null,
   "id": "6e2a8901-c9d1-4c64-8fe9-9c1c206cdddb",
   "metadata": {},
   "outputs": [],
   "source": []
  },
  {
   "cell_type": "code",
   "execution_count": 4,
   "id": "8ecf6e3d-8802-4771-9680-79c4fbd456c3",
   "metadata": {},
   "outputs": [
    {
     "name": "stdout",
     "output_type": "stream",
     "text": [
      "5\n",
      "4\n",
      "3\n",
      "2\n",
      "1\n"
     ]
    }
   ],
   "source": [
    "for d in data[::-1]:\n",
    "    print(d)"
   ]
  },
  {
   "cell_type": "code",
   "execution_count": 5,
   "id": "21e4834b-d2c9-40c6-9b08-7630caafaaeb",
   "metadata": {},
   "outputs": [
    {
     "name": "stdout",
     "output_type": "stream",
     "text": [
      "data[::-1]は [5, 4, 3, 2, 1] です。\n"
     ]
    }
   ],
   "source": [
    "print(\"data[::-1]は\", data[::-1], \"です。\")"
   ]
  },
  {
   "cell_type": "code",
   "execution_count": 6,
   "id": "cbc4524c-43cd-42c7-b939-d226fc8a0645",
   "metadata": {},
   "outputs": [
    {
     "name": "stdout",
     "output_type": "stream",
     "text": [
      "現在のデータは [1, 2, 3, 4, 5] です。\n"
     ]
    }
   ],
   "source": [
    "print(\"現在のデータは\", data, \"です。\")"
   ]
  },
  {
   "cell_type": "code",
   "execution_count": null,
   "id": "818a60ea-f71d-4ee0-8dd4-ccfa4f7abc29",
   "metadata": {},
   "outputs": [],
   "source": []
  },
  {
   "cell_type": "code",
   "execution_count": 7,
   "id": "1000df0c-c1b8-4ec1-8600-49753f8aa123",
   "metadata": {},
   "outputs": [
    {
     "name": "stdout",
     "output_type": "stream",
     "text": [
      "reversed(data)をfor文で処理します。\n"
     ]
    }
   ],
   "source": [
    "print(\"reversed(data)をfor文で処理します。\")"
   ]
  },
  {
   "cell_type": "code",
   "execution_count": 8,
   "id": "6766b993-3636-4f2a-b922-a07e34f505ad",
   "metadata": {},
   "outputs": [
    {
     "name": "stdout",
     "output_type": "stream",
     "text": [
      "5\n",
      "4\n",
      "3\n",
      "2\n",
      "1\n"
     ]
    }
   ],
   "source": [
    "for d in reversed(data):\n",
    "    print(d)"
   ]
  },
  {
   "cell_type": "code",
   "execution_count": 9,
   "id": "edfaa747-75e6-45b5-8cbd-29ea82cc2144",
   "metadata": {},
   "outputs": [
    {
     "name": "stdout",
     "output_type": "stream",
     "text": [
      "reversed(data)は <list_reverseiterator object at 0x1040beec0> です。\n"
     ]
    }
   ],
   "source": [
    "print(\"reversed(data)は\", reversed(data), \"です。\")"
   ]
  },
  {
   "cell_type": "code",
   "execution_count": 10,
   "id": "2e027067-3b96-4977-b908-ee970ac61dff",
   "metadata": {},
   "outputs": [],
   "source": [
    "# 組み込み関数reversed(リスト名)"
   ]
  },
  {
   "cell_type": "code",
   "execution_count": 11,
   "id": "d10771f9-e6b4-4e94-be0c-5a23b2f2dfe5",
   "metadata": {},
   "outputs": [],
   "source": [
    "# この場合リスト自体は逆にならない"
   ]
  },
  {
   "cell_type": "code",
   "execution_count": null,
   "id": "ace9a0e5-2ba5-4a93-9eca-2c1d2e881d2a",
   "metadata": {},
   "outputs": [],
   "source": []
  },
  {
   "cell_type": "code",
   "execution_count": 12,
   "id": "8c24094c-d346-4a85-a09a-b11ea49f166c",
   "metadata": {},
   "outputs": [
    {
     "name": "stdout",
     "output_type": "stream",
     "text": [
      "現在のデータは [1, 2, 3, 4, 5] です。\n"
     ]
    }
   ],
   "source": [
    "print(\"現在のデータは\", data, \"です。\")"
   ]
  },
  {
   "cell_type": "code",
   "execution_count": null,
   "id": "608822ac-5367-4476-ba8e-d857fa5579fc",
   "metadata": {},
   "outputs": [],
   "source": []
  },
  {
   "cell_type": "code",
   "execution_count": 13,
   "id": "9dbe0d2b-b452-4a31-9d33-9df3c1938f0a",
   "metadata": {},
   "outputs": [
    {
     "name": "stdout",
     "output_type": "stream",
     "text": [
      "data.reverse()を処理します。\n"
     ]
    }
   ],
   "source": [
    "print(\"data.reverse()を処理します。\")"
   ]
  },
  {
   "cell_type": "code",
   "execution_count": 14,
   "id": "0120d86f-b66b-4377-ae5c-b9baac9b0faf",
   "metadata": {},
   "outputs": [],
   "source": [
    "data.reverse()"
   ]
  },
  {
   "cell_type": "code",
   "execution_count": 15,
   "id": "bb5155e8-4176-4c9c-85ea-51d5fac721dd",
   "metadata": {},
   "outputs": [
    {
     "name": "stdout",
     "output_type": "stream",
     "text": [
      "現在のデータは [5, 4, 3, 2, 1] です。\n"
     ]
    }
   ],
   "source": [
    "print(\"現在のデータは\", data, \"です。\")"
   ]
  },
  {
   "cell_type": "code",
   "execution_count": 16,
   "id": "615e2961-3fbf-43fa-94f2-17410d859d3f",
   "metadata": {},
   "outputs": [],
   "source": [
    "# リスト名.reverse()   reverseメソッド"
   ]
  },
  {
   "cell_type": "code",
   "execution_count": 17,
   "id": "21dad5d7-28a2-420c-a0c0-081cabac8e42",
   "metadata": {},
   "outputs": [],
   "source": [
    "# この場合リストそのものが逆になっている"
   ]
  }
 ],
 "metadata": {
  "kernelspec": {
   "display_name": "Python 3 (ipykernel)",
   "language": "python",
   "name": "python3"
  },
  "language_info": {
   "codemirror_mode": {
    "name": "ipython",
    "version": 3
   },
   "file_extension": ".py",
   "mimetype": "text/x-python",
   "name": "python",
   "nbconvert_exporter": "python",
   "pygments_lexer": "ipython3",
   "version": "3.11.4"
  }
 },
 "nbformat": 4,
 "nbformat_minor": 5
}
