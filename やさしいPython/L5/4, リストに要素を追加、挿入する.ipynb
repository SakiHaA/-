{
 "cells": [
  {
   "cell_type": "code",
   "execution_count": 1,
   "id": "836838a8-595c-442d-b127-beb16d425534",
   "metadata": {},
   "outputs": [],
   "source": [
    "sale = [80, 60, 22, 50, 75]"
   ]
  },
  {
   "cell_type": "code",
   "execution_count": 2,
   "id": "1b821732-342f-4634-80ca-637e68cba4e9",
   "metadata": {},
   "outputs": [
    {
     "name": "stdout",
     "output_type": "stream",
     "text": [
      "現在のデータは [80, 60, 22, 50, 75] です。\n"
     ]
    }
   ],
   "source": [
    "print(\"現在のデータは\", sale, \"です。\")"
   ]
  },
  {
   "cell_type": "code",
   "execution_count": null,
   "id": "ac644309-42fd-46f0-8a3b-5e04311f9779",
   "metadata": {},
   "outputs": [],
   "source": []
  },
  {
   "cell_type": "code",
   "execution_count": 3,
   "id": "46337ba2-afc8-4fa7-873b-a85c2946ee41",
   "metadata": {},
   "outputs": [
    {
     "name": "stdout",
     "output_type": "stream",
     "text": [
      "末尾に100を追加します。\n"
     ]
    }
   ],
   "source": [
    "print(\"末尾に100を追加します。\")"
   ]
  },
  {
   "cell_type": "code",
   "execution_count": 4,
   "id": "e82fdd0d-392c-4901-b2f0-bdaee909aa37",
   "metadata": {},
   "outputs": [],
   "source": [
    "sale.append(100)"
   ]
  },
  {
   "cell_type": "code",
   "execution_count": 5,
   "id": "e0300ace-c96f-448b-aef3-62ceab62964f",
   "metadata": {},
   "outputs": [],
   "source": [
    "# リスト名.append(値)"
   ]
  },
  {
   "cell_type": "code",
   "execution_count": 6,
   "id": "87020fd1-7fdc-4596-85f0-0d4660e7686f",
   "metadata": {},
   "outputs": [],
   "source": [
    "# リストの末尾に値を追加する"
   ]
  },
  {
   "cell_type": "code",
   "execution_count": 7,
   "id": "1f8a3d6e-049f-4ad0-bd59-2bd372138337",
   "metadata": {},
   "outputs": [
    {
     "name": "stdout",
     "output_type": "stream",
     "text": [
      "現在のデータは [80, 60, 22, 50, 75, 100] です。\n"
     ]
    }
   ],
   "source": [
    "print(\"現在のデータは\", sale, \"です。\")"
   ]
  },
  {
   "cell_type": "code",
   "execution_count": null,
   "id": "ddfb22a8-8661-4555-8296-5ea640b1caf3",
   "metadata": {},
   "outputs": [],
   "source": []
  },
  {
   "cell_type": "code",
   "execution_count": 8,
   "id": "ded9b1e2-ddfe-494b-8cca-0b78600081e4",
   "metadata": {},
   "outputs": [
    {
     "name": "stdout",
     "output_type": "stream",
     "text": [
      "sale[2]に25を追加します。\n"
     ]
    }
   ],
   "source": [
    "print(\"sale[2]に25を追加します。\")"
   ]
  },
  {
   "cell_type": "code",
   "execution_count": 9,
   "id": "c3c442aa-7a0f-4ba8-b5c7-1955e960b66f",
   "metadata": {},
   "outputs": [],
   "source": [
    "sale.insert(2, 25)"
   ]
  },
  {
   "cell_type": "code",
   "execution_count": 10,
   "id": "c7556dcc-4a59-4492-b699-54220222131f",
   "metadata": {},
   "outputs": [],
   "source": [
    "# リスト名.insert(位置, 値)"
   ]
  },
  {
   "cell_type": "code",
   "execution_count": 11,
   "id": "5325b842-1845-4792-a562-3037eefedebd",
   "metadata": {},
   "outputs": [],
   "source": [
    "# リストの指定した位置に値を入力する"
   ]
  },
  {
   "cell_type": "code",
   "execution_count": 12,
   "id": "da98a837-8eda-471a-a83a-04224c11d1af",
   "metadata": {},
   "outputs": [
    {
     "name": "stdout",
     "output_type": "stream",
     "text": [
      "現在のデータは [80, 60, 25, 22, 50, 75, 100] です。\n"
     ]
    }
   ],
   "source": [
    "print(\"現在のデータは\", sale, \"です。\")"
   ]
  }
 ],
 "metadata": {
  "kernelspec": {
   "display_name": "Python 3 (ipykernel)",
   "language": "python",
   "name": "python3"
  },
  "language_info": {
   "codemirror_mode": {
    "name": "ipython",
    "version": 3
   },
   "file_extension": ".py",
   "mimetype": "text/x-python",
   "name": "python",
   "nbconvert_exporter": "python",
   "pygments_lexer": "ipython3",
   "version": "3.11.4"
  }
 },
 "nbformat": 4,
 "nbformat_minor": 5
}
