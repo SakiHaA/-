{
 "cells": [
  {
   "cell_type": "code",
   "execution_count": 1,
   "id": "1c48ad35-6d1b-4c02-8db7-cd956515da9e",
   "metadata": {},
   "outputs": [],
   "source": [
    "city = [\"東京\", \"名古屋\", \"大阪\", \"京都\"]"
   ]
  },
  {
   "cell_type": "code",
   "execution_count": 2,
   "id": "c794c4e9-6196-44dc-ad97-66858df3f18b",
   "metadata": {},
   "outputs": [],
   "source": [
    "sale = [80, 60, 22, 50, 75]"
   ]
  },
  {
   "cell_type": "code",
   "execution_count": null,
   "id": "3745c11a-bd81-4fbd-84cc-8db06cb97d29",
   "metadata": {},
   "outputs": [],
   "source": []
  },
  {
   "cell_type": "code",
   "execution_count": 3,
   "id": "23a527d4-fe06-42de-b278-99a15a619e7e",
   "metadata": {},
   "outputs": [
    {
     "name": "stdout",
     "output_type": "stream",
     "text": [
      "都市名データは ['東京', '名古屋', '大阪', '京都'] です。\n"
     ]
    }
   ],
   "source": [
    "print(\"都市名データは\", city, \"です。\")"
   ]
  },
  {
   "cell_type": "code",
   "execution_count": 4,
   "id": "80f57f0a-fbaa-45a0-b6c1-984f6fa37126",
   "metadata": {},
   "outputs": [
    {
     "name": "stdout",
     "output_type": "stream",
     "text": [
      "売上データは [80, 60, 22, 50, 75] です。\n"
     ]
    }
   ],
   "source": [
    "print(\"売上データは\", sale, \"です。\")"
   ]
  },
  {
   "cell_type": "code",
   "execution_count": null,
   "id": "bebff704-9963-4815-8aef-f2f2623c03a3",
   "metadata": {},
   "outputs": [],
   "source": []
  },
  {
   "cell_type": "code",
   "execution_count": 5,
   "id": "05e9bc77-ea08-47f0-953f-0385f130ed8a",
   "metadata": {},
   "outputs": [
    {
     "name": "stdout",
     "output_type": "stream",
     "text": [
      "データを組み合わせます。\n"
     ]
    }
   ],
   "source": [
    "print(\"データを組み合わせます。\")"
   ]
  },
  {
   "cell_type": "code",
   "execution_count": null,
   "id": "7183189a-4efe-414f-b915-1a46b318611f",
   "metadata": {},
   "outputs": [],
   "source": []
  },
  {
   "cell_type": "code",
   "execution_count": 6,
   "id": "728837d2-42a1-41be-9edf-a6e15a64742e",
   "metadata": {},
   "outputs": [
    {
     "name": "stdout",
     "output_type": "stream",
     "text": [
      "('東京', 80)\n",
      "('名古屋', 60)\n",
      "('大阪', 22)\n",
      "('京都', 50)\n"
     ]
    }
   ],
   "source": [
    "for d in zip(city, sale):\n",
    "    print(d)"
   ]
  },
  {
   "cell_type": "code",
   "execution_count": null,
   "id": "38e85b91-fcf9-4dfe-912d-87a3de97b93c",
   "metadata": {},
   "outputs": [],
   "source": []
  },
  {
   "cell_type": "code",
   "execution_count": 7,
   "id": "9bac8391-a2e5-4365-8c8d-8fef489c9a5a",
   "metadata": {},
   "outputs": [
    {
     "name": "stdout",
     "output_type": "stream",
     "text": [
      "リストを分解します。\n"
     ]
    }
   ],
   "source": [
    "print(\"リストを分解します。\")"
   ]
  },
  {
   "cell_type": "code",
   "execution_count": null,
   "id": "695692fc-392c-413a-afb8-a3266bde4a74",
   "metadata": {},
   "outputs": [],
   "source": []
  },
  {
   "cell_type": "code",
   "execution_count": 8,
   "id": "48db340a-34f0-46f2-974d-942013b41ad6",
   "metadata": {},
   "outputs": [
    {
     "name": "stdout",
     "output_type": "stream",
     "text": [
      "都市名は 東京 売上は 80\n",
      "都市名は 名古屋 売上は 60\n",
      "都市名は 大阪 売上は 22\n",
      "都市名は 京都 売上は 50\n"
     ]
    }
   ],
   "source": [
    "for c, s in zip(city, sale):\n",
    "    print(\"都市名は\", c, \"売上は\", s)"
   ]
  },
  {
   "cell_type": "code",
   "execution_count": 9,
   "id": "7adba9ae-e77c-40f4-987d-a33307fb49bc",
   "metadata": {},
   "outputs": [],
   "source": [
    "# 要素の分解　　　　unpack(展開)という"
   ]
  },
  {
   "cell_type": "code",
   "execution_count": 10,
   "id": "6eae419e-ee2b-4384-b256-e7c3d90d645e",
   "metadata": {},
   "outputs": [],
   "source": [
    "# for 変数1, 変数2, 変数3, ... in リスト名"
   ]
  }
 ],
 "metadata": {
  "kernelspec": {
   "display_name": "Python 3 (ipykernel)",
   "language": "python",
   "name": "python3"
  },
  "language_info": {
   "codemirror_mode": {
    "name": "ipython",
    "version": 3
   },
   "file_extension": ".py",
   "mimetype": "text/x-python",
   "name": "python",
   "nbconvert_exporter": "python",
   "pygments_lexer": "ipython3",
   "version": "3.11.4"
  }
 },
 "nbformat": 4,
 "nbformat_minor": 5
}
