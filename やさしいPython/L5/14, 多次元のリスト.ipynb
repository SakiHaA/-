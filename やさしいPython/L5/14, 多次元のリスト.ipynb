{
 "cells": [
  {
   "cell_type": "code",
   "execution_count": 1,
   "id": "6f3d4253-07b0-411f-927f-e3c33dbb9015",
   "metadata": {},
   "outputs": [],
   "source": [
    "data = [\n",
    "    [\"東京\", 32, 25],\n",
    "    [\"名古屋\", 28, 21],\n",
    "    [\"大阪\", 27, 20],\n",
    "    [\"京都\", 26, 19],\n",
    "    [\"福岡\", 27, 22]\n",
    "]"
   ]
  },
  {
   "cell_type": "code",
   "execution_count": 2,
   "id": "31c43a85-03b5-42d1-9324-371efe020e85",
   "metadata": {},
   "outputs": [
    {
     "name": "stdout",
     "output_type": "stream",
     "text": [
      "現在のデータは [['東京', 32, 25], ['名古屋', 28, 21], ['大阪', 27, 20], ['京都', 26, 19], ['福岡', 27, 22]] です。\n"
     ]
    }
   ],
   "source": [
    "print(\"現在のデータは\", data, \"です。\")"
   ]
  },
  {
   "cell_type": "code",
   "execution_count": null,
   "id": "876c4b62-d2ac-42ae-9a23-d99fc641886b",
   "metadata": {},
   "outputs": [],
   "source": []
  },
  {
   "cell_type": "code",
   "execution_count": 3,
   "id": "c18cf540-b95d-4bbc-8c00-d3c2f2d59d30",
   "metadata": {},
   "outputs": [
    {
     "name": "stdout",
     "output_type": "stream",
     "text": [
      "都市別データは ['東京', 32, 25] です。\n",
      "東京\t32\t25\t\n",
      "都市別データは ['名古屋', 28, 21] です。\n",
      "名古屋\t28\t21\t\n",
      "都市別データは ['大阪', 27, 20] です。\n",
      "大阪\t27\t20\t\n",
      "都市別データは ['京都', 26, 19] です。\n",
      "京都\t26\t19\t\n",
      "都市別データは ['福岡', 27, 22] です。\n",
      "福岡\t27\t22\t\n",
      "東京 の最高気温は 32 最低気温は 25 です。\n"
     ]
    }
   ],
   "source": [
    "for dat in data:\n",
    "    print(\"都市別データは\", dat, \"です。\")\n",
    "    for d in dat:\n",
    "        print(d, end = \"\\t\")\n",
    "    print()\n",
    "\n",
    "print(data[0][0], \"の最高気温は\", data[0][1], \"最低気温は\", data[0][2], \"です。\")"
   ]
  },
  {
   "cell_type": "code",
   "execution_count": 4,
   "id": "30191482-ac1c-4049-8784-e000cc97a692",
   "metadata": {},
   "outputs": [],
   "source": [
    "# ¥もしくは\\を使用する"
   ]
  }
 ],
 "metadata": {
  "kernelspec": {
   "display_name": "Python 3 (ipykernel)",
   "language": "python",
   "name": "python3"
  },
  "language_info": {
   "codemirror_mode": {
    "name": "ipython",
    "version": 3
   },
   "file_extension": ".py",
   "mimetype": "text/x-python",
   "name": "python",
   "nbconvert_exporter": "python",
   "pygments_lexer": "ipython3",
   "version": "3.11.4"
  }
 },
 "nbformat": 4,
 "nbformat_minor": 5
}
