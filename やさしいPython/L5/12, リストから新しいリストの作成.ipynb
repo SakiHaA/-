{
 "cells": [
  {
   "cell_type": "code",
   "execution_count": 1,
   "id": "6cc93fe8-db38-4888-a26f-c3bd57612168",
   "metadata": {},
   "outputs": [],
   "source": [
    "data = [1, 2, 3, 4, 5]"
   ]
  },
  {
   "cell_type": "code",
   "execution_count": 2,
   "id": "413ddba2-555a-4350-8149-077724277f63",
   "metadata": {},
   "outputs": [
    {
     "name": "stdout",
     "output_type": "stream",
     "text": [
      "現在のデータは [1, 2, 3, 4, 5] です。\n"
     ]
    }
   ],
   "source": [
    "print(\"現在のデータは\", data , \"です。\")"
   ]
  },
  {
   "cell_type": "code",
   "execution_count": null,
   "id": "43d22908-c9c6-44df-aed5-5c98d3f618d8",
   "metadata": {},
   "outputs": [],
   "source": []
  },
  {
   "cell_type": "code",
   "execution_count": 3,
   "id": "70f744bd-74ba-4dc3-8e52-efb37be366fd",
   "metadata": {},
   "outputs": [],
   "source": [
    "ndata = [n*2 for n in data if n!=3]"
   ]
  },
  {
   "cell_type": "code",
   "execution_count": 4,
   "id": "043358ca-c988-4db8-a111-a6e47af7b2e5",
   "metadata": {},
   "outputs": [],
   "source": [
    "# n! イコールでなければ"
   ]
  },
  {
   "cell_type": "code",
   "execution_count": 5,
   "id": "2a17a5ae-9016-472d-8fb2-16efc7bef2c6",
   "metadata": {},
   "outputs": [],
   "source": [
    "# 取り出して"
   ]
  },
  {
   "cell_type": "code",
   "execution_count": 6,
   "id": "9ca9ecc5-2247-416a-8fea-f83120c59c3b",
   "metadata": {},
   "outputs": [],
   "source": [
    "# 2乗する"
   ]
  },
  {
   "cell_type": "code",
   "execution_count": null,
   "id": "24e96ff1-fa0b-47a9-be67-36f6a78949a3",
   "metadata": {},
   "outputs": [],
   "source": []
  },
  {
   "cell_type": "code",
   "execution_count": 7,
   "id": "56741fb0-4b1a-4774-81c3-ac57d71f342c",
   "metadata": {},
   "outputs": [
    {
     "name": "stdout",
     "output_type": "stream",
     "text": [
      "新しいデータは [2, 4, 8, 10] です。\n"
     ]
    }
   ],
   "source": [
    "print(\"新しいデータは\", ndata, \"です。\")"
   ]
  }
 ],
 "metadata": {
  "kernelspec": {
   "display_name": "Python 3 (ipykernel)",
   "language": "python",
   "name": "python3"
  },
  "language_info": {
   "codemirror_mode": {
    "name": "ipython",
    "version": 3
   },
   "file_extension": ".py",
   "mimetype": "text/x-python",
   "name": "python",
   "nbconvert_exporter": "python",
   "pygments_lexer": "ipython3",
   "version": "3.11.4"
  }
 },
 "nbformat": 4,
 "nbformat_minor": 5
}
