{
 "cells": [
  {
   "cell_type": "code",
   "execution_count": 1,
   "id": "02a05cfc-838f-4ffb-a937-d34acb0dffd5",
   "metadata": {},
   "outputs": [],
   "source": [
    "sale = [80, 60, 22, 50, 75]"
   ]
  },
  {
   "cell_type": "code",
   "execution_count": null,
   "id": "65c1a10d-5e96-4389-9e2f-ea8120dfb822",
   "metadata": {},
   "outputs": [],
   "source": []
  },
  {
   "cell_type": "code",
   "execution_count": 2,
   "id": "df1e3683-f251-4759-93d1-5b39a09055da",
   "metadata": {},
   "outputs": [
    {
     "name": "stdin",
     "output_type": "stream",
     "text": [
      "何番のデータを変更しますか? 2\n"
     ]
    }
   ],
   "source": [
    "i = int(input(\"何番のデータを変更しますか?\"))"
   ]
  },
  {
   "cell_type": "code",
   "execution_count": 3,
   "id": "051f0195-fede-42c5-a7d5-125a182800eb",
   "metadata": {},
   "outputs": [
    {
     "name": "stdin",
     "output_type": "stream",
     "text": [
      "変更後のデータを入力してください。 123\n"
     ]
    }
   ],
   "source": [
    "num = int(input(\"変更後のデータを入力してください。\"))"
   ]
  },
  {
   "cell_type": "code",
   "execution_count": 4,
   "id": "9c8f5cdd-b64a-4415-8455-a3aac4a6c99a",
   "metadata": {},
   "outputs": [
    {
     "name": "stdout",
     "output_type": "stream",
     "text": [
      "2 番のデータ 22 を変更します。\n"
     ]
    }
   ],
   "source": [
    "print(i, \"番のデータ\", sale[i], \"を変更します。\")"
   ]
  },
  {
   "cell_type": "code",
   "execution_count": 5,
   "id": "cabf3fe2-89fc-489a-abb1-3b585bf72fa9",
   "metadata": {},
   "outputs": [],
   "source": [
    "sale[i] = num"
   ]
  },
  {
   "cell_type": "code",
   "execution_count": 6,
   "id": "a8c126cb-df15-4604-9de1-bbfe2ede0e9b",
   "metadata": {},
   "outputs": [
    {
     "name": "stdout",
     "output_type": "stream",
     "text": [
      "2 番のデータは 123 に変更されました。\n"
     ]
    }
   ],
   "source": [
    "print(i, \"番のデータは\", sale[i], \"に変更されました。\")"
   ]
  }
 ],
 "metadata": {
  "kernelspec": {
   "display_name": "Python 3 (ipykernel)",
   "language": "python",
   "name": "python3"
  },
  "language_info": {
   "codemirror_mode": {
    "name": "ipython",
    "version": 3
   },
   "file_extension": ".py",
   "mimetype": "text/x-python",
   "name": "python",
   "nbconvert_exporter": "python",
   "pygments_lexer": "ipython3",
   "version": "3.11.4"
  }
 },
 "nbformat": 4,
 "nbformat_minor": 5
}
