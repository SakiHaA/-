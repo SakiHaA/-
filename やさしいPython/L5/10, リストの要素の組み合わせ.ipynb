{
 "cells": [
  {
   "cell_type": "code",
   "execution_count": 1,
   "id": "5a6f6b85-0366-4b99-a54e-274bfc4a71a5",
   "metadata": {},
   "outputs": [],
   "source": [
    "city = [\"東京\", \"名古屋\", \"大阪\", \"京都\"]"
   ]
  },
  {
   "cell_type": "code",
   "execution_count": 2,
   "id": "51aa2846-fa5a-4a3e-a857-d418956d6047",
   "metadata": {},
   "outputs": [],
   "source": [
    "sale = [80, 60, 22, 50, 75]"
   ]
  },
  {
   "cell_type": "code",
   "execution_count": null,
   "id": "8e5ff7a7-8c1d-4d1b-ab93-bedf68e84709",
   "metadata": {},
   "outputs": [],
   "source": []
  },
  {
   "cell_type": "code",
   "execution_count": 3,
   "id": "b5d01bbc-2beb-466f-b9cb-c2605b6b9263",
   "metadata": {},
   "outputs": [
    {
     "name": "stdout",
     "output_type": "stream",
     "text": [
      "都市名データは ['東京', '名古屋', '大阪', '京都'] です。\n"
     ]
    }
   ],
   "source": [
    "print(\"都市名データは\", city, \"です。\")"
   ]
  },
  {
   "cell_type": "code",
   "execution_count": 4,
   "id": "d439e3ed-0fbf-4ba0-b8a3-c2891beacd0c",
   "metadata": {},
   "outputs": [
    {
     "name": "stdout",
     "output_type": "stream",
     "text": [
      "売上データは [80, 60, 22, 50, 75] です。\n"
     ]
    }
   ],
   "source": [
    "print(\"売上データは\", sale, \"です。\")"
   ]
  },
  {
   "cell_type": "code",
   "execution_count": null,
   "id": "f41d37b3-b8dc-4df1-800f-77ecb024e475",
   "metadata": {},
   "outputs": [],
   "source": []
  },
  {
   "cell_type": "code",
   "execution_count": 5,
   "id": "dea33304-9c47-42fc-a641-74bc026d0807",
   "metadata": {},
   "outputs": [
    {
     "name": "stdout",
     "output_type": "stream",
     "text": [
      "データを組み合わせます。\n"
     ]
    }
   ],
   "source": [
    "print(\"データを組み合わせます。\")"
   ]
  },
  {
   "cell_type": "code",
   "execution_count": null,
   "id": "fb6044e2-f40a-4290-bb22-20407de2a1ac",
   "metadata": {},
   "outputs": [],
   "source": []
  },
  {
   "cell_type": "code",
   "execution_count": 6,
   "id": "febf0d3d-fda2-4711-b8f8-05cbbb10d3a3",
   "metadata": {},
   "outputs": [
    {
     "name": "stdout",
     "output_type": "stream",
     "text": [
      "('東京', 80)\n",
      "('名古屋', 60)\n",
      "('大阪', 22)\n",
      "('京都', 50)\n"
     ]
    }
   ],
   "source": [
    "for d in zip(city, sale):\n",
    "    print(d)"
   ]
  },
  {
   "cell_type": "code",
   "execution_count": 7,
   "id": "457fe847-8e5b-412c-abbe-6ee591fc8f5b",
   "metadata": {},
   "outputs": [],
   "source": [
    "# 組み込み関数zip()"
   ]
  },
  {
   "cell_type": "code",
   "execution_count": 8,
   "id": "ee8e476d-125c-4609-b45f-2552db67efbe",
   "metadata": {},
   "outputs": [
    {
     "name": "stdout",
     "output_type": "stream",
     "text": [
      "データとインデックスを組み合わせます。\n"
     ]
    }
   ],
   "source": [
    "print(\"データとインデックスを組み合わせます。\")"
   ]
  },
  {
   "cell_type": "code",
   "execution_count": 9,
   "id": "98730e4b-b7b0-4d4b-8325-fe6688fe8ca4",
   "metadata": {},
   "outputs": [],
   "source": [
    "# zip(リストA, リストB, ...) 複数のデータを組み合わせる"
   ]
  },
  {
   "cell_type": "code",
   "execution_count": null,
   "id": "c1c0179a-22e4-432b-8fb1-64db93d8bd5f",
   "metadata": {},
   "outputs": [],
   "source": []
  },
  {
   "cell_type": "code",
   "execution_count": 10,
   "id": "a04d1a2e-321b-43af-ae8b-f37538b30899",
   "metadata": {},
   "outputs": [
    {
     "name": "stdout",
     "output_type": "stream",
     "text": [
      "(0, '東京')\n",
      "(1, '名古屋')\n",
      "(2, '大阪')\n",
      "(3, '京都')\n"
     ]
    }
   ],
   "source": [
    "for d in enumerate(city):\n",
    "    print(d)"
   ]
  },
  {
   "cell_type": "code",
   "execution_count": 11,
   "id": "35e0ca1b-edc0-4036-bd10-1e4dbc308304",
   "metadata": {},
   "outputs": [],
   "source": [
    "# 組み込み関数enumerate()"
   ]
  },
  {
   "cell_type": "code",
   "execution_count": 12,
   "id": "445dbe47-be84-4b97-8f2d-6c0c8b656330",
   "metadata": {},
   "outputs": [],
   "source": [
    "# enumerate(リスト名)　要素の値とインデックスを組み合わせることができる"
   ]
  }
 ],
 "metadata": {
  "kernelspec": {
   "display_name": "Python 3 (ipykernel)",
   "language": "python",
   "name": "python3"
  },
  "language_info": {
   "codemirror_mode": {
    "name": "ipython",
    "version": 3
   },
   "file_extension": ".py",
   "mimetype": "text/x-python",
   "name": "python",
   "nbconvert_exporter": "python",
   "pygments_lexer": "ipython3",
   "version": "3.11.4"
  }
 },
 "nbformat": 4,
 "nbformat_minor": 5
}
