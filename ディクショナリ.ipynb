{
 "cells": [
  {
   "cell_type": "code",
   "execution_count": 1,
   "id": "da055d38-ed00-4be2-a535-9e920f9ac314",
   "metadata": {},
   "outputs": [],
   "source": [
    "sale = {\"東京\":80, \"京都\":60, \"名古屋\":40}"
   ]
  },
  {
   "cell_type": "code",
   "execution_count": 2,
   "id": "584260e6-0d3c-4bdd-bd3e-af91719aa74d",
   "metadata": {},
   "outputs": [
    {
     "name": "stdout",
     "output_type": "stream",
     "text": [
      "現在のデータは {'東京': 80, '京都': 60, '名古屋': 40} です\n"
     ]
    }
   ],
   "source": [
    "print(\"現在のデータは\", sale, \"です\")"
   ]
  }
 ],
 "metadata": {
  "kernelspec": {
   "display_name": "Python 3 (ipykernel)",
   "language": "python",
   "name": "python3"
  },
  "language_info": {
   "codemirror_mode": {
    "name": "ipython",
    "version": 3
   },
   "file_extension": ".py",
   "mimetype": "text/x-python",
   "name": "python",
   "nbconvert_exporter": "python",
   "pygments_lexer": "ipython3",
   "version": "3.11.4"
  }
 },
 "nbformat": 4,
 "nbformat_minor": 5
}
