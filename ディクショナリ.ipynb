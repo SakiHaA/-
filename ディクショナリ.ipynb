{
 "cells": [
  {
   "cell_type": "code",
   "execution_count": 1,
   "id": "da055d38-ed00-4be2-a535-9e920f9ac314",
   "metadata": {},
   "outputs": [],
   "source": [
    "sale = {\"東京\":80, \"京都\":60, \"名古屋\":40}"
   ]
  },
  {
   "cell_type": "code",
   "execution_count": 2,
   "id": "584260e6-0d3c-4bdd-bd3e-af91719aa74d",
   "metadata": {},
   "outputs": [
    {
     "name": "stdout",
     "output_type": "stream",
     "text": [
      "現在のデータは {'東京': 80, '京都': 60, '名古屋': 40} です\n"
     ]
    }
   ],
   "source": [
    "print(\"現在のデータは\", sale, \"です\")"
   ]
  },
  {
   "cell_type": "code",
   "execution_count": 3,
   "id": "8cc3137b-1956-4bfb-83e1-dfc01a3bdd97",
   "metadata": {},
   "outputs": [
    {
     "name": "stdin",
     "output_type": "stream",
     "text": [
      "どの県のデータをご所望でしょうか？ 東京\n"
     ]
    },
    {
     "name": "stdout",
     "output_type": "stream",
     "text": [
      "東京 のデータは 80 です\n"
     ]
    }
   ],
   "source": [
    "k = input(\"どの県のデータをご所望でしょうか？\")\n",
    "print(k, \"のデータは\", sale[k], \"です\")"
   ]
  }
 ],
 "metadata": {
  "kernelspec": {
   "display_name": "Python 3 (ipykernel)",
   "language": "python",
   "name": "python3"
  },
  "language_info": {
   "codemirror_mode": {
    "name": "ipython",
    "version": 3
   },
   "file_extension": ".py",
   "mimetype": "text/x-python",
   "name": "python",
   "nbconvert_exporter": "python",
   "pygments_lexer": "ipython3",
   "version": "3.11.4"
  }
 },
 "nbformat": 4,
 "nbformat_minor": 5
}
