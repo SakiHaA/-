{
 "cells": [
  {
   "cell_type": "code",
   "execution_count": 1,
   "id": "afe37984-0148-4059-b04a-83e835103ba5",
   "metadata": {},
   "outputs": [
    {
     "name": "stdout",
     "output_type": "stream",
     "text": [
      "Hello,Python!\n"
     ]
    }
   ],
   "source": [
    "print(\"Hello,Python!\")"
   ]
  },
  {
   "cell_type": "code",
   "execution_count": 2,
   "id": "b317e3a9-c179-45e8-85b0-8ee177c1be83",
   "metadata": {},
   "outputs": [
    {
     "name": "stdout",
     "output_type": "stream",
     "text": [
      "どうも。山田です。\n"
     ]
    }
   ],
   "source": [
    "print(\"どうも。\"+\"山田です。\")"
   ]
  },
  {
   "cell_type": "code",
   "execution_count": 3,
   "id": "4a6348e3-6bf4-4c86-808a-b60441c44fb8",
   "metadata": {},
   "outputs": [
    {
     "name": "stdout",
     "output_type": "stream",
     "text": [
      "HELLOHELLO\n"
     ]
    }
   ],
   "source": [
    "print(\"HELLO\"*2)"
   ]
  },
  {
   "cell_type": "code",
   "execution_count": 4,
   "id": "bcb0ab9b-dd53-4356-aa47-c7d4a6a6c4a8",
   "metadata": {},
   "outputs": [
    {
     "name": "stdout",
     "output_type": "stream",
     "text": [
      "3\n"
     ]
    }
   ],
   "source": [
    "print(\"3\")"
   ]
  },
  {
   "cell_type": "code",
   "execution_count": 5,
   "id": "460b3e72-c0aa-450b-b199-b19b71c85f14",
   "metadata": {},
   "outputs": [
    {
     "name": "stdout",
     "output_type": "stream",
     "text": [
      "3\n"
     ]
    }
   ],
   "source": [
    "print(3)"
   ]
  },
  {
   "cell_type": "code",
   "execution_count": 6,
   "id": "bc59a29f-9986-4fa0-9727-50025e91e925",
   "metadata": {},
   "outputs": [],
   "source": [
    "# print(\"3\"+3)とすると、文字列同士の結合にはならないのでエラーになる"
   ]
  },
  {
   "cell_type": "code",
   "execution_count": 7,
   "id": "47a3e1cc-82bb-422e-86bc-c9b5a9657505",
   "metadata": {},
   "outputs": [
    {
     "data": {
      "text/plain": [
       "int"
      ]
     },
     "execution_count": 7,
     "metadata": {},
     "output_type": "execute_result"
    }
   ],
   "source": [
    "type(3) #string型"
   ]
  },
  {
   "cell_type": "code",
   "execution_count": 8,
   "id": "00ab70a2-c3bc-4562-9c00-5b7c0221a05e",
   "metadata": {},
   "outputs": [
    {
     "data": {
      "text/plain": [
       "str"
      ]
     },
     "execution_count": 8,
     "metadata": {},
     "output_type": "execute_result"
    }
   ],
   "source": [
    "type(\"3\") #integer型"
   ]
  },
  {
   "cell_type": "code",
   "execution_count": 9,
   "id": "57166fe2-0d19-4ba9-a9e5-5e33e3720091",
   "metadata": {},
   "outputs": [],
   "source": [
    "# どっちかに揃える必要あり"
   ]
  },
  {
   "cell_type": "code",
   "execution_count": 10,
   "id": "30fe4f11-472a-4ab2-aa3f-5b09521107ae",
   "metadata": {},
   "outputs": [
    {
     "name": "stdout",
     "output_type": "stream",
     "text": [
      "6\n"
     ]
    }
   ],
   "source": [
    "print(int(\"3\")+3)"
   ]
  },
  {
   "cell_type": "code",
   "execution_count": 11,
   "id": "161b7173-1618-4716-a04b-4399c4cbe52c",
   "metadata": {},
   "outputs": [
    {
     "name": "stdout",
     "output_type": "stream",
     "text": [
      "33\n"
     ]
    }
   ],
   "source": [
    "print(\"3\"+str(3))"
   ]
  }
 ],
 "metadata": {
  "kernelspec": {
   "display_name": "Python 3 (ipykernel)",
   "language": "python",
   "name": "python3"
  },
  "language_info": {
   "codemirror_mode": {
    "name": "ipython",
    "version": 3
   },
   "file_extension": ".py",
   "mimetype": "text/x-python",
   "name": "python",
   "nbconvert_exporter": "python",
   "pygments_lexer": "ipython3",
   "version": "3.11.4"
  }
 },
 "nbformat": 4,
 "nbformat_minor": 5
}
