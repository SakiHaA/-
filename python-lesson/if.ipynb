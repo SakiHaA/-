{
 "cells": [
  {
   "cell_type": "code",
   "execution_count": 1,
   "id": "0fa653ca-c565-4e43-9216-3fad41a382bc",
   "metadata": {},
   "outputs": [],
   "source": [
    "a = 30"
   ]
  },
  {
   "cell_type": "code",
   "execution_count": 2,
   "id": "e1a75038-b9f1-4032-99dc-baaa1e60c232",
   "metadata": {},
   "outputs": [],
   "source": [
    "b = 20"
   ]
  },
  {
   "cell_type": "code",
   "execution_count": 3,
   "id": "e7e583ab-29f8-471b-8fb4-262e6430e47d",
   "metadata": {},
   "outputs": [
    {
     "name": "stdout",
     "output_type": "stream",
     "text": [
      "aはbより大きいです。\n"
     ]
    }
   ],
   "source": [
    "if a < b:\n",
    "    print(\"aはbより小さいです。\")\n",
    "elif a == b:\n",
    "    print(\"aはbは等しいです。\")\n",
    "else:\n",
    "    print(\"aはbより大きいです。\")"
   ]
  },
  {
   "cell_type": "code",
   "execution_count": 4,
   "id": "4f534339-a880-4949-a558-db970d38dcd4",
   "metadata": {},
   "outputs": [],
   "source": [
    "# printの前は4つのインデントを置く,if文は1つの欄にかかないとエラーになる。"
   ]
  }
 ],
 "metadata": {
  "kernelspec": {
   "display_name": "Python 3 (ipykernel)",
   "language": "python",
   "name": "python3"
  },
  "language_info": {
   "codemirror_mode": {
    "name": "ipython",
    "version": 3
   },
   "file_extension": ".py",
   "mimetype": "text/x-python",
   "name": "python",
   "nbconvert_exporter": "python",
   "pygments_lexer": "ipython3",
   "version": "3.11.4"
  }
 },
 "nbformat": 4,
 "nbformat_minor": 5
}
