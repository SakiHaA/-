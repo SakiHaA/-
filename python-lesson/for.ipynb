{
 "cells": [
  {
   "cell_type": "code",
   "execution_count": 1,
   "id": "14bba7fb-d458-404f-90e5-f62b60cf988d",
   "metadata": {},
   "outputs": [],
   "source": [
    "# 要素を変数に代入して繰り返す"
   ]
  },
  {
   "cell_type": "code",
   "execution_count": 2,
   "id": "ab0a6d9c-33db-46db-ba80-749db23cc7fc",
   "metadata": {},
   "outputs": [],
   "source": [
    "# for 変数 in データの塊"
   ]
  },
  {
   "cell_type": "code",
   "execution_count": 3,
   "id": "51059c27-7ea0-4b85-9052-72ca3999c6b3",
   "metadata": {},
   "outputs": [],
   "source": [
    "# データの塊を最初から一通り実行していく"
   ]
  },
  {
   "cell_type": "code",
   "execution_count": 4,
   "id": "709b7151-c273-454d-9785-20cb3515163a",
   "metadata": {},
   "outputs": [],
   "source": [
    "# Listと大文字にしないと予約語と被ってしまう"
   ]
  },
  {
   "cell_type": "code",
   "execution_count": 5,
   "id": "725904aa-c895-4765-bc15-09f93a4431f4",
   "metadata": {},
   "outputs": [],
   "source": [
    "List = [1,2,3,4,5,6,7,8,9]"
   ]
  },
  {
   "cell_type": "code",
   "execution_count": 6,
   "id": "d6cc9fbc-6fd5-4552-b084-5998d70e032c",
   "metadata": {},
   "outputs": [
    {
     "name": "stdout",
     "output_type": "stream",
     "text": [
      "1\n",
      "2\n",
      "3\n",
      "4\n",
      "5\n",
      "6\n",
      "7\n",
      "8\n",
      "9\n"
     ]
    }
   ],
   "source": [
    "for i in List:\n",
    "    print(i)"
   ]
  },
  {
   "cell_type": "code",
   "execution_count": 7,
   "id": "da4c4c57-beb9-4fa6-bccd-4be894d2ff37",
   "metadata": {},
   "outputs": [
    {
     "name": "stdout",
     "output_type": "stream",
     "text": [
      "Hi!!\n",
      "Hi!!\n",
      "Hi!!\n",
      "Hi!!\n",
      "Hi!!\n",
      "Hi!!\n",
      "Hi!!\n",
      "Hi!!\n",
      "Hi!!\n"
     ]
    }
   ],
   "source": [
    "for i in List:\n",
    "    print(\"Hi!!\")"
   ]
  },
  {
   "cell_type": "code",
   "execution_count": 8,
   "id": "b32c63e5-9c41-4ccd-aa98-0fedd45ce7fa",
   "metadata": {},
   "outputs": [],
   "source": [
    "# 関係ない処理も可能"
   ]
  },
  {
   "cell_type": "code",
   "execution_count": 9,
   "id": "085eb033-2e34-4a7d-bcb5-fe09a5418b0b",
   "metadata": {},
   "outputs": [
    {
     "name": "stdout",
     "output_type": "stream",
     "text": [
      "0\n",
      "1\n",
      "2\n",
      "3\n",
      "4\n"
     ]
    }
   ],
   "source": [
    "for i in range(0,5):\n",
    "    print(i)"
   ]
  },
  {
   "cell_type": "code",
   "execution_count": 10,
   "id": "d318671d-0195-4b43-b572-27c0eece693c",
   "metadata": {},
   "outputs": [],
   "source": [
    "# 5まではなかったです。"
   ]
  },
  {
   "cell_type": "code",
   "execution_count": 11,
   "id": "6d6b6dbf-0bd2-4871-a961-96661a505b46",
   "metadata": {},
   "outputs": [],
   "source": [
    "# 上がrange関数"
   ]
  },
  {
   "cell_type": "code",
   "execution_count": 12,
   "id": "75ba9160-0ba5-41aa-af4c-9e242057d567",
   "metadata": {},
   "outputs": [
    {
     "name": "stdout",
     "output_type": "stream",
     "text": [
      "0\n",
      "1\n",
      "2\n",
      "3\n",
      "4\n"
     ]
    }
   ],
   "source": [
    "for i in range(5):\n",
    "    print(i)"
   ]
  },
  {
   "cell_type": "code",
   "execution_count": 13,
   "id": "e2e0fbce-f02a-4f3d-8f70-548b966885c8",
   "metadata": {},
   "outputs": [],
   "source": [
    "# 始まりが0の場合省略可能"
   ]
  },
  {
   "cell_type": "code",
   "execution_count": 14,
   "id": "2ec10ce3-60fc-4427-83e7-cde920e05050",
   "metadata": {},
   "outputs": [
    {
     "name": "stdout",
     "output_type": "stream",
     "text": [
      "1\n",
      "2\n",
      "3\n",
      "4\n",
      "5\n"
     ]
    }
   ],
   "source": [
    "for i in range(5):\n",
    "    print(List[i])"
   ]
  },
  {
   "cell_type": "code",
   "execution_count": 15,
   "id": "19532956-87bc-4eb9-b681-ee8310c87d3a",
   "metadata": {},
   "outputs": [],
   "source": [
    "# 一番上にあるListを利用するこの形がよく使われがち"
   ]
  },
  {
   "cell_type": "code",
   "execution_count": 16,
   "id": "f35a044b-342a-43e3-b56a-b1433a259032",
   "metadata": {},
   "outputs": [
    {
     "data": {
      "text/plain": [
       "9"
      ]
     },
     "execution_count": 16,
     "metadata": {},
     "output_type": "execute_result"
    }
   ],
   "source": [
    "len(List)"
   ]
  },
  {
   "cell_type": "code",
   "execution_count": 17,
   "id": "3c69af00-8f17-4bff-b197-af243c6e60bf",
   "metadata": {},
   "outputs": [
    {
     "name": "stdout",
     "output_type": "stream",
     "text": [
      "1\n",
      "2\n",
      "3\n",
      "4\n",
      "5\n",
      "6\n",
      "7\n",
      "8\n",
      "9\n"
     ]
    }
   ],
   "source": [
    "for i in range(len(List)):\n",
    "    print(List[i])"
   ]
  },
  {
   "cell_type": "code",
   "execution_count": 18,
   "id": "bed39596-3784-4907-8daf-73df826d03f9",
   "metadata": {},
   "outputs": [],
   "source": [
    "# このように打つことで範囲を確かめることなくfor文を利用できる"
   ]
  },
  {
   "cell_type": "code",
   "execution_count": 19,
   "id": "c6dd9619-2dcc-4f48-98e0-7ea453143847",
   "metadata": {},
   "outputs": [
    {
     "name": "stdout",
     "output_type": "stream",
     "text": [
      "0 1\n",
      "1 2\n",
      "2 3\n",
      "3 4\n",
      "4 5\n",
      "5 6\n",
      "6 7\n",
      "7 8\n",
      "8 9\n"
     ]
    }
   ],
   "source": [
    "for i,j in enumerate(List):\n",
    "    print(i,j)"
   ]
  },
  {
   "cell_type": "code",
   "execution_count": 20,
   "id": "82cd4aba-18fb-4fd1-b2d1-2067c2e240a7",
   "metadata": {},
   "outputs": [],
   "source": [
    "# enumerateはindexと要素を引っ張ってきてくれる構文,まあまあ使うらしい"
   ]
  }
 ],
 "metadata": {
  "kernelspec": {
   "display_name": "Python 3 (ipykernel)",
   "language": "python",
   "name": "python3"
  },
  "language_info": {
   "codemirror_mode": {
    "name": "ipython",
    "version": 3
   },
   "file_extension": ".py",
   "mimetype": "text/x-python",
   "name": "python",
   "nbconvert_exporter": "python",
   "pygments_lexer": "ipython3",
   "version": "3.11.4"
  }
 },
 "nbformat": 4,
 "nbformat_minor": 5
}
