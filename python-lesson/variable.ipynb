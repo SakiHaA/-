{
 "cells": [
  {
   "cell_type": "code",
   "execution_count": 1,
   "id": "8ab6ce95-f9ed-46b7-9b2e-4f2a144eb4e1",
   "metadata": {},
   "outputs": [],
   "source": [
    "a = 1"
   ]
  },
  {
   "cell_type": "code",
   "execution_count": 2,
   "id": "12ed9952-aaff-4ec3-8796-139894ec2a5e",
   "metadata": {},
   "outputs": [],
   "source": [
    "b = 1"
   ]
  },
  {
   "cell_type": "code",
   "execution_count": 3,
   "id": "c9536645-0edc-4c67-8c5e-3228aa450593",
   "metadata": {},
   "outputs": [
    {
     "data": {
      "text/plain": [
       "2"
      ]
     },
     "execution_count": 3,
     "metadata": {},
     "output_type": "execute_result"
    }
   ],
   "source": [
    "a + b"
   ]
  },
  {
   "cell_type": "code",
   "execution_count": 4,
   "id": "0726f27e-4e64-4672-b662-ef65078c8cd2",
   "metadata": {},
   "outputs": [
    {
     "data": {
      "text/plain": [
       "1"
      ]
     },
     "execution_count": 4,
     "metadata": {},
     "output_type": "execute_result"
    }
   ],
   "source": [
    "a"
   ]
  },
  {
   "cell_type": "code",
   "execution_count": 5,
   "id": "98606a62-a120-4233-979c-5d7237ccd77e",
   "metadata": {},
   "outputs": [
    {
     "data": {
      "text/plain": [
       "1"
      ]
     },
     "execution_count": 5,
     "metadata": {},
     "output_type": "execute_result"
    }
   ],
   "source": [
    "b"
   ]
  },
  {
   "cell_type": "code",
   "execution_count": 6,
   "id": "33fdfd9f-6bc4-48f8-b365-f8904beb48c3",
   "metadata": {},
   "outputs": [],
   "source": [
    "a = 2"
   ]
  },
  {
   "cell_type": "code",
   "execution_count": 7,
   "id": "5e5b2747-be8e-44b0-bddc-ec6f5b681418",
   "metadata": {},
   "outputs": [
    {
     "data": {
      "text/plain": [
       "3"
      ]
     },
     "execution_count": 7,
     "metadata": {},
     "output_type": "execute_result"
    }
   ],
   "source": [
    "a + b"
   ]
  },
  {
   "cell_type": "code",
   "execution_count": 8,
   "id": "0eac964e-697c-46f8-bcd1-a93ba1fcd3e6",
   "metadata": {},
   "outputs": [],
   "source": [
    "# 数字の上書きが起きている"
   ]
  },
  {
   "cell_type": "code",
   "execution_count": 9,
   "id": "82c167fb-9f39-4c46-b932-6c22ae5a4b07",
   "metadata": {},
   "outputs": [],
   "source": [
    "name = \"John\""
   ]
  },
  {
   "cell_type": "code",
   "execution_count": 10,
   "id": "9b132db1-e367-491d-912d-964a837d3009",
   "metadata": {},
   "outputs": [
    {
     "name": "stdout",
     "output_type": "stream",
     "text": [
      "どうもJohnです。\n"
     ]
    }
   ],
   "source": [
    "print(\"どうも\" + name + \"です。\")"
   ]
  },
  {
   "cell_type": "code",
   "execution_count": 11,
   "id": "d90e1641-a2ac-47e3-88e7-0be3d5e7d6a2",
   "metadata": {},
   "outputs": [
    {
     "name": "stdout",
     "output_type": "stream",
     "text": [
      "こんにちはJohnです。\n"
     ]
    }
   ],
   "source": [
    "print(\"こんにちは{}です。\".format(name))"
   ]
  },
  {
   "cell_type": "code",
   "execution_count": 12,
   "id": "2d31c171-70cc-454e-a50b-6624b90791aa",
   "metadata": {},
   "outputs": [
    {
     "name": "stdout",
     "output_type": "stream",
     "text": [
      "こんにちはJohnです。年齢は24です。\n"
     ]
    }
   ],
   "source": [
    "print(\"こんにちは{}です。年齢は{}です。\".format(name,24))"
   ]
  }
 ],
 "metadata": {
  "kernelspec": {
   "display_name": "Python 3 (ipykernel)",
   "language": "python",
   "name": "python3"
  },
  "language_info": {
   "codemirror_mode": {
    "name": "ipython",
    "version": 3
   },
   "file_extension": ".py",
   "mimetype": "text/x-python",
   "name": "python",
   "nbconvert_exporter": "python",
   "pygments_lexer": "ipython3",
   "version": "3.11.4"
  }
 },
 "nbformat": 4,
 "nbformat_minor": 5
}
