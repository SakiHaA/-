{
 "cells": [
  {
   "cell_type": "code",
   "execution_count": 1,
   "id": "040c3400-2405-4ecf-90fa-0f79ebfcdd47",
   "metadata": {},
   "outputs": [],
   "source": [
    "# 便利な関数のまとまり"
   ]
  },
  {
   "cell_type": "code",
   "execution_count": 2,
   "id": "b31c6bf4-5539-4d56-ad68-3260d49ffd4c",
   "metadata": {},
   "outputs": [],
   "source": [
    "# ①!pip install ライブラリ名:装備品の購入(*最初のみ)\n",
    "# ②import ライブラリ名:装備品を装備する(毎回)"
   ]
  },
  {
   "cell_type": "code",
   "execution_count": 3,
   "id": "07687cb5-f9e7-4f49-9ffd-2703361e1b7a",
   "metadata": {},
   "outputs": [
    {
     "name": "stdout",
     "output_type": "stream",
     "text": [
      "Requirement already satisfied: jpholiday in /Users/saki/.pyenv/versions/3.11.4/lib/python3.11/site-packages (0.1.8)\n",
      "\n",
      "\u001b[1m[\u001b[0m\u001b[34;49mnotice\u001b[0m\u001b[1;39;49m]\u001b[0m\u001b[39;49m A new release of pip is available: \u001b[0m\u001b[31;49m23.1.2\u001b[0m\u001b[39;49m -> \u001b[0m\u001b[32;49m23.2.1\u001b[0m\n",
      "\u001b[1m[\u001b[0m\u001b[34;49mnotice\u001b[0m\u001b[1;39;49m]\u001b[0m\u001b[39;49m To update, run: \u001b[0m\u001b[32;49mpip install --upgrade pip\u001b[0m\n"
     ]
    }
   ],
   "source": [
    "!pip install jpholiday"
   ]
  },
  {
   "cell_type": "code",
   "execution_count": 4,
   "id": "8d2723eb-b369-476a-af47-c5f9f95b2f7e",
   "metadata": {},
   "outputs": [],
   "source": [
    "import jpholiday"
   ]
  },
  {
   "cell_type": "code",
   "execution_count": 5,
   "id": "f1bf2ea5-3367-4723-a4db-ed18d872c018",
   "metadata": {},
   "outputs": [
    {
     "data": {
      "text/plain": [
       "[(datetime.date(2023, 1, 1), '元日'),\n",
       " (datetime.date(2023, 1, 2), '元日 振替休日'),\n",
       " (datetime.date(2023, 1, 9), '成人の日'),\n",
       " (datetime.date(2023, 2, 11), '建国記念の日'),\n",
       " (datetime.date(2023, 2, 23), '天皇誕生日'),\n",
       " (datetime.date(2023, 3, 21), '春分の日'),\n",
       " (datetime.date(2023, 4, 29), '昭和の日'),\n",
       " (datetime.date(2023, 5, 3), '憲法記念日'),\n",
       " (datetime.date(2023, 5, 4), 'みどりの日'),\n",
       " (datetime.date(2023, 5, 5), 'こどもの日'),\n",
       " (datetime.date(2023, 7, 17), '海の日'),\n",
       " (datetime.date(2023, 8, 11), '山の日'),\n",
       " (datetime.date(2023, 9, 18), '敬老の日'),\n",
       " (datetime.date(2023, 9, 23), '秋分の日'),\n",
       " (datetime.date(2023, 10, 9), 'スポーツの日'),\n",
       " (datetime.date(2023, 11, 3), '文化の日'),\n",
       " (datetime.date(2023, 11, 23), '勤労感謝の日')]"
      ]
     },
     "execution_count": 5,
     "metadata": {},
     "output_type": "execute_result"
    }
   ],
   "source": [
    "jpholiday.year_holidays(2023)"
   ]
  },
  {
   "cell_type": "code",
   "execution_count": 6,
   "id": "92605eeb-4f19-45a4-baba-9ed8065484ec",
   "metadata": {},
   "outputs": [],
   "source": [
    "# year_holiday:モジュール？名の一つ"
   ]
  },
  {
   "cell_type": "code",
   "execution_count": 7,
   "id": "12c2a1e8-d678-44be-bd2a-54f41356b00f",
   "metadata": {},
   "outputs": [
    {
     "data": {
      "text/plain": [
       "18"
      ]
     },
     "execution_count": 7,
     "metadata": {},
     "output_type": "execute_result"
    }
   ],
   "source": [
    "len(jpholiday.year_holidays(2020))"
   ]
  },
  {
   "cell_type": "code",
   "execution_count": 8,
   "id": "ca17420e-a21f-4c06-a250-14121b666d9d",
   "metadata": {},
   "outputs": [
    {
     "data": {
      "text/plain": [
       "17"
      ]
     },
     "execution_count": 8,
     "metadata": {},
     "output_type": "execute_result"
    }
   ],
   "source": [
    "len(jpholiday.year_holidays(2021))"
   ]
  },
  {
   "cell_type": "code",
   "execution_count": 9,
   "id": "f2586e5b-167a-481b-b3bf-0e4739c833a0",
   "metadata": {},
   "outputs": [
    {
     "data": {
      "text/plain": [
       "16"
      ]
     },
     "execution_count": 9,
     "metadata": {},
     "output_type": "execute_result"
    }
   ],
   "source": [
    "len(jpholiday.year_holidays(2022))"
   ]
  },
  {
   "cell_type": "code",
   "execution_count": 10,
   "id": "b5a5a3b7-451f-4387-86da-a01e8478d534",
   "metadata": {},
   "outputs": [
    {
     "data": {
      "text/plain": [
       "17"
      ]
     },
     "execution_count": 10,
     "metadata": {},
     "output_type": "execute_result"
    }
   ],
   "source": [
    "len(jpholiday.year_holidays(2023))"
   ]
  },
  {
   "cell_type": "code",
   "execution_count": 11,
   "id": "d41ee32d-6d7a-4b74-888b-fe666f936d15",
   "metadata": {},
   "outputs": [
    {
     "name": "stdout",
     "output_type": "stream",
     "text": [
      "Requirement already satisfied: pyperclip in /Users/saki/.pyenv/versions/3.11.4/lib/python3.11/site-packages (1.8.2)\n",
      "\n",
      "\u001b[1m[\u001b[0m\u001b[34;49mnotice\u001b[0m\u001b[1;39;49m]\u001b[0m\u001b[39;49m A new release of pip is available: \u001b[0m\u001b[31;49m23.1.2\u001b[0m\u001b[39;49m -> \u001b[0m\u001b[32;49m23.2.1\u001b[0m\n",
      "\u001b[1m[\u001b[0m\u001b[34;49mnotice\u001b[0m\u001b[1;39;49m]\u001b[0m\u001b[39;49m To update, run: \u001b[0m\u001b[32;49mpip install --upgrade pip\u001b[0m\n"
     ]
    }
   ],
   "source": [
    "!pip install pyperclip"
   ]
  },
  {
   "cell_type": "code",
   "execution_count": 12,
   "id": "d1f9546b-6847-4037-901e-6a73b1eee2b1",
   "metadata": {},
   "outputs": [],
   "source": [
    "import pyperclip"
   ]
  },
  {
   "cell_type": "code",
   "execution_count": 13,
   "id": "fa98b017-c373-4142-b278-d34ad44ae5c0",
   "metadata": {},
   "outputs": [
    {
     "data": {
      "text/plain": [
       "'pyperclip'"
      ]
     },
     "execution_count": 13,
     "metadata": {},
     "output_type": "execute_result"
    }
   ],
   "source": [
    "pyperclip.paste()"
   ]
  },
  {
   "cell_type": "code",
   "execution_count": 14,
   "id": "b1ad7aa8-aade-4049-9da0-ea7f49f7627c",
   "metadata": {},
   "outputs": [],
   "source": [
    "# paste関数は最初にコピーしたやつを表示するもの"
   ]
  },
  {
   "cell_type": "code",
   "execution_count": 15,
   "id": "6594e7a2-6720-4c72-aad1-6bc32d1e7654",
   "metadata": {},
   "outputs": [],
   "source": [
    "#↓以降は標準ライブラリのためpip installいらない"
   ]
  },
  {
   "cell_type": "code",
   "execution_count": 16,
   "id": "e2f6638b-b230-49b3-85b1-bf66992cb5f5",
   "metadata": {},
   "outputs": [],
   "source": [
    "import os"
   ]
  },
  {
   "cell_type": "code",
   "execution_count": 17,
   "id": "f9bb3b5c-de75-4c2a-a392-2203840bb5af",
   "metadata": {},
   "outputs": [
    {
     "data": {
      "text/plain": [
       "'/Users/saki/Desktop/python-lesson'"
      ]
     },
     "execution_count": 17,
     "metadata": {},
     "output_type": "execute_result"
    }
   ],
   "source": [
    "os.getcwd()"
   ]
  },
  {
   "cell_type": "code",
   "execution_count": null,
   "id": "5ed45aa1-6cdf-4121-90c3-e7885b415df5",
   "metadata": {},
   "outputs": [],
   "source": []
  },
  {
   "cell_type": "code",
   "execution_count": null,
   "id": "fdfbe725-2845-45c3-90dd-bebb0eadced9",
   "metadata": {},
   "outputs": [],
   "source": []
  },
  {
   "cell_type": "code",
   "execution_count": null,
   "id": "ff6c1cb0-844d-4256-b1e2-28902699b834",
   "metadata": {},
   "outputs": [],
   "source": []
  }
 ],
 "metadata": {
  "kernelspec": {
   "display_name": "Python 3 (ipykernel)",
   "language": "python",
   "name": "python3"
  },
  "language_info": {
   "codemirror_mode": {
    "name": "ipython",
    "version": 3
   },
   "file_extension": ".py",
   "mimetype": "text/x-python",
   "name": "python",
   "nbconvert_exporter": "python",
   "pygments_lexer": "ipython3",
   "version": "3.11.4"
  }
 },
 "nbformat": 4,
 "nbformat_minor": 5
}
