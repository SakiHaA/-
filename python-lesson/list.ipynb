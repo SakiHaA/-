{
 "cells": [
  {
   "cell_type": "code",
   "execution_count": 1,
   "id": "764922d2-65e2-4c7d-bbc9-d94028067398",
   "metadata": {},
   "outputs": [],
   "source": [
    "List = [1, \"a\", 2, \"b\", 3]"
   ]
  },
  {
   "cell_type": "code",
   "execution_count": 2,
   "id": "a8b2eaf7-cda8-4e77-b0d7-635ee1274e58",
   "metadata": {},
   "outputs": [],
   "source": [
    "# listはprintのように予約語なので↑は大文字で区別化している"
   ]
  },
  {
   "cell_type": "code",
   "execution_count": 3,
   "id": "0d117591-6c6b-44a7-8609-c935173db0b3",
   "metadata": {},
   "outputs": [
    {
     "data": {
      "text/plain": [
       "'a'"
      ]
     },
     "execution_count": 3,
     "metadata": {},
     "output_type": "execute_result"
    }
   ],
   "source": [
    "List[1]"
   ]
  },
  {
   "cell_type": "code",
   "execution_count": 4,
   "id": "7de39427-26d7-449e-9ead-06ed1ec0d7db",
   "metadata": {},
   "outputs": [
    {
     "data": {
      "text/plain": [
       "'b'"
      ]
     },
     "execution_count": 4,
     "metadata": {},
     "output_type": "execute_result"
    }
   ],
   "source": [
    "List[3]"
   ]
  },
  {
   "cell_type": "code",
   "execution_count": 5,
   "id": "059daf7d-5873-4518-b557-71243a5da77d",
   "metadata": {},
   "outputs": [
    {
     "data": {
      "text/plain": [
       "3"
      ]
     },
     "execution_count": 5,
     "metadata": {},
     "output_type": "execute_result"
    }
   ],
   "source": [
    "List[4]"
   ]
  },
  {
   "cell_type": "code",
   "execution_count": 6,
   "id": "ca420516-a592-4967-8b7a-903a3bfb5ea7",
   "metadata": {},
   "outputs": [
    {
     "data": {
      "text/plain": [
       "3"
      ]
     },
     "execution_count": 6,
     "metadata": {},
     "output_type": "execute_result"
    }
   ],
   "source": [
    "List[-1]"
   ]
  },
  {
   "cell_type": "code",
   "execution_count": 7,
   "id": "3c0327b2-1fc7-46cc-a4ad-8e13537ffe9f",
   "metadata": {},
   "outputs": [
    {
     "data": {
      "text/plain": [
       "'b'"
      ]
     },
     "execution_count": 7,
     "metadata": {},
     "output_type": "execute_result"
    }
   ],
   "source": [
    "List[-2]"
   ]
  },
  {
   "cell_type": "code",
   "execution_count": 8,
   "id": "cf3f04a4-accc-45ba-ac01-cb39a0332747",
   "metadata": {},
   "outputs": [],
   "source": [
    "# 数え方が特殊で左は0から右は-1から数える"
   ]
  },
  {
   "cell_type": "code",
   "execution_count": 9,
   "id": "2e98812e-eee2-47e0-9368-da492023dcf2",
   "metadata": {},
   "outputs": [
    {
     "data": {
      "text/plain": [
       "5"
      ]
     },
     "execution_count": 9,
     "metadata": {},
     "output_type": "execute_result"
    }
   ],
   "source": [
    "len(List)"
   ]
  },
  {
   "cell_type": "code",
   "execution_count": 10,
   "id": "3f7567c3-7003-4b5b-83be-fb95915cfee5",
   "metadata": {},
   "outputs": [],
   "source": [
    "# length 長さを測る"
   ]
  },
  {
   "cell_type": "code",
   "execution_count": 11,
   "id": "5bd64513-847a-4825-9d81-6c91afe64a63",
   "metadata": {},
   "outputs": [],
   "source": [
    "List.append(\"c\")"
   ]
  },
  {
   "cell_type": "code",
   "execution_count": 12,
   "id": "0812df75-6fd1-4073-942a-f7e8d4d8d9c0",
   "metadata": {},
   "outputs": [],
   "source": [
    "# Listに追加している"
   ]
  },
  {
   "cell_type": "code",
   "execution_count": 13,
   "id": "82064f15-ac21-4316-87c4-067d1dafc697",
   "metadata": {},
   "outputs": [],
   "source": [
    "List2 = []"
   ]
  },
  {
   "cell_type": "code",
   "execution_count": 14,
   "id": "8542b1b8-da0b-4b00-ab9e-40cfddc445de",
   "metadata": {},
   "outputs": [],
   "source": [
    "List2.append(4)"
   ]
  },
  {
   "cell_type": "code",
   "execution_count": 15,
   "id": "41365508-888c-4f0e-9b69-2b197a25eca5",
   "metadata": {},
   "outputs": [
    {
     "data": {
      "text/plain": [
       "[4]"
      ]
     },
     "execution_count": 15,
     "metadata": {},
     "output_type": "execute_result"
    }
   ],
   "source": [
    "List2"
   ]
  }
 ],
 "metadata": {
  "kernelspec": {
   "display_name": "Python 3 (ipykernel)",
   "language": "python",
   "name": "python3"
  },
  "language_info": {
   "codemirror_mode": {
    "name": "ipython",
    "version": 3
   },
   "file_extension": ".py",
   "mimetype": "text/x-python",
   "name": "python",
   "nbconvert_exporter": "python",
   "pygments_lexer": "ipython3",
   "version": "3.11.4"
  }
 },
 "nbformat": 4,
 "nbformat_minor": 5
}
