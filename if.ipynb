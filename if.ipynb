{
 "cells": [
  {
   "cell_type": "code",
   "execution_count": 1,
   "id": "e550a110-c99c-484a-a866-5eaf93a44cf2",
   "metadata": {},
   "outputs": [],
   "source": [
    "a = 10\n",
    "b = 20"
   ]
  },
  {
   "cell_type": "code",
   "execution_count": 2,
   "id": "919687f4-81bd-4ea5-a2e6-02f18a31b71d",
   "metadata": {},
   "outputs": [
    {
     "name": "stdout",
     "output_type": "stream",
     "text": [
      "aとbは小さいです。\n"
     ]
    }
   ],
   "source": [
    "if a < b:\n",
    "  print(\"aとbは小さいです。\")\n",
    "elif a == b:\n",
    "  print(\"aとbは等しいです。\")\n",
    "else:\n",
    "  print(\"aはbより大きいです。\")"
   ]
  },
  {
   "cell_type": "code",
   "execution_count": null,
   "id": "99b9160e-2e2e-4c59-94f8-d4d70e10b8c0",
   "metadata": {},
   "outputs": [],
   "source": []
  }
 ],
 "metadata": {
  "kernelspec": {
   "display_name": "Python 3 (ipykernel)",
   "language": "python",
   "name": "python3"
  },
  "language_info": {
   "codemirror_mode": {
    "name": "ipython",
    "version": 3
   },
   "file_extension": ".py",
   "mimetype": "text/x-python",
   "name": "python",
   "nbconvert_exporter": "python",
   "pygments_lexer": "ipython3",
   "version": "3.11.4"
  }
 },
 "nbformat": 4,
 "nbformat_minor": 5
}
